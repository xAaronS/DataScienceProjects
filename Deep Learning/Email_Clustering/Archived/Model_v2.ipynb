{
 "cells": [
  {
   "cell_type": "code",
   "execution_count": 1,
   "metadata": {
    "id": "BZehztFbRwOo"
   },
   "outputs": [],
   "source": [
    "from __future__ import absolute_import\n",
    "from __future__ import division\n",
    "from __future__ import print_function\n",
    "\n",
    "import tensorflow as tf\n",
    "import collections\n",
    "import os\n",
    "import random\n",
    "import numpy as np\n",
    "from tqdm import tqdm\n",
    "import sys, email\n",
    "import pandas as pd\n",
    "import math\n",
    "from sklearn.metrics import precision_score, recall_score, f1_score\n",
    "import datetime\n",
    "import matplotlib.pyplot as plt\n",
    "from gensim.models import KeyedVectors\n",
    "from gensim.scripts.glove2word2vec import glove2word2vec\n",
    "import time\n",
    "from sklearn.preprocessing import LabelEncoder\n",
    "from sklearn.model_selection import train_test_split\n",
    "\n",
    "from keras.preprocessing.text import Tokenizer\n",
    "from keras.preprocessing.sequence import pad_sequences\n",
    "from keras.models import Sequential\n",
    "\n",
    "from keras.layers import Dense, LSTM, Flatten, Embedding\n",
    "from tensorflow.keras.utils import to_categorical\n",
    "from keras.backend import clear_session\n"
   ]
  },
  {
   "cell_type": "code",
   "execution_count": 2,
   "metadata": {
    "colab": {
     "base_uri": "https://localhost:8080/"
    },
    "id": "JCtUGbJ6R78_",
    "outputId": "d563de50-3c9d-413b-824b-9cb33b640c44"
   },
   "outputs": [
    {
     "name": "stdout",
     "output_type": "stream",
     "text": [
      "Mounted at /content/drive\n"
     ]
    }
   ],
   "source": [
    "from google.colab import drive\n",
    "drive.mount('/content/drive')"
   ]
  },
  {
   "cell_type": "code",
   "execution_count": 37,
   "metadata": {
    "id": "h7lOe9jxR9oB"
   },
   "outputs": [],
   "source": [
    "project_path = '/content/drive/MyDrive/MMA/'\n",
    " "
   ]
  },
  {
   "cell_type": "code",
   "execution_count": 38,
   "metadata": {
    "id": "dm5ys8rsR-EB"
   },
   "outputs": [],
   "source": [
    "emails_df2 = pd.read_csv(project_path + 'enron_classification_df.csv') \n",
    "########## For people running locally#####\n",
    "#emails_df2 = pd.read_csv('enron_classification_df.csv') "
   ]
  },
  {
   "cell_type": "code",
   "execution_count": 39,
   "metadata": {
    "id": "b7-mVE5USdGp"
   },
   "outputs": [],
   "source": [
    "emails_df2 = emails_df2.drop(['group_LEGAL','group_COMMUICATIONS','group_SECURITY_SPAM_ALERTS','group_SUPPORT','group_ENERGY_DESK','group_SALES_DEPARTMENT','subject_length', 'subject_word_count','content_length','content_word_count','is_AM','is_weekday'], axis=1)"
   ]
  },
  {
   "cell_type": "code",
   "execution_count": 40,
   "metadata": {
    "id": "Y3Drw1UqSrz0"
   },
   "outputs": [],
   "source": [
    "emails_df2 = emails_df2[:50000]"
   ]
  },
  {
   "cell_type": "code",
   "execution_count": 7,
   "metadata": {
    "colab": {
     "base_uri": "https://localhost:8080/"
    },
    "id": "d3G19BHWTYV4",
    "outputId": "91b4b945-9b03-4187-f3ea-0db7e2842cad"
   },
   "outputs": [
    {
     "data": {
      "text/plain": [
       "array([3, 1, 4, 5, 0, 2])"
      ]
     },
     "execution_count": 7,
     "metadata": {},
     "output_type": "execute_result"
    }
   ],
   "source": [
    "emails_df2['outcome'].unique()"
   ]
  },
  {
   "cell_type": "code",
   "execution_count": 8,
   "metadata": {
    "colab": {
     "base_uri": "https://localhost:8080/"
    },
    "id": "XFaE5t3VWthN",
    "outputId": "495d877f-bdcc-43a4-94de-560021af9c4b"
   },
   "outputs": [
    {
     "name": "stdout",
     "output_type": "stream",
     "text": [
      "--2022-03-25 06:37:43--  http://nlp.stanford.edu/data/glove.6B.zip\n",
      "Resolving nlp.stanford.edu (nlp.stanford.edu)... 171.64.67.140\n",
      "Connecting to nlp.stanford.edu (nlp.stanford.edu)|171.64.67.140|:80... connected.\n",
      "HTTP request sent, awaiting response... 302 Found\n",
      "Location: https://nlp.stanford.edu/data/glove.6B.zip [following]\n",
      "--2022-03-25 06:37:43--  https://nlp.stanford.edu/data/glove.6B.zip\n",
      "Connecting to nlp.stanford.edu (nlp.stanford.edu)|171.64.67.140|:443... connected.\n",
      "HTTP request sent, awaiting response... 301 Moved Permanently\n",
      "Location: http://downloads.cs.stanford.edu/nlp/data/glove.6B.zip [following]\n",
      "--2022-03-25 06:37:44--  http://downloads.cs.stanford.edu/nlp/data/glove.6B.zip\n",
      "Resolving downloads.cs.stanford.edu (downloads.cs.stanford.edu)... 171.64.64.22\n",
      "Connecting to downloads.cs.stanford.edu (downloads.cs.stanford.edu)|171.64.64.22|:80... connected.\n",
      "HTTP request sent, awaiting response... 200 OK\n",
      "Length: 862182613 (822M) [application/zip]\n",
      "Saving to: ‘glove.6B.zip’\n",
      "\n",
      "glove.6B.zip        100%[===================>] 822.24M  5.08MB/s    in 2m 40s  \n",
      "\n",
      "2022-03-25 06:40:24 (5.14 MB/s) - ‘glove.6B.zip’ saved [862182613/862182613]\n",
      "\n"
     ]
    }
   ],
   "source": [
    "####################################################################\n",
    "#Download Glove \n",
    "####################################################################\n",
    "!wget http://nlp.stanford.edu/data/glove.6B.zip\n",
    "!unzip -q glove.6B.zip"
   ]
  },
  {
   "cell_type": "code",
   "execution_count": 11,
   "metadata": {
    "colab": {
     "base_uri": "https://localhost:8080/"
    },
    "id": "175NGK1xYJHA",
    "outputId": "c21d7c1c-7cb1-45cd-b76b-9cea49bf2887"
   },
   "outputs": [
    {
     "name": "stdout",
     "output_type": "stream",
     "text": [
      "--2022-03-25 06:40:57--  https://s3.amazonaws.com/dl4j-distribution/GoogleNews-vectors-negative300.bin.gz\n",
      "Resolving s3.amazonaws.com (s3.amazonaws.com)... 52.217.88.14\n",
      "Connecting to s3.amazonaws.com (s3.amazonaws.com)|52.217.88.14|:443... connected.\n",
      "HTTP request sent, awaiting response... 206 Partial Content\n",
      "Length: 1647046227 (1.5G), 1423333602 (1.3G) remaining [application/x-gzip]\n",
      "Saving to: ‘/root/input/GoogleNews-vectors-negative300.bin.gz’\n",
      "\n",
      "GoogleNews-vectors- 100%[++=================>]   1.53G  60.1MB/s    in 26s     \n",
      "\n",
      "2022-03-25 06:41:23 (53.2 MB/s) - ‘/root/input/GoogleNews-vectors-negative300.bin.gz’ saved [1647046227/1647046227]\n",
      "\n"
     ]
    }
   ],
   "source": [
    "!wget -P /root/input/ -c \"https://s3.amazonaws.com/dl4j-distribution/GoogleNews-vectors-negative300.bin.gz\""
   ]
  },
  {
   "cell_type": "code",
   "execution_count": 12,
   "metadata": {
    "colab": {
     "base_uri": "https://localhost:8080/"
    },
    "id": "SqMKuOjQX9ic",
    "outputId": "6ab5daae-5bff-4916-d242-c0707db58e26"
   },
   "outputs": [
    {
     "name": "stdout",
     "output_type": "stream",
     "text": [
      "Load time (seconds):  130.39518809318542\n"
     ]
    }
   ],
   "source": [
    "start = time.time()\n",
    "EMBEDDING_FILE = '/root/input/GoogleNews-vectors-negative300.bin.gz'\n",
    "google_embeddings = KeyedVectors.load_word2vec_format(EMBEDDING_FILE, binary=True)\n",
    "print(\"Load time (seconds): \", (time.time() - start))"
   ]
  },
  {
   "cell_type": "code",
   "execution_count": 13,
   "metadata": {
    "id": "KGUc1Vn_cRj5"
   },
   "outputs": [],
   "source": [
    "# ########## People Running Locally############\n",
    "# start = time.time()\n",
    "# EMBEDDING_FILE = 'GoogleNews-vectors-negative300.bin.gz'\n",
    "# google_embeddings = KeyedVectors.load_word2vec_format(EMBEDDING_FILE, binary=True)\n",
    "# print(\"Load time (seconds): \", (time.time() - start))"
   ]
  },
  {
   "cell_type": "code",
   "execution_count": 14,
   "metadata": {
    "colab": {
     "base_uri": "https://localhost:8080/"
    },
    "id": "4zTLAZ_LWkph",
    "outputId": "35546977-479e-40a3-db38-80528c79face"
   },
   "outputs": [
    {
     "data": {
      "text/plain": [
       "(400000, 300)"
      ]
     },
     "execution_count": 14,
     "metadata": {},
     "output_type": "execute_result"
    }
   ],
   "source": [
    "# load Stanford's pre-trained GloVe embeddings\n",
    "glove_file = \"glove.6B.300d.txt\"\n",
    "glove_word2vec_file = \"glove.6B.100d.txt.word2vec\"\n",
    "\n",
    "glove2word2vec(glove_file, glove_word2vec_file)"
   ]
  },
  {
   "cell_type": "code",
   "execution_count": 15,
   "metadata": {
    "colab": {
     "base_uri": "https://localhost:8080/"
    },
    "id": "fkivgb2BXEC4",
    "outputId": "0b0d811d-26dd-4094-f000-cdeb07288213"
   },
   "outputs": [
    {
     "name": "stdout",
     "output_type": "stream",
     "text": [
      "Load time (seconds):  62.380210161209106\n"
     ]
    }
   ],
   "source": [
    "# glove embeddings\n",
    "start = time.time()\n",
    "\n",
    "glove_embeddings = KeyedVectors.load_word2vec_format(glove_word2vec_file, binary=False)\n",
    "\n",
    "print(\"Load time (seconds): \", (time.time() - start))"
   ]
  },
  {
   "cell_type": "code",
   "execution_count": 41,
   "metadata": {
    "id": "gf068rZDS54p"
   },
   "outputs": [],
   "source": [
    "def label_encoder(data):\n",
    "    class_le = LabelEncoder()\n",
    "    # apply label encoder on the 'outcome' column\n",
    "    y = class_le.fit_transform(emails_df2['outcome'])\n",
    "    return y"
   ]
  },
  {
   "cell_type": "code",
   "execution_count": 42,
   "metadata": {
    "colab": {
     "base_uri": "https://localhost:8080/"
    },
    "id": "73EpHRJBTJw8",
    "outputId": "e381ff30-c4ca-4df1-9259-3adaa65a8626"
   },
   "outputs": [
    {
     "data": {
      "text/plain": [
       "0                                [' here is our forecast']\n",
       "1        [' traveling to have a business meeting takes ...\n",
       "2                       ['test test successful way to go']\n",
       "3        [' randy can you send me a schedule of the sal...\n",
       "4        [' please cc the following distribution list w...\n",
       "                               ...                        \n",
       "49995    ['cash out analysis i consider the no notice t...\n",
       "49996    ['meeting with rod hayslett please coordinate ...\n",
       "49997    ['draft order no filing another concern i have...\n",
       "49998    ['restated capex plan don i would like to see ...\n",
       "49999    ['restated capex plan rod i received dons memo...\n",
       "Name: raw_text, Length: 50000, dtype: object"
      ]
     },
     "execution_count": 42,
     "metadata": {},
     "output_type": "execute_result"
    }
   ],
   "source": [
    "emails_df2['raw_text']"
   ]
  },
  {
   "cell_type": "code",
   "execution_count": 43,
   "metadata": {
    "id": "zoxQtesuTA_q"
   },
   "outputs": [],
   "source": [
    "y = label_encoder(emails_df2)\n",
    "input_data = emails_df2['raw_text']"
   ]
  },
  {
   "cell_type": "code",
   "execution_count": 44,
   "metadata": {
    "id": "s-r0tUj5Tsjj"
   },
   "outputs": [],
   "source": [
    "# split the data into training and test set\n",
    "X_train, X_test, y_train, y_test = train_test_split(input_data, y, test_size=0.2)"
   ]
  },
  {
   "cell_type": "code",
   "execution_count": 45,
   "metadata": {
    "id": "JOIVAm-WTtvy"
   },
   "outputs": [],
   "source": [
    "# one-hot encode the output labels\n",
    "Y_train = to_categorical(y_train, 6)\n",
    "Y_test = to_categorical(y_test, 6)"
   ]
  },
  {
   "cell_type": "code",
   "execution_count": 46,
   "metadata": {
    "colab": {
     "base_uri": "https://localhost:8080/"
    },
    "id": "-gNikmDB4j3W",
    "outputId": "f542efad-77dc-490b-cd10-a54cced5e37a"
   },
   "outputs": [
    {
     "data": {
      "text/plain": [
       "4260              ['utilites heffner a little bullish eh']\n",
       "37746    ['alert posted pm december cgc interruptible n...\n",
       "31051    ['nng card list by team see the attached for t...\n",
       "40906    ['wgr responsibility for gomez facility charli...\n",
       "16495    ['new p l the new p l is in the following dire...\n",
       "                               ...                        \n",
       "16021    [' it lasts until i become sweet or you admit ...\n",
       "23998    ['weekly report july dear all please click int...\n",
       "8278     ['caiso notice august distributed generation m...\n",
       "40756    ['pjm emc pjm west day ahead market trials see...\n",
       "49695    ['confirm date liz could you please confirm yo...\n",
       "Name: raw_text, Length: 10000, dtype: object"
      ]
     },
     "execution_count": 46,
     "metadata": {},
     "output_type": "execute_result"
    }
   ],
   "source": [
    "X_test"
   ]
  },
  {
   "cell_type": "code",
   "execution_count": 47,
   "metadata": {
    "id": "Y-pFKqXdT52N"
   },
   "outputs": [],
   "source": [
    "# prepare tokenizer\n",
    "t = Tokenizer()\n",
    "\n",
    "# fit the tokenizer on the docs\n",
    "t.fit_on_texts(input_data)\n",
    "vocab_size = len(t.word_index) + 1\n",
    "\n",
    "# integer encode the documents\n",
    "X_train_encoded_docs = t.texts_to_sequences(X_train)\n",
    "X_test_encoded_docs = t.texts_to_sequences(X_test)"
   ]
  },
  {
   "cell_type": "code",
   "execution_count": 48,
   "metadata": {
    "colab": {
     "base_uri": "https://localhost:8080/"
    },
    "id": "1kCArclUT8SP",
    "outputId": "afb36b17-10bc-4b72-9abe-dba79db13cff"
   },
   "outputs": [
    {
     "name": "stdout",
     "output_type": "stream",
     "text": [
      "[ 3959  3762    53     5     1  1271  1977    14  5011     2  1422  1084\n",
      "   138     2  2503    15    14    18   100   334  4805     2 10827    14\n",
      "   177    16    18 12023    24   258    76    96 21752  5559   429   626\n",
      "     8     1  1086     7     3   416     1  2760  1095  1271  7277   962\n",
      "  1271  7277   962     1    80  1460     7    16   953    13   768     3\n",
      "  1457  3614    80   488   131     8     1  1125    28  1516     2  2445\n",
      "    30    13  1735    53  4567   192   812  3230    28  1470     5    16\n",
      "   953    13  1497    32    11    23   278    16   953     7  1179    39\n",
      "   160     1  1434   967    30    13    48   556    15    38  2060    25\n",
      "   488     8     3   112    17   493     8   104  2062   131    16  9528\n",
      "   100  3361    15    16   101    59    44    72 10705    29 13117     8\n",
      "     1  3434     5  1076  5736  3438    42  3438    10  6652  3438    10\n",
      "  1271  7277   962  1271  7277  2984]\n"
     ]
    }
   ],
   "source": [
    "# pad documents to a max length of 150 words\n",
    "max_length = 150\n",
    "X_train_padded_docs = pad_sequences(X_train_encoded_docs, maxlen=max_length, padding='post')\n",
    "X_test_padded_docs = pad_sequences(X_test_encoded_docs, maxlen=max_length, padding='post')\n",
    "\n",
    "print(X_train_padded_docs[0])"
   ]
  },
  {
   "cell_type": "markdown",
   "metadata": {
    "id": "GJrgB9ReT-2l"
   },
   "source": [
    "Word 2 Vec "
   ]
  },
  {
   "cell_type": "code",
   "execution_count": 49,
   "metadata": {
    "id": "oG4WS8BkUAkW"
   },
   "outputs": [],
   "source": [
    "# create a weight matrix for words in training docs\n",
    "embedding_matrix = np.zeros((vocab_size, 300))\n",
    "\n",
    "for word, i in t.word_index.items():\n",
    "    \n",
    "    try:\n",
    "        embedding_vector = google_embeddings[word]\n",
    "    \n",
    "        if embedding_vector is not None:\n",
    "            embedding_matrix[i] = embedding_vector \n",
    "    except:\n",
    "        pass"
   ]
  },
  {
   "cell_type": "code",
   "execution_count": 50,
   "metadata": {
    "colab": {
     "base_uri": "https://localhost:8080/"
    },
    "id": "ovhQc6LCUCDh",
    "outputId": "968f0dd2-a0f9-4de7-9daf-c8c89574a5d2"
   },
   "outputs": [
    {
     "name": "stdout",
     "output_type": "stream",
     "text": [
      "Model: \"sequential_1\"\n",
      "_________________________________________________________________\n",
      " Layer (type)                Output Shape              Param #   \n",
      "=================================================================\n",
      " embedding_1 (Embedding)     (None, 150, 300)          39264300  \n",
      "                                                                 \n",
      " lstm_1 (LSTM)               (None, 100)               160400    \n",
      "                                                                 \n",
      " flatten_1 (Flatten)         (None, 100)               0         \n",
      "                                                                 \n",
      " dense_1 (Dense)             (None, 6)                 606       \n",
      "                                                                 \n",
      "=================================================================\n",
      "Total params: 39,425,306\n",
      "Trainable params: 161,006\n",
      "Non-trainable params: 39,264,300\n",
      "_________________________________________________________________\n"
     ]
    }
   ],
   "source": [
    "# define the model\n",
    "model = Sequential()\n",
    "e = Embedding(vocab_size, 300, weights=[embedding_matrix], input_length=max_length, trainable=False)\n",
    "model.add(e)\n",
    "model.add(LSTM(100, dropout=0.2))\n",
    "model.add(Flatten())\n",
    "model.add(Dense(6, activation='softmax'))\n",
    "\n",
    "\n",
    "# compile the model\n",
    "model.compile(optimizer='adam', loss='categorical_crossentropy', metrics=['accuracy'])\n",
    "\n",
    "# summarize the model\n",
    "model.summary()"
   ]
  },
  {
   "cell_type": "code",
   "execution_count": 51,
   "metadata": {
    "id": "7BggTLokUD6L"
   },
   "outputs": [],
   "source": [
    "clear_session()"
   ]
  },
  {
   "cell_type": "code",
   "execution_count": 52,
   "metadata": {
    "colab": {
     "base_uri": "https://localhost:8080/"
    },
    "id": "byadsKKhUFrk",
    "outputId": "a51cad7a-04a7-447a-9d70-002581d06f22"
   },
   "outputs": [
    {
     "name": "stdout",
     "output_type": "stream",
     "text": [
      "Epoch 1/10\n",
      "1000/1000 [==============================] - 12s 10ms/step - loss: 0.9420 - accuracy: 0.6521 - val_loss: 0.8932 - val_accuracy: 0.6825\n",
      "Epoch 2/10\n",
      "1000/1000 [==============================] - 10s 10ms/step - loss: 0.8602 - accuracy: 0.7047 - val_loss: 0.7803 - val_accuracy: 0.7368\n",
      "Epoch 3/10\n",
      "1000/1000 [==============================] - 9s 9ms/step - loss: 0.7358 - accuracy: 0.7465 - val_loss: 0.6734 - val_accuracy: 0.7635\n",
      "Epoch 4/10\n",
      "1000/1000 [==============================] - 9s 9ms/step - loss: 0.6361 - accuracy: 0.7772 - val_loss: 0.5927 - val_accuracy: 0.7860\n",
      "Epoch 5/10\n",
      "1000/1000 [==============================] - 9s 9ms/step - loss: 0.5559 - accuracy: 0.8036 - val_loss: 0.5367 - val_accuracy: 0.8008\n",
      "Epoch 6/10\n",
      "1000/1000 [==============================] - 9s 9ms/step - loss: 0.4889 - accuracy: 0.8271 - val_loss: 0.4865 - val_accuracy: 0.8213\n",
      "Epoch 7/10\n",
      "1000/1000 [==============================] - 9s 9ms/step - loss: 0.4361 - accuracy: 0.8457 - val_loss: 0.4448 - val_accuracy: 0.8404\n",
      "Epoch 8/10\n",
      "1000/1000 [==============================] - 9s 9ms/step - loss: 0.3848 - accuracy: 0.8652 - val_loss: 0.4135 - val_accuracy: 0.8544\n",
      "Epoch 9/10\n",
      "1000/1000 [==============================] - 9s 9ms/step - loss: 0.3461 - accuracy: 0.8782 - val_loss: 0.4082 - val_accuracy: 0.8624\n",
      "Epoch 10/10\n",
      "1000/1000 [==============================] - 9s 9ms/step - loss: 0.3121 - accuracy: 0.8928 - val_loss: 0.3953 - val_accuracy: 0.8670\n"
     ]
    }
   ],
   "source": [
    "# train the model\n",
    "clear_session()\n",
    "history = model.fit(X_train_padded_docs, Y_train, epochs=10, verbose=1, validation_split=0.2)"
   ]
  },
  {
   "cell_type": "code",
   "execution_count": 53,
   "metadata": {
    "colab": {
     "base_uri": "https://localhost:8080/"
    },
    "id": "FgLT1C57UUWr",
    "outputId": "c504c02a-1036-46b5-963e-8ad243f2b6f3"
   },
   "outputs": [
    {
     "name": "stdout",
     "output_type": "stream",
     "text": [
      "313/313 [==============================] - 2s 5ms/step - loss: 0.3993 - accuracy: 0.8697\n",
      "Test Set: \n",
      " Loss: 0.399\n",
      " Accuracy: 0.870\n"
     ]
    }
   ],
   "source": [
    "# evaluate the model on the test set\n",
    "accr = model.evaluate(X_test_padded_docs, Y_test)\n",
    "print(\"Test Set: \\n Loss: {:0.3f}\\n Accuracy: {:0.3f}\".format(accr[0], accr[1]))"
   ]
  },
  {
   "cell_type": "code",
   "execution_count": 54,
   "metadata": {
    "colab": {
     "base_uri": "https://localhost:8080/",
     "height": 281
    },
    "id": "_IJtNVfXUU9r",
    "outputId": "28be9953-b33e-4c9f-b57d-3ce6becafbb0"
   },
   "outputs": [
    {
     "data": {
      "image/png": "[encoded data removed]",
      "text/plain": [
       "<Figure size 432x288 with 1 Axes>"
      ]
     },
     "metadata": {
      "needs_background": "light"
     },
     "output_type": "display_data"
    }
   ],
   "source": [
    "# plot the loss\n",
    "plt.title(\"Word2Vec Loss\")\n",
    "plt.plot(history.history['loss'], label='train')\n",
    "plt.plot(history.history['val_loss'], label='validation')\n",
    "plt.legend()\n",
    "plt.show()"
   ]
  },
  {
   "cell_type": "code",
   "execution_count": 55,
   "metadata": {
    "colab": {
     "base_uri": "https://localhost:8080/",
     "height": 295
    },
    "id": "GAEE_BazUWP4",
    "outputId": "2a132505-247b-4ac0-8461-86e819b8218c"
   },
   "outputs": [
    {
     "data": {
      "image/png": "[encoded data removed]",
      "text/plain": [
       "<Figure size 432x288 with 1 Axes>"
      ]
     },
     "metadata": {
      "needs_background": "light"
     },
     "output_type": "display_data"
    }
   ],
   "source": [
    "# plot the accuracy\n",
    "plt.title(\"Word2Vec Accuracy\")\n",
    "plt.plot(history.history['accuracy'], label='train')\n",
    "plt.plot(history.history['val_accuracy'], label='validation')\n",
    "plt.legend()\n",
    "plt.xlabel('Epochs')\n",
    "plt.ylabel(\"Accuracy\")\n",
    "plt.show()"
   ]
  },
  {
   "cell_type": "markdown",
   "metadata": {
    "id": "ynh_ODxGUYqc"
   },
   "source": [
    "Glove Dataset"
   ]
  },
  {
   "cell_type": "code",
   "execution_count": 56,
   "metadata": {
    "id": "NFPMl6w3UZtv"
   },
   "outputs": [],
   "source": [
    "# create a weight matrix for words in training docs\n",
    "embedding_matrix = np.zeros((vocab_size, 300))\n",
    "\n",
    "for word, i in t.word_index.items():\n",
    "    \n",
    "    try:\n",
    "        embedding_vector = glove_embeddings[word]\n",
    "    \n",
    "        if embedding_vector is not None:\n",
    "            embedding_matrix[i] = embedding_vector \n",
    "    except:\n",
    "        pass"
   ]
  },
  {
   "cell_type": "code",
   "execution_count": 57,
   "metadata": {
    "colab": {
     "base_uri": "https://localhost:8080/"
    },
    "id": "Hplt-ol8UbyX",
    "outputId": "89ca7d52-067e-458c-f54e-7afdd989429a"
   },
   "outputs": [
    {
     "name": "stdout",
     "output_type": "stream",
     "text": [
      "Model: \"sequential\"\n",
      "_________________________________________________________________\n",
      " Layer (type)                Output Shape              Param #   \n",
      "=================================================================\n",
      " embedding (Embedding)       (None, 150, 300)          39264300  \n",
      "                                                                 \n",
      " lstm (LSTM)                 (None, 100)               160400    \n",
      "                                                                 \n",
      " flatten (Flatten)           (None, 100)               0         \n",
      "                                                                 \n",
      " dense (Dense)               (None, 6)                 606       \n",
      "                                                                 \n",
      "=================================================================\n",
      "Total params: 39,425,306\n",
      "Trainable params: 161,006\n",
      "Non-trainable params: 39,264,300\n",
      "_________________________________________________________________\n"
     ]
    }
   ],
   "source": [
    "# define the model\n",
    "model2 = Sequential()\n",
    "e = Embedding(vocab_size, 300, weights=[embedding_matrix], input_length=max_length, trainable=False)\n",
    "model2.add(e)\n",
    "model2.add(LSTM(100, dropout=0.2))\n",
    "model2.add(Flatten())\n",
    "model2.add(Dense(6, activation='softmax'))\n",
    "\n",
    "\n",
    "# compile the model\n",
    "model2.compile(optimizer='adam', loss='categorical_crossentropy', metrics=['accuracy'])\n",
    "\n",
    "# summarize the model\n",
    "model2.summary()"
   ]
  },
  {
   "cell_type": "code",
   "execution_count": 58,
   "metadata": {
    "colab": {
     "base_uri": "https://localhost:8080/"
    },
    "id": "Fx3Lx6uwUdcy",
    "outputId": "b1ae1021-8896-4cb9-8233-9c7bc7542b62"
   },
   "outputs": [
    {
     "name": "stdout",
     "output_type": "stream",
     "text": [
      "Epoch 1/10\n",
      "1000/1000 [==============================] - 11s 10ms/step - loss: 0.9323 - accuracy: 0.6509 - val_loss: 0.8904 - val_accuracy: 0.6668\n",
      "Epoch 2/10\n",
      "1000/1000 [==============================] - 9s 9ms/step - loss: 0.8231 - accuracy: 0.7057 - val_loss: 0.7437 - val_accuracy: 0.7264\n",
      "Epoch 3/10\n",
      "1000/1000 [==============================] - 9s 9ms/step - loss: 0.6616 - accuracy: 0.7672 - val_loss: 0.6041 - val_accuracy: 0.7854\n",
      "Epoch 4/10\n",
      "1000/1000 [==============================] - 9s 9ms/step - loss: 0.5465 - accuracy: 0.8112 - val_loss: 0.5107 - val_accuracy: 0.8195\n",
      "Epoch 5/10\n",
      "1000/1000 [==============================] - 9s 9ms/step - loss: 0.4596 - accuracy: 0.8402 - val_loss: 0.4696 - val_accuracy: 0.8397\n",
      "Epoch 6/10\n",
      "1000/1000 [==============================] - 9s 9ms/step - loss: 0.3918 - accuracy: 0.8644 - val_loss: 0.4236 - val_accuracy: 0.8536\n",
      "Epoch 7/10\n",
      "1000/1000 [==============================] - 9s 9ms/step - loss: 0.3372 - accuracy: 0.8837 - val_loss: 0.4052 - val_accuracy: 0.8596\n",
      "Epoch 8/10\n",
      "1000/1000 [==============================] - 9s 9ms/step - loss: 0.2947 - accuracy: 0.8972 - val_loss: 0.3719 - val_accuracy: 0.8771\n",
      "Epoch 9/10\n",
      "1000/1000 [==============================] - 9s 9ms/step - loss: 0.2545 - accuracy: 0.9109 - val_loss: 0.3715 - val_accuracy: 0.8785\n",
      "Epoch 10/10\n",
      "1000/1000 [==============================] - 9s 9ms/step - loss: 0.2254 - accuracy: 0.9220 - val_loss: 0.3489 - val_accuracy: 0.8898\n"
     ]
    }
   ],
   "source": [
    "# fit the model\n",
    "history2 = model2.fit(X_train_padded_docs, Y_train, epochs=10, verbose=1, validation_split=0.2)"
   ]
  },
  {
   "cell_type": "code",
   "execution_count": 59,
   "metadata": {
    "colab": {
     "base_uri": "https://localhost:8080/"
    },
    "id": "WZQy0oxVUetB",
    "outputId": "7fbc6b8c-6e61-4be4-f94d-ef11f711fef6"
   },
   "outputs": [
    {
     "name": "stdout",
     "output_type": "stream",
     "text": [
      "313/313 [==============================] - 2s 5ms/step - loss: 0.3661 - accuracy: 0.8886\n",
      "Test Set: \n",
      " Loss: 0.366\n",
      " Accuracy: 0.889\n"
     ]
    }
   ],
   "source": [
    "# evaluate the model2 on the test set\n",
    "accr2 = model2.evaluate(X_test_padded_docs, Y_test)\n",
    "print(\"Test Set: \\n Loss: {:0.3f}\\n Accuracy: {:0.3f}\".format(accr2[0], accr2[1]))"
   ]
  },
  {
   "cell_type": "code",
   "execution_count": 60,
   "metadata": {
    "colab": {
     "base_uri": "https://localhost:8080/",
     "height": 295
    },
    "id": "Ge7USBqHUf6E",
    "outputId": "6276dca4-6dd1-4fef-9cd1-d5f1a09ab0eb"
   },
   "outputs": [
    {
     "data": {
      "image/png": "[encoded data removed]",
      "text/plain": [
       "<Figure size 432x288 with 1 Axes>"
      ]
     },
     "metadata": {
      "needs_background": "light"
     },
     "output_type": "display_data"
    }
   ],
   "source": [
    "# plot the loss\n",
    "plt.title(\"Glove Word2Vec Loss\")\n",
    "plt.plot(history2.history['loss'], label='train')\n",
    "plt.plot(history2.history['val_loss'], label='validation')\n",
    "plt.legend()\n",
    "plt.xlabel(\"Epochs\")\n",
    "plt.ylabel(\"loss\")\n",
    "plt.show()"
   ]
  },
  {
   "cell_type": "code",
   "execution_count": 61,
   "metadata": {
    "colab": {
     "base_uri": "https://localhost:8080/",
     "height": 295
    },
    "id": "lg11iZ9FUhgc",
    "outputId": "2455d679-a657-4c3e-c97c-956f2b05d31f"
   },
   "outputs": [
    {
     "data": {
      "image/png": "[encoded data removed]",
      "text/plain": [
       "<Figure size 432x288 with 1 Axes>"
      ]
     },
     "metadata": {
      "needs_background": "light"
     },
     "output_type": "display_data"
    }
   ],
   "source": [
    "# plot the accuracy\n",
    "plt.title(\"GloVe Word2Vec Accuracy\")\n",
    "plt.plot(history2.history['accuracy'], label='train')\n",
    "plt.plot(history2.history['val_accuracy'], label='validation')\n",
    "plt.legend()\n",
    "plt.xlabel('Epochs')\n",
    "plt.ylabel(\"Accuracy\")\n",
    "plt.show()"
   ]
  },
  {
   "cell_type": "markdown",
   "metadata": {
    "id": "gYZPxOZiUthE"
   },
   "source": [
    "Using Glove Embeddings"
   ]
  },
  {
   "cell_type": "code",
   "execution_count": 62,
   "metadata": {
    "colab": {
     "base_uri": "https://localhost:8080/"
    },
    "id": "uW6_46mZUjOR",
    "outputId": "9e7f8393-a08b-4b71-fe72-f959d7f3efd5"
   },
   "outputs": [
    {
     "name": "stdout",
     "output_type": "stream",
     "text": [
      "Model: \"sequential_1\"\n",
      "_________________________________________________________________\n",
      " Layer (type)                Output Shape              Param #   \n",
      "=================================================================\n",
      " embedding_1 (Embedding)     (None, 150, 300)          39264300  \n",
      "                                                                 \n",
      " lstm_1 (LSTM)               (None, 100)               160400    \n",
      "                                                                 \n",
      " flatten_1 (Flatten)         (None, 100)               0         \n",
      "                                                                 \n",
      " dense_1 (Dense)             (None, 6)                 606       \n",
      "                                                                 \n",
      "=================================================================\n",
      "Total params: 39,425,306\n",
      "Trainable params: 39,425,306\n",
      "Non-trainable params: 0\n",
      "_________________________________________________________________\n"
     ]
    }
   ],
   "source": [
    "# define the model\n",
    "model3 = Sequential()\n",
    "model3.add(Embedding(vocab_size, 300, input_length=max_length))\n",
    "model3.add(LSTM(100, dropout=0.4))\n",
    "model3.add(Flatten())\n",
    "model3.add(Dense(6, activation='softmax'))\n",
    "\n",
    "# compile the model\n",
    "model3.compile(optimizer='adam', loss='categorical_crossentropy', metrics=['accuracy'])\n",
    "\n",
    "# summarize the model\n",
    "model3.summary()"
   ]
  },
  {
   "cell_type": "code",
   "execution_count": 63,
   "metadata": {
    "colab": {
     "base_uri": "https://localhost:8080/"
    },
    "id": "BsWd_oPTUmOp",
    "outputId": "e78a7550-fb2a-4e36-ca22-6114da4d0204"
   },
   "outputs": [
    {
     "name": "stdout",
     "output_type": "stream",
     "text": [
      "Epoch 1/10\n",
      "1000/1000 [==============================] - 22s 20ms/step - loss: 0.8813 - accuracy: 0.6836 - val_loss: 0.6646 - val_accuracy: 0.7925\n",
      "Epoch 2/10\n",
      "1000/1000 [==============================] - 20s 20ms/step - loss: 0.4889 - accuracy: 0.8525 - val_loss: 0.4538 - val_accuracy: 0.8604\n",
      "Epoch 3/10\n",
      "1000/1000 [==============================] - 20s 20ms/step - loss: 0.2808 - accuracy: 0.9129 - val_loss: 0.3881 - val_accuracy: 0.8857\n",
      "Epoch 4/10\n",
      "1000/1000 [==============================] - 20s 20ms/step - loss: 0.1822 - accuracy: 0.9411 - val_loss: 0.3820 - val_accuracy: 0.8988\n",
      "Epoch 5/10\n",
      "1000/1000 [==============================] - 20s 20ms/step - loss: 0.1224 - accuracy: 0.9605 - val_loss: 0.3662 - val_accuracy: 0.9094\n",
      "Epoch 6/10\n",
      "1000/1000 [==============================] - 20s 20ms/step - loss: 0.0813 - accuracy: 0.9731 - val_loss: 0.3683 - val_accuracy: 0.9122\n",
      "Epoch 7/10\n",
      "1000/1000 [==============================] - 20s 20ms/step - loss: 0.0577 - accuracy: 0.9806 - val_loss: 0.3763 - val_accuracy: 0.9185\n",
      "Epoch 8/10\n",
      "1000/1000 [==============================] - 20s 20ms/step - loss: 0.0442 - accuracy: 0.9846 - val_loss: 0.4109 - val_accuracy: 0.9151\n",
      "Epoch 9/10\n",
      "1000/1000 [==============================] - 20s 20ms/step - loss: 0.0360 - accuracy: 0.9864 - val_loss: 0.4111 - val_accuracy: 0.9186\n",
      "Epoch 10/10\n",
      "1000/1000 [==============================] - 20s 20ms/step - loss: 0.0323 - accuracy: 0.9873 - val_loss: 0.4372 - val_accuracy: 0.9181\n"
     ]
    }
   ],
   "source": [
    "# train the model\n",
    "history3 = model3.fit(X_train_padded_docs, Y_train, validation_split=0.2, epochs=10, verbose=1)"
   ]
  },
  {
   "cell_type": "code",
   "execution_count": 64,
   "metadata": {
    "id": "wJwRTYn5Uxmw"
   },
   "outputs": [],
   "source": [
    "# save learned word embeddings\n",
    "own_embeddings = model3.get_layer('embedding_1').get_weights()[0]\n",
    "\n",
    "custom_w2v = {}\n",
    "\n",
    "for word, index in t.word_index.items():\n",
    "    custom_w2v[word] = own_embeddings[index]\n",
    "    \n",
    "import pickle    \n",
    "# save to file\n",
    "with open(\"own_embeddings.pkl\", \"wb\") as handle:\n",
    "    pickle.dump(custom_w2v, handle, protocol=pickle.HIGHEST_PROTOCOL)"
   ]
  },
  {
   "cell_type": "code",
   "execution_count": 65,
   "metadata": {
    "id": "tuljf744U0hF"
   },
   "outputs": [],
   "source": [
    "# load own_embeddings\n",
    "#with open(\"own_embeddings.pkl\", \"rb\") as handle:\n",
    " #   own_embeddings = pickle.load(handle)"
   ]
  },
  {
   "cell_type": "code",
   "execution_count": 66,
   "metadata": {
    "colab": {
     "base_uri": "https://localhost:8080/"
    },
    "id": "ZkO6eBggU3uX",
    "outputId": "5df711b7-9514-4e48-8f28-cbd85068c221"
   },
   "outputs": [
    {
     "name": "stdout",
     "output_type": "stream",
     "text": [
      "313/313 [==============================] - 2s 5ms/step - loss: 0.4549 - accuracy: 0.9178\n",
      "Test Set:\n",
      "  Loss: 0.455\n",
      "   Accuracy: 0.918\n"
     ]
    }
   ],
   "source": [
    "# evaluate the model\n",
    "accr3 = model3.evaluate(X_test_padded_docs, Y_test)\n",
    "\n",
    "print(\"Test Set:\\n  Loss: {:0.3f}\\n   Accuracy: {:0.3f}\".format(accr3[0], accr3[1]))"
   ]
  },
  {
   "cell_type": "code",
   "execution_count": 67,
   "metadata": {
    "colab": {
     "base_uri": "https://localhost:8080/",
     "height": 295
    },
    "id": "ZyhdQE9vU_qK",
    "outputId": "deb75bd8-7958-42dd-9cbe-f71383507603"
   },
   "outputs": [
    {
     "data": {
      "image/png": "[encoded data removed]",
      "text/plain": [
       "<Figure size 432x288 with 1 Axes>"
      ]
     },
     "metadata": {
      "needs_background": "light"
     },
     "output_type": "display_data"
    }
   ],
   "source": [
    "# plot the loss\n",
    "plt.title(\"Loss\")\n",
    "plt.plot(history3.history['loss'], label='train')\n",
    "plt.plot(history3.history['val_loss'], label='validation')\n",
    "plt.legend()\n",
    "plt.xlabel(\"Epochs\")\n",
    "plt.ylabel(\"loss\")\n",
    "plt.show()"
   ]
  },
  {
   "cell_type": "code",
   "execution_count": 68,
   "metadata": {
    "colab": {
     "base_uri": "https://localhost:8080/",
     "height": 295
    },
    "id": "Nalj6GgJVBFL",
    "outputId": "dd4fb3ea-05a9-4be5-b772-3130477a0f6e"
   },
   "outputs": [
    {
     "data": {
      "image/png": "[encoded data removed]",
      "text/plain": [
       "<Figure size 432x288 with 1 Axes>"
      ]
     },
     "metadata": {
      "needs_background": "light"
     },
     "output_type": "display_data"
    }
   ],
   "source": [
    "# plot the accuracy\n",
    "plt.title(\"Accuracy\")\n",
    "plt.plot(history3.history['accuracy'], label='train')\n",
    "plt.plot(history3.history['val_accuracy'], label='validation')\n",
    "plt.legend()\n",
    "plt.xlabel('Epochs')\n",
    "plt.ylabel(\"Accuracy\")\n",
    "plt.show()"
   ]
  },
  {
   "cell_type": "code",
   "execution_count": 69,
   "metadata": {
    "colab": {
     "base_uri": "https://localhost:8080/",
     "height": 143
    },
    "id": "gNgAmC-mVCkX",
    "outputId": "89c33a77-503c-41a2-e431-a50b465ac363"
   },
   "outputs": [
    {
     "data": {
      "text/html": [
       "\n",
       "  <div id=\"df-aa0f57d2-ff79-4bd2-a3dc-e6bf80e93ffe\">\n",
       "    <div class=\"colab-df-container\">\n",
       "      <div>\n",
       "<style scoped>\n",
       "    .dataframe tbody tr th:only-of-type {\n",
       "        vertical-align: middle;\n",
       "    }\n",
       "\n",
       "    .dataframe tbody tr th {\n",
       "        vertical-align: top;\n",
       "    }\n",
       "\n",
       "    .dataframe thead th {\n",
       "        text-align: right;\n",
       "    }\n",
       "</style>\n",
       "<table border=\"1\" class=\"dataframe\">\n",
       "  <thead>\n",
       "    <tr style=\"text-align: right;\">\n",
       "      <th></th>\n",
       "      <th>Technique</th>\n",
       "      <th>test accuracy</th>\n",
       "    </tr>\n",
       "  </thead>\n",
       "  <tbody>\n",
       "    <tr>\n",
       "      <th>0</th>\n",
       "      <td>Word2Vec</td>\n",
       "      <td>0.8697</td>\n",
       "    </tr>\n",
       "    <tr>\n",
       "      <th>1</th>\n",
       "      <td>GloVe</td>\n",
       "      <td>0.8886</td>\n",
       "    </tr>\n",
       "    <tr>\n",
       "      <th>2</th>\n",
       "      <td>Training data Embeddings</td>\n",
       "      <td>0.9178</td>\n",
       "    </tr>\n",
       "  </tbody>\n",
       "</table>\n",
       "</div>\n",
       "      <button class=\"colab-df-convert\" onclick=\"convertToInteractive('df-aa0f57d2-ff79-4bd2-a3dc-e6bf80e93ffe')\"\n",
       "              title=\"Convert this dataframe to an interactive table.\"\n",
       "              style=\"display:none;\">\n",
       "        \n",
       "  <svg xmlns=\"http://www.w3.org/2000/svg\" height=\"24px\"viewBox=\"0 0 24 24\"\n",
       "       width=\"24px\">\n",
       "    <path d=\"M0 0h24v24H0V0z\" fill=\"none\"/>\n",
       "    <path d=\"M18.56 5.44l.94 2.06.94-2.06 2.06-.94-2.06-.94-.94-2.06-.94 2.06-2.06.94zm-11 1L8.5 8.5l.94-2.06 2.06-.94-2.06-.94L8.5 2.5l-.94 2.06-2.06.94zm10 10l.94 2.06.94-2.06 2.06-.94-2.06-.94-.94-2.06-.94 2.06-2.06.94z\"/><path d=\"M17.41 7.96l-1.37-1.37c-.4-.4-.92-.59-1.43-.59-.52 0-1.04.2-1.43.59L10.3 9.45l-7.72 7.72c-.78.78-.78 2.05 0 2.83L4 21.41c.39.39.9.59 1.41.59.51 0 1.02-.2 1.41-.59l7.78-7.78 2.81-2.81c.8-.78.8-2.07 0-2.86zM5.41 20L4 18.59l7.72-7.72 1.47 1.35L5.41 20z\"/>\n",
       "  </svg>\n",
       "      </button>\n",
       "      \n",
       "  <style>\n",
       "    .colab-df-container {\n",
       "      display:flex;\n",
       "      flex-wrap:wrap;\n",
       "      gap: 12px;\n",
       "    }\n",
       "\n",
       "    .colab-df-convert {\n",
       "      background-color: #E8F0FE;\n",
       "      border: none;\n",
       "      border-radius: 50%;\n",
       "      cursor: pointer;\n",
       "      display: none;\n",
       "      fill: #1967D2;\n",
       "      height: 32px;\n",
       "      padding: 0 0 0 0;\n",
       "      width: 32px;\n",
       "    }\n",
       "\n",
       "    .colab-df-convert:hover {\n",
       "      background-color: #E2EBFA;\n",
       "      box-shadow: 0px 1px 2px rgba(60, 64, 67, 0.3), 0px 1px 3px 1px rgba(60, 64, 67, 0.15);\n",
       "      fill: #174EA6;\n",
       "    }\n",
       "\n",
       "    [theme=dark] .colab-df-convert {\n",
       "      background-color: #3B4455;\n",
       "      fill: #D2E3FC;\n",
       "    }\n",
       "\n",
       "    [theme=dark] .colab-df-convert:hover {\n",
       "      background-color: #434B5C;\n",
       "      box-shadow: 0px 1px 3px 1px rgba(0, 0, 0, 0.15);\n",
       "      filter: drop-shadow(0px 1px 2px rgba(0, 0, 0, 0.3));\n",
       "      fill: #FFFFFF;\n",
       "    }\n",
       "  </style>\n",
       "\n",
       "      <script>\n",
       "        const buttonEl =\n",
       "          document.querySelector('#df-aa0f57d2-ff79-4bd2-a3dc-e6bf80e93ffe button.colab-df-convert');\n",
       "        buttonEl.style.display =\n",
       "          google.colab.kernel.accessAllowed ? 'block' : 'none';\n",
       "\n",
       "        async function convertToInteractive(key) {\n",
       "          const element = document.querySelector('#df-aa0f57d2-ff79-4bd2-a3dc-e6bf80e93ffe');\n",
       "          const dataTable =\n",
       "            await google.colab.kernel.invokeFunction('convertToInteractive',\n",
       "                                                     [key], {});\n",
       "          if (!dataTable) return;\n",
       "\n",
       "          const docLinkHtml = 'Like what you see? Visit the ' +\n",
       "            '<a target=\"_blank\" href=https://colab.research.google.com/notebooks/data_table.ipynb>data table notebook</a>'\n",
       "            + ' to learn more about interactive tables.';\n",
       "          element.innerHTML = '';\n",
       "          dataTable['output_type'] = 'display_data';\n",
       "          await google.colab.output.renderOutput(dataTable, element);\n",
       "          const docLink = document.createElement('div');\n",
       "          docLink.innerHTML = docLinkHtml;\n",
       "          element.appendChild(docLink);\n",
       "        }\n",
       "      </script>\n",
       "    </div>\n",
       "  </div>\n",
       "  "
      ],
      "text/plain": [
       "                  Technique  test accuracy\n",
       "0                  Word2Vec         0.8697\n",
       "1                     GloVe         0.8886\n",
       "2  Training data Embeddings         0.9178"
      ]
     },
     "execution_count": 69,
     "metadata": {},
     "output_type": "execute_result"
    }
   ],
   "source": [
    "# create a dataframe to store results\n",
    "res_data = {\n",
    "    \"Technique\": ['Word2Vec', 'GloVe', 'Training data Embeddings'],\n",
    "    \"test accuracy\": [accr[1], accr2[1], accr3[1]]\n",
    "}\n",
    "result = pd.DataFrame(res_data)\n",
    "result"
   ]
  },
  {
   "cell_type": "code",
   "execution_count": 69,
   "metadata": {
    "id": "PgNafN0oVG1d"
   },
   "outputs": [],
   "source": []
  },
  {
   "cell_type": "code",
   "execution_count": 69,
   "metadata": {
    "id": "tnLGSgWpVG3Z"
   },
   "outputs": [],
   "source": []
  },
  {
   "cell_type": "markdown",
   "metadata": {
    "id": "MLQPJ-F-VHd7"
   },
   "source": [
    "Using CNN w Embeddings"
   ]
  },
  {
   "cell_type": "code",
   "execution_count": 70,
   "metadata": {
    "colab": {
     "base_uri": "https://localhost:8080/"
    },
    "id": "y_OGVawXVJpg",
    "outputId": "eb39589c-a767-4c09-e31b-0c314d93b61c"
   },
   "outputs": [
    {
     "data": {
      "text/plain": [
       "raw_text    object\n",
       "outcome      int64\n",
       "dtype: object"
      ]
     },
     "execution_count": 70,
     "metadata": {},
     "output_type": "execute_result"
    }
   ],
   "source": [
    "emails_df2.dtypes"
   ]
  },
  {
   "cell_type": "code",
   "execution_count": 71,
   "metadata": {
    "id": "TtlPtdo-v1rT"
   },
   "outputs": [],
   "source": [
    "samples = []\n",
    "labels = []\n",
    "for index, row in emails_df2.iterrows():\n",
    "    samples.append(row['raw_text'])\n",
    "    labels.append(row['outcome'])\n",
    "\n",
    "                "
   ]
  },
  {
   "cell_type": "code",
   "execution_count": 72,
   "metadata": {
    "colab": {
     "base_uri": "https://localhost:8080/"
    },
    "id": "Hw3OgBZn3Jfk",
    "outputId": "9d2d6eea-75f6-494e-9144-8e10f03cbeb5"
   },
   "outputs": [
    {
     "data": {
      "text/plain": [
       "50000"
      ]
     },
     "execution_count": 72,
     "metadata": {},
     "output_type": "execute_result"
    }
   ],
   "source": [
    "len(samples)"
   ]
  },
  {
   "cell_type": "code",
   "execution_count": 73,
   "metadata": {
    "id": "7oU7wkj0x8sD"
   },
   "outputs": [],
   "source": [
    "#Limiting the samples to 30,000 because thats as much colab can handle\n",
    "#samples = samples[:30000]\n",
    "#labels = labels[:30000]"
   ]
  },
  {
   "cell_type": "code",
   "execution_count": 74,
   "metadata": {
    "id": "VP092AGxv5ia"
   },
   "outputs": [],
   "source": [
    "# Shuffle the data\n",
    "seed = 1337\n",
    "rng = np.random.RandomState(seed)\n",
    "rng.shuffle(samples)\n",
    "rng = np.random.RandomState(seed)\n",
    "rng.shuffle(labels)\n",
    "\n",
    "# Extract a training & validation split\n",
    "validation_split = 0.2\n",
    "num_validation_samples = int(validation_split * len(samples))\n",
    "train_samples = samples[:-num_validation_samples]\n",
    "val_samples = samples[-num_validation_samples:]\n",
    "train_labels = labels[:-num_validation_samples]\n",
    "val_labels = labels[-num_validation_samples:]"
   ]
  },
  {
   "cell_type": "code",
   "execution_count": 75,
   "metadata": {
    "colab": {
     "base_uri": "https://localhost:8080/"
    },
    "id": "oFpbIDQ04DPl",
    "outputId": "16ae7496-7e7e-41ea-ab5e-c85d2ba26e95"
   },
   "outputs": [
    {
     "data": {
      "text/plain": [
       "39953    ['aerials larry unfortunately there does not a...\n",
       "21129    ['india trading bill upon ricks request i have...\n",
       "39706    ['mw dec cap for emergency exempt for edrp mar...\n",
       "13602    ['fwd media designed fair ballot to mbrown ect...\n",
       "46904    ['japanese labor law memorandum twanda please ...\n",
       "                               ...                        \n",
       "36073     ['minutes please see attached thanks donna doc']\n",
       "10781    [' there is not enough data on it to make an e...\n",
       "10795    ['game tonight i dont know the ymcas policy on...\n",
       "31299    ['old shipper reports sheila please add relian...\n",
       "23356    ['lite bytz rsvp this weeks lite bytz presenta...\n",
       "Name: raw_text, Length: 40000, dtype: object"
      ]
     },
     "execution_count": 75,
     "metadata": {},
     "output_type": "execute_result"
    }
   ],
   "source": [
    "X_train"
   ]
  },
  {
   "cell_type": "code",
   "execution_count": 76,
   "metadata": {
    "id": "nN_U1nLTaD2X"
   },
   "outputs": [],
   "source": [
    "#Our layer will look at the top 20,000 words, and will truncate or pad sequences to be  200 tokens long.\n",
    "from tensorflow.keras.layers import TextVectorization\n",
    "\n",
    "vectorizer = TextVectorization(max_tokens=20000, output_sequence_length=200)\n",
    "text_ds = tf.data.Dataset.from_tensor_slices(train_samples).batch(128)\n",
    "vectorizer.adapt(text_ds)\n"
   ]
  },
  {
   "cell_type": "code",
   "execution_count": 77,
   "metadata": {
    "colab": {
     "base_uri": "https://localhost:8080/"
    },
    "id": "UoGGlvzcWNXL",
    "outputId": "8ffcf42c-5e44-45d2-9394-e7df3853aa22"
   },
   "outputs": [
    {
     "name": "stdout",
     "output_type": "stream",
     "text": [
      "Found 400000 word vectors.\n"
     ]
    }
   ],
   "source": [
    "path_to_glove_file = GLOVE_DATASET_PATH = 'glove.6B.300d.txt'\n",
    "embeddings_index = {}\n",
    "with open(path_to_glove_file,encoding=\"utf8\") as f:\n",
    "    for line in f:\n",
    "        word, coefs = line.split(maxsplit=1)\n",
    "        coefs = np.fromstring(coefs, \"f\", sep=\" \")\n",
    "        embeddings_index[word] = coefs\n",
    "\n",
    "print(\"Found %s word vectors.\" % len(embeddings_index))\n"
   ]
  },
  {
   "cell_type": "code",
   "execution_count": 78,
   "metadata": {
    "id": "-xq80QxjZxGh"
   },
   "outputs": [],
   "source": [
    "#Here's a dict mapping words to their indices:\n",
    "voc = vectorizer.get_vocabulary()\n",
    "word_index = dict(zip(voc, range(len(voc))))"
   ]
  },
  {
   "cell_type": "code",
   "execution_count": 79,
   "metadata": {
    "colab": {
     "base_uri": "https://localhost:8080/"
    },
    "id": "LfiSa5TZZ4DS",
    "outputId": "c5fe8f16-04c0-43fc-c2ab-7809a2f3948c"
   },
   "outputs": [
    {
     "name": "stdout",
     "output_type": "stream",
     "text": [
      "Converted 17790 words (2210 misses)\n"
     ]
    }
   ],
   "source": [
    "#prepare a corresponding embedding matrix that we can use in Keras\n",
    "\n",
    "num_tokens = len(voc) + 2\n",
    "embedding_dim = 300\n",
    "hits = 0\n",
    "misses = 0\n",
    "\n",
    "# Prepare embedding matrix\n",
    "embedding_matrix = np.zeros((num_tokens, embedding_dim))\n",
    "for word, i in word_index.items():\n",
    "    embedding_vector = embeddings_index.get(word)\n",
    "    if embedding_vector is not None:\n",
    "        # Words not found in embedding index will be all-zeros.\n",
    "        # This includes the representation for \"padding\" and \"OOV\"\n",
    "        embedding_matrix[i] = embedding_vector\n",
    "        hits += 1\n",
    "    else:\n",
    "        misses += 1\n",
    "print(\"Converted %d words (%d misses)\" % (hits, misses))\n"
   ]
  },
  {
   "cell_type": "code",
   "execution_count": 80,
   "metadata": {
    "id": "j2vPC7OdZ6P9"
   },
   "outputs": [],
   "source": [
    "import keras\n",
    "from tensorflow.keras.layers import Embedding\n",
    "\n",
    "embedding_layer = Embedding(\n",
    "    num_tokens,\n",
    "    embedding_dim,\n",
    "    embeddings_initializer=keras.initializers.Constant(embedding_matrix),\n",
    "    trainable=False,\n",
    ")\n"
   ]
  },
  {
   "cell_type": "code",
   "execution_count": 81,
   "metadata": {
    "id": "n_qJpvXoZ7xF"
   },
   "outputs": [],
   "source": [
    "class_names = ['LEGAL', 'COMMUICATIONS', 'SECURITY_SPAM_ALERTS', 'SUPPORT', 'ENERGY_DESK', 'SALES_DEPARTMENT']\n"
   ]
  },
  {
   "cell_type": "code",
   "execution_count": 82,
   "metadata": {
    "colab": {
     "base_uri": "https://localhost:8080/"
    },
    "id": "lOgq5_2MZ9Nh",
    "outputId": "872ff218-202e-47fd-868f-15eb29e4419b"
   },
   "outputs": [
    {
     "name": "stdout",
     "output_type": "stream",
     "text": [
      "Model: \"model\"\n",
      "_________________________________________________________________\n",
      " Layer (type)                Output Shape              Param #   \n",
      "=================================================================\n",
      " input_1 (InputLayer)        [(None, None)]            0         \n",
      "                                                                 \n",
      " embedding_2 (Embedding)     (None, None, 300)         6000600   \n",
      "                                                                 \n",
      " conv1d (Conv1D)             (None, None, 128)         192128    \n",
      "                                                                 \n",
      " max_pooling1d (MaxPooling1D  (None, None, 128)        0         \n",
      " )                                                               \n",
      "                                                                 \n",
      " conv1d_1 (Conv1D)           (None, None, 128)         82048     \n",
      "                                                                 \n",
      " max_pooling1d_1 (MaxPooling  (None, None, 128)        0         \n",
      " 1D)                                                             \n",
      "                                                                 \n",
      " conv1d_2 (Conv1D)           (None, None, 128)         82048     \n",
      "                                                                 \n",
      " global_max_pooling1d (Globa  (None, 128)              0         \n",
      " lMaxPooling1D)                                                  \n",
      "                                                                 \n",
      " dense_2 (Dense)             (None, 128)               16512     \n",
      "                                                                 \n",
      " dropout (Dropout)           (None, 128)               0         \n",
      "                                                                 \n",
      " dense_3 (Dense)             (None, 6)                 774       \n",
      "                                                                 \n",
      "=================================================================\n",
      "Total params: 6,374,110\n",
      "Trainable params: 373,510\n",
      "Non-trainable params: 6,000,600\n",
      "_________________________________________________________________\n"
     ]
    }
   ],
   "source": [
    "#A simple 1D convnet with global max pooling and a classifier at the end.\n",
    "\n",
    "from tensorflow.keras import layers\n",
    "\n",
    "int_sequences_input = keras.Input(shape=(None,), dtype=\"int64\")\n",
    "embedded_sequences = embedding_layer(int_sequences_input)\n",
    "x = layers.Conv1D(128, 5, activation=\"relu\")(embedded_sequences)\n",
    "x = layers.MaxPooling1D(5)(x)\n",
    "x = layers.Conv1D(128, 5, activation=\"relu\")(x)\n",
    "x = layers.MaxPooling1D(5)(x)\n",
    "x = layers.Conv1D(128, 5, activation=\"relu\")(x)\n",
    "x = layers.GlobalMaxPooling1D()(x)\n",
    "x = layers.Dense(128, activation=\"relu\")(x)\n",
    "x = layers.Dropout(0.5)(x)\n",
    "preds = layers.Dense(len(class_names), activation=\"softmax\")(x)\n",
    "model = keras.Model(int_sequences_input, preds)\n",
    "model.summary()\n"
   ]
  },
  {
   "cell_type": "code",
   "execution_count": 83,
   "metadata": {
    "colab": {
     "base_uri": "https://localhost:8080/"
    },
    "id": "Pr3qjYk5y3WB",
    "outputId": "28663b0a-2d1c-4b1c-a87b-d75143a5bcb1"
   },
   "outputs": [
    {
     "data": {
      "text/plain": [
       "40000"
      ]
     },
     "execution_count": 83,
     "metadata": {},
     "output_type": "execute_result"
    }
   ],
   "source": [
    "len(X_train)"
   ]
  },
  {
   "cell_type": "code",
   "execution_count": 84,
   "metadata": {
    "id": "cTVdgpBXaMoL"
   },
   "outputs": [],
   "source": [
    "#convert our list-of-strings data to NumPy arrays of integer indices. The arrays are right-padded.\n",
    "\n",
    "x_train = vectorizer(train_samples)\n",
    "x_val = vectorizer(val_samples)\n",
    "\n",
    "y_train = np.array(train_labels)\n",
    "y_val = np.array(val_labels)\n"
   ]
  },
  {
   "cell_type": "code",
   "execution_count": 100,
   "metadata": {
    "colab": {
     "base_uri": "https://localhost:8080/"
    },
    "id": "DYGcZduA3eX7",
    "outputId": "29a6bf0a-a0b9-418a-fbbb-dce7e82733ae"
   },
   "outputs": [
    {
     "data": {
      "text/plain": [
       "<keras.optimizer_v2.gradient_descent.SGD at 0x7f971c23d510>"
      ]
     },
     "execution_count": 100,
     "metadata": {},
     "output_type": "execute_result"
    }
   ],
   "source": [
    "tf.keras.optimizers.SGD(\n",
    "    learning_rate=0.0001,\n",
    "    momentum=0.0,\n",
    "    nesterov=False,\n",
    "    name='SGD',\n",
    ")"
   ]
  },
  {
   "cell_type": "code",
   "execution_count": 101,
   "metadata": {
    "colab": {
     "base_uri": "https://localhost:8080/"
    },
    "id": "0KNcZD9daNIz",
    "outputId": "3cb9924c-cd9a-4825-dbeb-8f1c5470c399"
   },
   "outputs": [
    {
     "name": "stdout",
     "output_type": "stream",
     "text": [
      "Epoch 1/20\n",
      "313/313 [==============================] - 4s 10ms/step - loss: 0.0015 - acc: 0.9995 - val_loss: 0.7407 - val_acc: 0.9262\n",
      "Epoch 2/20\n",
      "313/313 [==============================] - 3s 10ms/step - loss: 0.0015 - acc: 0.9995 - val_loss: 0.7425 - val_acc: 0.9262\n",
      "Epoch 3/20\n",
      "313/313 [==============================] - 3s 10ms/step - loss: 0.0014 - acc: 0.9997 - val_loss: 0.7477 - val_acc: 0.9259\n",
      "Epoch 4/20\n",
      "313/313 [==============================] - 3s 10ms/step - loss: 0.0014 - acc: 0.9995 - val_loss: 0.7515 - val_acc: 0.9260\n",
      "Epoch 5/20\n",
      "313/313 [==============================] - 3s 10ms/step - loss: 0.0013 - acc: 0.9996 - val_loss: 0.7505 - val_acc: 0.9263\n",
      "Epoch 6/20\n",
      "313/313 [==============================] - 3s 10ms/step - loss: 0.0014 - acc: 0.9996 - val_loss: 0.7514 - val_acc: 0.9263\n",
      "Epoch 7/20\n",
      "313/313 [==============================] - 3s 10ms/step - loss: 0.0015 - acc: 0.9995 - val_loss: 0.7556 - val_acc: 0.9263\n",
      "Epoch 8/20\n",
      "313/313 [==============================] - 3s 10ms/step - loss: 0.0013 - acc: 0.9996 - val_loss: 0.7539 - val_acc: 0.9261\n",
      "Epoch 9/20\n",
      "313/313 [==============================] - 3s 10ms/step - loss: 0.0014 - acc: 0.9996 - val_loss: 0.7555 - val_acc: 0.9263\n",
      "Epoch 10/20\n",
      "313/313 [==============================] - 3s 10ms/step - loss: 0.0013 - acc: 0.9995 - val_loss: 0.7666 - val_acc: 0.9262\n",
      "Epoch 11/20\n",
      "313/313 [==============================] - 3s 10ms/step - loss: 0.0013 - acc: 0.9995 - val_loss: 0.7623 - val_acc: 0.9263\n",
      "Epoch 12/20\n",
      "313/313 [==============================] - 3s 10ms/step - loss: 0.0012 - acc: 0.9997 - val_loss: 0.7675 - val_acc: 0.9262\n",
      "Epoch 13/20\n",
      "313/313 [==============================] - 3s 10ms/step - loss: 0.0013 - acc: 0.9996 - val_loss: 0.7638 - val_acc: 0.9267\n",
      "Epoch 14/20\n",
      "313/313 [==============================] - 3s 10ms/step - loss: 0.0013 - acc: 0.9996 - val_loss: 0.7670 - val_acc: 0.9263\n",
      "Epoch 15/20\n",
      "313/313 [==============================] - 3s 10ms/step - loss: 0.0013 - acc: 0.9997 - val_loss: 0.7713 - val_acc: 0.9262\n",
      "Epoch 16/20\n",
      "313/313 [==============================] - 3s 10ms/step - loss: 0.0013 - acc: 0.9996 - val_loss: 0.7723 - val_acc: 0.9259\n",
      "Epoch 17/20\n",
      "313/313 [==============================] - 3s 10ms/step - loss: 0.0012 - acc: 0.9996 - val_loss: 0.7728 - val_acc: 0.9263\n",
      "Epoch 18/20\n",
      "313/313 [==============================] - 3s 10ms/step - loss: 0.0013 - acc: 0.9995 - val_loss: 0.7789 - val_acc: 0.9261\n",
      "Epoch 19/20\n",
      "313/313 [==============================] - 3s 10ms/step - loss: 0.0013 - acc: 0.9996 - val_loss: 0.7786 - val_acc: 0.9260\n",
      "Epoch 20/20\n",
      "313/313 [==============================] - 3s 10ms/step - loss: 0.0014 - acc: 0.9997 - val_loss: 0.7782 - val_acc: 0.9260\n"
     ]
    },
    {
     "data": {
      "text/plain": [
       "<keras.callbacks.History at 0x7f971c86d250>"
      ]
     },
     "execution_count": 101,
     "metadata": {},
     "output_type": "execute_result"
    }
   ],
   "source": [
    "#We use categorical crossentropy as our loss since we're doing softmax classification. Moreover, we use sparse_categorical_crossentropy since our labels are integers\n",
    "model.compile(\n",
    "    loss=\"sparse_categorical_crossentropy\", optimizer=\"SGD\", metrics=[\"acc\"]\n",
    ")\n",
    "model.fit(x_train, y_train, batch_size=128, epochs=20, validation_data=(x_val, y_val))\n"
   ]
  },
  {
   "cell_type": "code",
   "execution_count": 102,
   "metadata": {
    "colab": {
     "base_uri": "https://localhost:8080/"
    },
    "id": "jpsMJN-qaOy0",
    "outputId": "d2bdbcd2-5609-4dfc-a2a6-c9a00b723143"
   },
   "outputs": [
    {
     "name": "stdout",
     "output_type": "stream",
     "text": [
      "Forward request to: SUPPORT\n"
     ]
    }
   ],
   "source": [
    "string_input = keras.Input(shape=(1,), dtype=\"string\")\n",
    "x = vectorizer(string_input)\n",
    "preds = model(x)\n",
    "end_to_end_model = keras.Model(string_input, preds)\n",
    "\n",
    "probabilities = end_to_end_model.predict(\n",
    "    [[\"My monitor stopped responding and I need to get this spreadsheet finished as soon as possible. Please help me!\"]]\n",
    ")\n",
    "\n",
    "print('Forward request to: ' + class_names[np.argmax(probabilities[0])])\n"
   ]
  },
  {
   "cell_type": "code",
   "execution_count": 86,
   "metadata": {
    "id": "Ij4Jp3CAab6c"
   },
   "outputs": [],
   "source": []
  },
  {
   "cell_type": "markdown",
   "metadata": {
    "id": "AQeddtYracKz"
   },
   "source": [
    "Visualization"
   ]
  },
  {
   "cell_type": "code",
   "execution_count": 87,
   "metadata": {
    "id": "xb7jISRZadbU"
   },
   "outputs": [],
   "source": [
    "%matplotlib inline\n",
    "from sklearn.metrics import confusion_matrix\n",
    "import itertools\n",
    "import matplotlib.pyplot as plt"
   ]
  },
  {
   "cell_type": "code",
   "execution_count": 88,
   "metadata": {
    "id": "Z7BVqYFgafBJ"
   },
   "outputs": [],
   "source": [
    "def plot_confusion_matrix(cm, classes,\n",
    "                        normalize=False,\n",
    "                        title='Confusion matrix',\n",
    "                        cmap=plt.cm.Blues):\n",
    "    \"\"\"\n",
    "    This function prints and plots the confusion matrix.\n",
    "    Normalization can be applied by setting `normalize=True`.\n",
    "    \"\"\"\n",
    "    plt.imshow(cm, interpolation='nearest', cmap=cmap)\n",
    "    plt.title(title)\n",
    "    plt.colorbar()\n",
    "    tick_marks = np.arange(len(classes))\n",
    "    plt.xticks(tick_marks, classes, rotation=45)\n",
    "    plt.yticks(tick_marks, classes)\n",
    "\n",
    "    if normalize:\n",
    "        cm = cm.astype('float') / cm.sum(axis=1)[:, np.newaxis]\n",
    "        print(\"Normalized confusion matrix\")\n",
    "    else:\n",
    "        print('Confusion matrix, without normalization')\n",
    "\n",
    "    print(cm)\n",
    "\n",
    "    thresh = cm.max() / 2.\n",
    "    for i, j in itertools.product(range(cm.shape[0]), range(cm.shape[1])):\n",
    "        plt.text(j, i, cm[i, j],\n",
    "            horizontalalignment=\"center\",\n",
    "            color=\"white\" if cm[i, j] > thresh else \"black\")\n",
    "\n",
    "    plt.tight_layout()\n",
    "    plt.ylabel('True label')\n",
    "    plt.xlabel('Predicted label')"
   ]
  },
  {
   "cell_type": "code",
   "execution_count": 103,
   "metadata": {
    "id": "9xFbVwSPagOl"
   },
   "outputs": [],
   "source": [
    "y_predict=model.predict(x_val)\n",
    "y_predict2= np.argmax(y_predict, axis=1)\n",
    "y_true=y_val"
   ]
  },
  {
   "cell_type": "code",
   "execution_count": 104,
   "metadata": {
    "id": "-07xPfpoahE5"
   },
   "outputs": [],
   "source": [
    "lookup = {'LEGAL','COMMUICATIONS','SECURITY', 'SUPPORT', 'ENERGY', 'SALES'}"
   ]
  },
  {
   "cell_type": "code",
   "execution_count": 105,
   "metadata": {
    "id": "-S6gLDZ0aiK8"
   },
   "outputs": [],
   "source": [
    "cm = confusion_matrix(y_true=y_true, y_pred=y_predict2)"
   ]
  },
  {
   "cell_type": "code",
   "execution_count": 106,
   "metadata": {
    "colab": {
     "base_uri": "https://localhost:8080/",
     "height": 433
    },
    "id": "nEuIpqbNajEz",
    "outputId": "f8e49081-e3fe-4acf-85f9-7c6bcd003d65"
   },
   "outputs": [
    {
     "name": "stdout",
     "output_type": "stream",
     "text": [
      "Confusion matrix, without normalization\n",
      "[[ 116   21    0   33    1    1]\n",
      " [   5 2385    2  258    2   23]\n",
      " [   2    4  123   20    2    0]\n",
      " [  15  190    7 6120    7   48]\n",
      " [   0    2    2    9  117    2]\n",
      " [   2   16    3   63    0  399]]\n"
     ]
    },
    {
     "data": {
      "image/png": "[encoded data removed]",
      "text/plain": [
       "<Figure size 432x288 with 2 Axes>"
      ]
     },
     "metadata": {
      "needs_background": "light"
     },
     "output_type": "display_data"
    }
   ],
   "source": [
    "plot_confusion_matrix(cm=cm, classes=lookup, title='Confusion Matrix')"
   ]
  },
  {
   "cell_type": "code",
   "execution_count": 93,
   "metadata": {
    "id": "64P3WicMaj70"
   },
   "outputs": [],
   "source": [
    "recall = np.diag(cm) / np.sum(cm, axis = 1)\n",
    "precision = np.diag(cm) / np.sum(cm, axis = 0)"
   ]
  },
  {
   "cell_type": "code",
   "execution_count": 107,
   "metadata": {
    "colab": {
     "base_uri": "https://localhost:8080/"
    },
    "id": "6VQuiBZSaky9",
    "outputId": "2ddb12d7-3c07-4a91-9e0e-d8735103bf49"
   },
   "outputs": [
    {
     "data": {
      "text/plain": [
       "0.8299982518489347"
      ]
     },
     "execution_count": 107,
     "metadata": {},
     "output_type": "execute_result"
    }
   ],
   "source": [
    "np.mean(recall)"
   ]
  },
  {
   "cell_type": "code",
   "execution_count": 108,
   "metadata": {
    "colab": {
     "base_uri": "https://localhost:8080/"
    },
    "id": "Gw1wrFnWall7",
    "outputId": "de5f7b44-4a3c-43a7-d01a-a161b575318f"
   },
   "outputs": [
    {
     "data": {
      "text/plain": [
       "0.8776941994995465"
      ]
     },
     "execution_count": 108,
     "metadata": {},
     "output_type": "execute_result"
    }
   ],
   "source": [
    "np.mean(precision)"
   ]
  },
  {
   "cell_type": "code",
   "execution_count": 95,
   "metadata": {
    "id": "N3-0qKEsyLAN"
   },
   "outputs": [],
   "source": []
  },
  {
   "cell_type": "markdown",
   "metadata": {
    "id": "eytRK9ov3-II"
   },
   "source": [
    "Zero Shot Transformer Comparison"
   ]
  },
  {
   "cell_type": "code",
   "execution_count": 97,
   "metadata": {
    "colab": {
     "base_uri": "https://localhost:8080/",
     "height": 1000
    },
    "id": "p-KLnBtY3bL2",
    "outputId": "127bd770-608b-4c7d-e544-1b4938549f08"
   },
   "outputs": [
    {
     "name": "stdout",
     "output_type": "stream",
     "text": [
      "Collecting flair\n",
      "  Downloading flair-0.10-py3-none-any.whl (322 kB)\n",
      "\u001b[K     |████████████████████████████████| 322 kB 5.3 MB/s \n",
      "\u001b[?25hCollecting mpld3==0.3\n",
      "  Downloading mpld3-0.3.tar.gz (788 kB)\n",
      "\u001b[K     |████████████████████████████████| 788 kB 74.3 MB/s \n",
      "\u001b[?25hRequirement already satisfied: gensim>=3.4.0 in /usr/local/lib/python3.7/dist-packages (from flair) (3.6.0)\n",
      "Collecting gdown==3.12.2\n",
      "  Downloading gdown-3.12.2.tar.gz (8.2 kB)\n",
      "  Installing build dependencies ... \u001b[?25l\u001b[?25hdone\n",
      "  Getting requirements to build wheel ... \u001b[?25l\u001b[?25hdone\n",
      "    Preparing wheel metadata ... \u001b[?25l\u001b[?25hdone\n",
      "Collecting segtok>=1.5.7\n",
      "  Downloading segtok-1.5.11-py3-none-any.whl (24 kB)\n",
      "Requirement already satisfied: scikit-learn>=0.21.3 in /usr/local/lib/python3.7/dist-packages (from flair) (1.0.2)\n",
      "Requirement already satisfied: python-dateutil>=2.6.1 in /usr/local/lib/python3.7/dist-packages (from flair) (2.8.2)\n",
      "Collecting transformers>=4.0.0\n",
      "  Downloading transformers-4.17.0-py3-none-any.whl (3.8 MB)\n",
      "\u001b[K     |████████████████████████████████| 3.8 MB 61.6 MB/s \n",
      "\u001b[?25hRequirement already satisfied: matplotlib>=2.2.3 in /usr/local/lib/python3.7/dist-packages (from flair) (3.2.2)\n",
      "Collecting huggingface-hub\n",
      "  Downloading huggingface_hub-0.4.0-py3-none-any.whl (67 kB)\n",
      "\u001b[K     |████████████████████████████████| 67 kB 6.7 MB/s \n",
      "\u001b[?25hCollecting deprecated>=1.2.4\n",
      "  Downloading Deprecated-1.2.13-py2.py3-none-any.whl (9.6 kB)\n",
      "Collecting sentencepiece==0.1.95\n",
      "  Downloading sentencepiece-0.1.95-cp37-cp37m-manylinux2014_x86_64.whl (1.2 MB)\n",
      "\u001b[K     |████████████████████████████████| 1.2 MB 58.6 MB/s \n",
      "\u001b[?25hCollecting ftfy\n",
      "  Downloading ftfy-6.1.1-py3-none-any.whl (53 kB)\n",
      "\u001b[K     |████████████████████████████████| 53 kB 2.1 MB/s \n",
      "\u001b[?25hCollecting sqlitedict>=1.6.0\n",
      "  Downloading sqlitedict-2.0.0.tar.gz (46 kB)\n",
      "\u001b[K     |████████████████████████████████| 46 kB 4.9 MB/s \n",
      "\u001b[?25hCollecting konoha<5.0.0,>=4.0.0\n",
      "  Downloading konoha-4.6.5-py3-none-any.whl (20 kB)\n",
      "Collecting bpemb>=0.3.2\n",
      "  Downloading bpemb-0.3.3-py3-none-any.whl (19 kB)\n",
      "Collecting more-itertools~=8.8.0\n",
      "  Downloading more_itertools-8.8.0-py3-none-any.whl (48 kB)\n",
      "\u001b[K     |████████████████████████████████| 48 kB 6.3 MB/s \n",
      "\u001b[?25hCollecting janome\n",
      "  Downloading Janome-0.4.2-py2.py3-none-any.whl (19.7 MB)\n",
      "\u001b[K     |████████████████████████████████| 19.7 MB 35.6 MB/s \n",
      "\u001b[?25hRequirement already satisfied: tqdm>=4.26.0 in /usr/local/lib/python3.7/dist-packages (from flair) (4.63.0)\n",
      "Requirement already satisfied: regex in /usr/local/lib/python3.7/dist-packages (from flair) (2019.12.20)\n",
      "Requirement already satisfied: torch!=1.8,>=1.5.0 in /usr/local/lib/python3.7/dist-packages (from flair) (1.10.0+cu111)\n",
      "Collecting conllu>=4.0\n",
      "  Downloading conllu-4.4.1-py2.py3-none-any.whl (15 kB)\n",
      "Requirement already satisfied: lxml in /usr/local/lib/python3.7/dist-packages (from flair) (4.2.6)\n",
      "Collecting langdetect\n",
      "  Downloading langdetect-1.0.9.tar.gz (981 kB)\n",
      "\u001b[K     |████████████████████████████████| 981 kB 65.7 MB/s \n",
      "\u001b[?25hRequirement already satisfied: tabulate in /usr/local/lib/python3.7/dist-packages (from flair) (0.8.9)\n",
      "Collecting wikipedia-api\n",
      "  Downloading Wikipedia-API-0.5.4.tar.gz (18 kB)\n",
      "Requirement already satisfied: six in /usr/local/lib/python3.7/dist-packages (from gdown==3.12.2->flair) (1.15.0)\n",
      "Requirement already satisfied: requests[socks] in /usr/local/lib/python3.7/dist-packages (from gdown==3.12.2->flair) (2.23.0)\n",
      "Requirement already satisfied: filelock in /usr/local/lib/python3.7/dist-packages (from gdown==3.12.2->flair) (3.6.0)\n",
      "Requirement already satisfied: numpy in /usr/local/lib/python3.7/dist-packages (from bpemb>=0.3.2->flair) (1.21.5)\n",
      "Requirement already satisfied: wrapt<2,>=1.10 in /usr/local/lib/python3.7/dist-packages (from deprecated>=1.2.4->flair) (1.14.0)\n",
      "Requirement already satisfied: scipy>=0.18.1 in /usr/local/lib/python3.7/dist-packages (from gensim>=3.4.0->flair) (1.4.1)\n",
      "Requirement already satisfied: smart-open>=1.2.1 in /usr/local/lib/python3.7/dist-packages (from gensim>=3.4.0->flair) (5.2.1)\n",
      "Collecting overrides<4.0.0,>=3.0.0\n",
      "  Downloading overrides-3.1.0.tar.gz (11 kB)\n",
      "Collecting importlib-metadata<4.0.0,>=3.7.0\n",
      "  Downloading importlib_metadata-3.10.1-py3-none-any.whl (14 kB)\n",
      "Collecting requests\n",
      "  Downloading requests-2.27.1-py2.py3-none-any.whl (63 kB)\n",
      "\u001b[K     |████████████████████████████████| 63 kB 1.9 MB/s \n",
      "\u001b[?25hRequirement already satisfied: zipp>=0.5 in /usr/local/lib/python3.7/dist-packages (from importlib-metadata<4.0.0,>=3.7.0->konoha<5.0.0,>=4.0.0->flair) (3.7.0)\n",
      "Requirement already satisfied: typing-extensions>=3.6.4 in /usr/local/lib/python3.7/dist-packages (from importlib-metadata<4.0.0,>=3.7.0->konoha<5.0.0,>=4.0.0->flair) (3.10.0.2)\n",
      "Requirement already satisfied: cycler>=0.10 in /usr/local/lib/python3.7/dist-packages (from matplotlib>=2.2.3->flair) (0.11.0)\n",
      "Requirement already satisfied: pyparsing!=2.0.4,!=2.1.2,!=2.1.6,>=2.0.1 in /usr/local/lib/python3.7/dist-packages (from matplotlib>=2.2.3->flair) (3.0.7)\n",
      "Requirement already satisfied: kiwisolver>=1.0.1 in /usr/local/lib/python3.7/dist-packages (from matplotlib>=2.2.3->flair) (1.4.0)\n",
      "Requirement already satisfied: certifi>=2017.4.17 in /usr/local/lib/python3.7/dist-packages (from requests->bpemb>=0.3.2->flair) (2021.10.8)\n",
      "Requirement already satisfied: charset-normalizer~=2.0.0 in /usr/local/lib/python3.7/dist-packages (from requests->bpemb>=0.3.2->flair) (2.0.12)\n",
      "Requirement already satisfied: urllib3<1.27,>=1.21.1 in /usr/local/lib/python3.7/dist-packages (from requests->bpemb>=0.3.2->flair) (1.24.3)\n",
      "Requirement already satisfied: idna<4,>=2.5 in /usr/local/lib/python3.7/dist-packages (from requests->bpemb>=0.3.2->flair) (2.10)\n",
      "Requirement already satisfied: joblib>=0.11 in /usr/local/lib/python3.7/dist-packages (from scikit-learn>=0.21.3->flair) (1.1.0)\n",
      "Requirement already satisfied: threadpoolctl>=2.0.0 in /usr/local/lib/python3.7/dist-packages (from scikit-learn>=0.21.3->flair) (3.1.0)\n",
      "Requirement already satisfied: packaging>=20.0 in /usr/local/lib/python3.7/dist-packages (from transformers>=4.0.0->flair) (21.3)\n",
      "Collecting pyyaml>=5.1\n",
      "  Downloading PyYAML-6.0-cp37-cp37m-manylinux_2_5_x86_64.manylinux1_x86_64.manylinux_2_12_x86_64.manylinux2010_x86_64.whl (596 kB)\n",
      "\u001b[K     |████████████████████████████████| 596 kB 70.8 MB/s \n",
      "\u001b[?25hCollecting tokenizers!=0.11.3,>=0.11.1\n",
      "  Downloading tokenizers-0.11.6-cp37-cp37m-manylinux_2_12_x86_64.manylinux2010_x86_64.whl (6.5 MB)\n",
      "\u001b[K     |████████████████████████████████| 6.5 MB 59.1 MB/s \n",
      "\u001b[?25hCollecting sacremoses\n",
      "  Downloading sacremoses-0.0.49-py3-none-any.whl (895 kB)\n",
      "\u001b[K     |████████████████████████████████| 895 kB 71.2 MB/s \n",
      "\u001b[?25hRequirement already satisfied: wcwidth>=0.2.5 in /usr/local/lib/python3.7/dist-packages (from ftfy->flair) (0.2.5)\n",
      "Requirement already satisfied: PySocks!=1.5.7,>=1.5.6 in /usr/local/lib/python3.7/dist-packages (from requests->bpemb>=0.3.2->flair) (1.7.1)\n",
      "Requirement already satisfied: click in /usr/local/lib/python3.7/dist-packages (from sacremoses->transformers>=4.0.0->flair) (7.1.2)\n",
      "Building wheels for collected packages: gdown, mpld3, overrides, sqlitedict, langdetect, wikipedia-api\n",
      "  Building wheel for gdown (PEP 517) ... \u001b[?25l\u001b[?25hdone\n",
      "  Created wheel for gdown: filename=gdown-3.12.2-py3-none-any.whl size=9692 sha256=65728a516deaa3437ebf4fafc9b9a5f8c4991b951d0ea1e59f5c35323fd8a178\n",
      "  Stored in directory: /root/.cache/pip/wheels/ba/e0/7e/726e872a53f7358b4b96a9975b04e98113b005cd8609a63abc\n",
      "  Building wheel for mpld3 (setup.py) ... \u001b[?25l\u001b[?25hdone\n",
      "  Created wheel for mpld3: filename=mpld3-0.3-py3-none-any.whl size=116702 sha256=2af866e6f94f7be959f46f1c914cb36d14f60ad12e488c4a41d7a84438300a17\n",
      "  Stored in directory: /root/.cache/pip/wheels/26/70/6a/1c79e59951a41b4045497da187b2724f5659ca64033cf4548e\n",
      "  Building wheel for overrides (setup.py) ... \u001b[?25l\u001b[?25hdone\n",
      "  Created wheel for overrides: filename=overrides-3.1.0-py3-none-any.whl size=10187 sha256=c6661b593b288f0288d08da6efcda15a9ea2207dec8e2faa12e1b8f5a32ecadc\n",
      "  Stored in directory: /root/.cache/pip/wheels/3a/0d/38/01a9bc6e20dcfaf0a6a7b552d03137558ba1c38aea47644682\n",
      "  Building wheel for sqlitedict (setup.py) ... \u001b[?25l\u001b[?25hdone\n",
      "  Created wheel for sqlitedict: filename=sqlitedict-2.0.0-py3-none-any.whl size=15736 sha256=5fabb25ab567c3693fad482df3932708eacbf6cb922196ac52afcf862733f5d9\n",
      "  Stored in directory: /root/.cache/pip/wheels/96/dd/2e/0ed4a25cb73fc30c7ea8d10b50acb7226175736067e40a7ea3\n",
      "  Building wheel for langdetect (setup.py) ... \u001b[?25l\u001b[?25hdone\n",
      "  Created wheel for langdetect: filename=langdetect-1.0.9-py3-none-any.whl size=993242 sha256=5b5de583fdf2123f497cdd03bd98b0ad903fdc1dd246e6f102b77d1383cbc235\n",
      "  Stored in directory: /root/.cache/pip/wheels/c5/96/8a/f90c59ed25d75e50a8c10a1b1c2d4c402e4dacfa87f3aff36a\n",
      "  Building wheel for wikipedia-api (setup.py) ... \u001b[?25l\u001b[?25hdone\n",
      "  Created wheel for wikipedia-api: filename=Wikipedia_API-0.5.4-py3-none-any.whl size=13477 sha256=5646b97449da4749268c802230b4a2c88205e2fa473a10daf1794405075ffd5e\n",
      "  Stored in directory: /root/.cache/pip/wheels/d3/24/56/58ba93cf78be162451144e7a9889603f437976ef1ae7013d04\n",
      "Successfully built gdown mpld3 overrides sqlitedict langdetect wikipedia-api\n",
      "Installing collected packages: requests, pyyaml, importlib-metadata, tokenizers, sentencepiece, sacremoses, overrides, huggingface-hub, wikipedia-api, transformers, sqlitedict, segtok, mpld3, more-itertools, langdetect, konoha, janome, gdown, ftfy, deprecated, conllu, bpemb, flair\n",
      "  Attempting uninstall: requests\n",
      "    Found existing installation: requests 2.23.0\n",
      "    Uninstalling requests-2.23.0:\n",
      "      Successfully uninstalled requests-2.23.0\n",
      "  Attempting uninstall: pyyaml\n",
      "    Found existing installation: PyYAML 3.13\n",
      "    Uninstalling PyYAML-3.13:\n",
      "      Successfully uninstalled PyYAML-3.13\n",
      "  Attempting uninstall: importlib-metadata\n",
      "    Found existing installation: importlib-metadata 4.11.3\n",
      "    Uninstalling importlib-metadata-4.11.3:\n",
      "      Successfully uninstalled importlib-metadata-4.11.3\n",
      "  Attempting uninstall: more-itertools\n",
      "    Found existing installation: more-itertools 8.12.0\n",
      "    Uninstalling more-itertools-8.12.0:\n",
      "      Successfully uninstalled more-itertools-8.12.0\n",
      "  Attempting uninstall: gdown\n",
      "    Found existing installation: gdown 4.2.2\n",
      "    Uninstalling gdown-4.2.2:\n",
      "      Successfully uninstalled gdown-4.2.2\n",
      "\u001b[31mERROR: pip's dependency resolver does not currently take into account all the packages that are installed. This behaviour is the source of the following dependency conflicts.\n",
      "markdown 3.3.6 requires importlib-metadata>=4.4; python_version < \"3.10\", but you have importlib-metadata 3.10.1 which is incompatible.\n",
      "google-colab 1.0.0 requires requests~=2.23.0, but you have requests 2.27.1 which is incompatible.\n",
      "datascience 0.10.6 requires folium==0.2.1, but you have folium 0.8.3 which is incompatible.\u001b[0m\n",
      "Successfully installed bpemb-0.3.3 conllu-4.4.1 deprecated-1.2.13 flair-0.10 ftfy-6.1.1 gdown-3.12.2 huggingface-hub-0.4.0 importlib-metadata-3.10.1 janome-0.4.2 konoha-4.6.5 langdetect-1.0.9 more-itertools-8.8.0 mpld3-0.3 overrides-3.1.0 pyyaml-6.0 requests-2.27.1 sacremoses-0.0.49 segtok-1.5.11 sentencepiece-0.1.95 sqlitedict-2.0.0 tokenizers-0.11.6 transformers-4.17.0 wikipedia-api-0.5.4\n"
     ]
    },
    {
     "data": {
      "application/vnd.colab-display-data+json": {
       "pip_warning": {
        "packages": [
         "requests"
        ]
       }
      }
     },
     "metadata": {},
     "output_type": "display_data"
    }
   ],
   "source": [
    "pip install flair"
   ]
  },
  {
   "cell_type": "code",
   "execution_count": 110,
   "metadata": {
    "colab": {
     "base_uri": "https://localhost:8080/"
    },
    "id": "mjMTUnkL4A9t",
    "outputId": "657ceab8-9bd6-4865-942b-85136320e759"
   },
   "outputs": [
    {
     "name": "stdout",
     "output_type": "stream",
     "text": [
      "2022-03-25 07:02:42,408 loading file /root/.flair/models/tars-base-v8.pt\n",
      "Sentence: \"Hello , my computer isnt working , i need help\"   [− Tokens: 10  − Sentence-Labels: {'LEGAL-COMMUICATIONS-SECURITY-Support-ENERGY-SALES': [Support (0.5494)]}]\n"
     ]
    }
   ],
   "source": [
    "from flair.models import TARSClassifier\n",
    "from flair.data import Sentence\n",
    "\n",
    "# 1. Load our pre-trained TARS model for English\n",
    "tars = TARSClassifier.load('tars-base')\n",
    "\n",
    "# 2. Prepare a test sentence\n",
    "sentence = Sentence(\"Hello, my computer isnt working, i need help\")\n",
    "# 3. Define some classes that you want to predict using descriptive names\n",
    "classes = [\"LEGAL\", \"COMMUICATIONS\", \"SECURITY\", \"Support\", \"ENERGY\", \"SALES\"]\n",
    "\n",
    "#4. Predict for these classes\n",
    "tars.predict_zero_shot(sentence, classes)\n",
    "\n",
    "# Print sentence with predicted labels\n",
    "print(sentence)"
   ]
  }
 ],
 "metadata": {
  "accelerator": "GPU",
  "colab": {
   "collapsed_sections": [],
   "machine_shape": "hm",
   "name": "Copy of Model_v2.1_Final.ipynb",
   "provenance": []
  },
  "kernelspec": {
   "display_name": "Python 3 (ipykernel)",
   "language": "python",
   "name": "python3"
  },
  "language_info": {
   "codemirror_mode": {
    "name": "ipython",
    "version": 3
   },
   "file_extension": ".py",
   "mimetype": "text/x-python",
   "name": "python",
   "nbconvert_exporter": "python",
   "pygments_lexer": "ipython3",
   "version": "3.9.7"
  }
 },
 "nbformat": 4,
 "nbformat_minor": 1
}
