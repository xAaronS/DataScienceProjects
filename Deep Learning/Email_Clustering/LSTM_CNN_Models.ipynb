{
 "cells": [
  {
   "cell_type": "code",
   "execution_count": null,
   "metadata": {
    "id": "BZehztFbRwOo"
   },
   "outputs": [],
   "source": [
    "from __future__ import absolute_import\n",
    "from __future__ import division\n",
    "from __future__ import print_function\n",
    "\n",
    "import tensorflow as tf\n",
    "import collections\n",
    "import os\n",
    "import random\n",
    "import numpy as np\n",
    "from tqdm import tqdm\n",
    "import sys, email\n",
    "import pandas as pd\n",
    "import math\n",
    "from sklearn.metrics import precision_score, recall_score, f1_score\n",
    "import datetime\n",
    "import matplotlib.pyplot as plt\n",
    "from gensim.models import KeyedVectors\n",
    "from gensim.scripts.glove2word2vec import glove2word2vec\n",
    "import time\n",
    "from sklearn.preprocessing import LabelEncoder\n",
    "from sklearn.model_selection import train_test_split\n",
    "\n",
    "from keras.preprocessing.text import Tokenizer\n",
    "from keras.preprocessing.sequence import pad_sequences\n",
    "from keras.models import Sequential\n",
    "\n",
    "from keras.layers import Dense, LSTM, Flatten, Embedding\n",
    "from tensorflow.keras.utils import to_categorical\n",
    "from keras.backend import clear_session\n"
   ]
  },
  {
   "cell_type": "markdown",
   "metadata": {
    "id": "qGg4cWxZ41NK"
   },
   "source": [
    "Loading Data"
   ]
  },
  {
   "cell_type": "code",
   "execution_count": null,
   "metadata": {
    "colab": {
     "base_uri": "https://localhost:8080/"
    },
    "id": "JCtUGbJ6R78_",
    "outputId": "c1098b66-b0ed-45ae-cc6a-7d14b732fc6e"
   },
   "outputs": [
    {
     "name": "stdout",
     "output_type": "stream",
     "text": [
      "Mounted at /content/drive\n"
     ]
    }
   ],
   "source": [
    "#mount google drive\n",
    "from google.colab import drive\n",
    "drive.mount('/content/drive')"
   ]
  },
  {
   "cell_type": "code",
   "execution_count": null,
   "metadata": {
    "id": "h7lOe9jxR9oB"
   },
   "outputs": [],
   "source": [
    "project_path = '/content/drive/MyDrive/MMA/'\n",
    " "
   ]
  },
  {
   "cell_type": "code",
   "execution_count": null,
   "metadata": {
    "id": "dm5ys8rsR-EB"
   },
   "outputs": [],
   "source": [
    "emails_df2 = pd.read_csv(project_path + 'enron_classification_df_new.csv') \n",
    "########## For people running locally#####\n",
    "#emails_df2 = pd.read_csv('enron_classification_df.csv') "
   ]
  },
  {
   "cell_type": "code",
   "execution_count": null,
   "metadata": {
    "id": "b7-mVE5USdGp"
   },
   "outputs": [],
   "source": [
    "emails_df2 = emails_df2.drop(['group_LEGAL','group_COMMUICATIONS','group_SECURITY_SPAM_ALERTS','group_SUPPORT','group_ENERGY_DESK','group_SALES_DEPARTMENT','subject_length', 'subject_word_count','content_length','content_word_count','is_AM','is_weekday'], axis=1)"
   ]
  },
  {
   "cell_type": "code",
   "execution_count": null,
   "metadata": {
    "id": "63gLIErUq9m2"
   },
   "outputs": [],
   "source": [
    "#Slice dataset to 70,000 to save space\n",
    "emails_df2 = emails_df2[:70000]"
   ]
  },
  {
   "cell_type": "code",
   "execution_count": null,
   "metadata": {
    "colab": {
     "base_uri": "https://localhost:8080/"
    },
    "id": "apblQnHMuE-f",
    "outputId": "c42faa29-d4d1-4889-f62f-108a8685cceb"
   },
   "outputs": [
    {
     "data": {
      "text/plain": [
       "70000"
      ]
     },
     "execution_count": 7,
     "metadata": {},
     "output_type": "execute_result"
    }
   ],
   "source": [
    "len(emails_df2)"
   ]
  },
  {
   "cell_type": "code",
   "execution_count": null,
   "metadata": {
    "colab": {
     "base_uri": "https://localhost:8080/"
    },
    "id": "d3G19BHWTYV4",
    "outputId": "b954e042-d089-4b35-c2d1-2458f9bf5db5"
   },
   "outputs": [
    {
     "data": {
      "text/plain": [
       "array([5, 2, 3, 4, 1, 0])"
      ]
     },
     "execution_count": 8,
     "metadata": {},
     "output_type": "execute_result"
    }
   ],
   "source": [
    "emails_df2['outcome'].unique()"
   ]
  },
  {
   "cell_type": "code",
   "execution_count": null,
   "metadata": {
    "colab": {
     "base_uri": "https://localhost:8080/"
    },
    "id": "XFaE5t3VWthN",
    "outputId": "ae1c88d1-fa71-4f39-ec2d-2c56a0b11604"
   },
   "outputs": [
    {
     "name": "stdout",
     "output_type": "stream",
     "text": [
      "--2022-03-27 01:24:44--  http://nlp.stanford.edu/data/glove.6B.zip\n",
      "Resolving nlp.stanford.edu (nlp.stanford.edu)... 171.64.67.140\n",
      "Connecting to nlp.stanford.edu (nlp.stanford.edu)|171.64.67.140|:80... connected.\n",
      "HTTP request sent, awaiting response... 302 Found\n",
      "Location: https://nlp.stanford.edu/data/glove.6B.zip [following]\n",
      "--2022-03-27 01:24:44--  https://nlp.stanford.edu/data/glove.6B.zip\n",
      "Connecting to nlp.stanford.edu (nlp.stanford.edu)|171.64.67.140|:443... connected.\n",
      "HTTP request sent, awaiting response... 301 Moved Permanently\n",
      "Location: http://downloads.cs.stanford.edu/nlp/data/glove.6B.zip [following]\n",
      "--2022-03-27 01:24:44--  http://downloads.cs.stanford.edu/nlp/data/glove.6B.zip\n",
      "Resolving downloads.cs.stanford.edu (downloads.cs.stanford.edu)... 171.64.64.22\n",
      "Connecting to downloads.cs.stanford.edu (downloads.cs.stanford.edu)|171.64.64.22|:80... connected.\n",
      "HTTP request sent, awaiting response... 200 OK\n",
      "Length: 862182613 (822M) [application/zip]\n",
      "Saving to: ‘glove.6B.zip’\n",
      "\n",
      "glove.6B.zip        100%[===================>] 822.24M  5.07MB/s    in 2m 42s  \n",
      "\n",
      "2022-03-27 01:27:26 (5.09 MB/s) - ‘glove.6B.zip’ saved [862182613/862182613]\n",
      "\n"
     ]
    }
   ],
   "source": [
    "####################################################################\n",
    "#Download Glove \n",
    "####################################################################\n",
    "!wget http://nlp.stanford.edu/data/glove.6B.zip\n",
    "!unzip -q glove.6B.zip"
   ]
  },
  {
   "cell_type": "code",
   "execution_count": null,
   "metadata": {
    "colab": {
     "base_uri": "https://localhost:8080/"
    },
    "id": "175NGK1xYJHA",
    "outputId": "adee045d-777c-4a7e-beb7-852ed8259221"
   },
   "outputs": [
    {
     "name": "stdout",
     "output_type": "stream",
     "text": [
      "--2022-03-27 01:27:47--  https://s3.amazonaws.com/dl4j-distribution/GoogleNews-vectors-negative300.bin.gz\n",
      "Resolving s3.amazonaws.com (s3.amazonaws.com)... 52.217.135.16\n",
      "Connecting to s3.amazonaws.com (s3.amazonaws.com)|52.217.135.16|:443... connected.\n",
      "HTTP request sent, awaiting response... 200 OK\n",
      "Length: 1647046227 (1.5G) [application/x-gzip]\n",
      "Saving to: ‘/root/input/GoogleNews-vectors-negative300.bin.gz’\n",
      "\n",
      "GoogleNews-vectors- 100%[===================>]   1.53G  35.5MB/s    in 46s     \n",
      "\n",
      "2022-03-27 01:28:35 (34.1 MB/s) - ‘/root/input/GoogleNews-vectors-negative300.bin.gz’ saved [1647046227/1647046227]\n",
      "\n"
     ]
    }
   ],
   "source": [
    "#Download Word2Vec File\n",
    "!wget -P /root/input/ -c \"https://s3.amazonaws.com/dl4j-distribution/GoogleNews-vectors-negative300.bin.gz\""
   ]
  },
  {
   "cell_type": "code",
   "execution_count": null,
   "metadata": {
    "colab": {
     "base_uri": "https://localhost:8080/"
    },
    "id": "SqMKuOjQX9ic",
    "outputId": "8ed566a4-dd16-4b32-86e1-86ff968b72c0"
   },
   "outputs": [
    {
     "name": "stdout",
     "output_type": "stream",
     "text": [
      "Load time (seconds):  112.9201488494873\n"
     ]
    }
   ],
   "source": [
    "#load the downloaded Word2Vec\n",
    "start = time.time()\n",
    "EMBEDDING_FILE = '/root/input/GoogleNews-vectors-negative300.bin.gz'\n",
    "google_embeddings = KeyedVectors.load_word2vec_format(EMBEDDING_FILE, binary=True)\n",
    "print(\"Load time (seconds): \", (time.time() - start))"
   ]
  },
  {
   "cell_type": "code",
   "execution_count": null,
   "metadata": {
    "id": "KGUc1Vn_cRj5"
   },
   "outputs": [],
   "source": [
    "# ########## People Running Locally############\n",
    "# start = time.time()\n",
    "# EMBEDDING_FILE = 'GoogleNews-vectors-negative300.bin.gz'\n",
    "# google_embeddings = KeyedVectors.load_word2vec_format(EMBEDDING_FILE, binary=True)\n",
    "# print(\"Load time (seconds): \", (time.time() - start))"
   ]
  },
  {
   "cell_type": "code",
   "execution_count": null,
   "metadata": {
    "colab": {
     "base_uri": "https://localhost:8080/"
    },
    "id": "4zTLAZ_LWkph",
    "outputId": "7364b169-64f1-4012-b89d-aa76ca27a259"
   },
   "outputs": [
    {
     "data": {
      "text/plain": [
       "(400000, 300)"
      ]
     },
     "execution_count": 13,
     "metadata": {},
     "output_type": "execute_result"
    }
   ],
   "source": [
    "# load Stanford's pre-trained GloVe embeddings\n",
    "glove_file = \"glove.6B.300d.txt\"\n",
    "glove_word2vec_file = \"glove.6B.100d.txt.word2vec\"\n",
    "\n",
    "glove2word2vec(glove_file, glove_word2vec_file)"
   ]
  },
  {
   "cell_type": "code",
   "execution_count": null,
   "metadata": {
    "colab": {
     "base_uri": "https://localhost:8080/"
    },
    "id": "fkivgb2BXEC4",
    "outputId": "6a5dca50-2dd9-4ad5-9222-99f3c46973e7"
   },
   "outputs": [
    {
     "name": "stdout",
     "output_type": "stream",
     "text": [
      "Load time (seconds):  53.84565830230713\n"
     ]
    }
   ],
   "source": [
    "# glove embeddings\n",
    "start = time.time()\n",
    "\n",
    "glove_embeddings = KeyedVectors.load_word2vec_format(glove_word2vec_file, binary=False)\n",
    "\n",
    "print(\"Load time (seconds): \", (time.time() - start))"
   ]
  },
  {
   "cell_type": "markdown",
   "metadata": {
    "id": "zmJmV-IW43nO"
   },
   "source": [
    "Comparing Word2Vec vs Glove vs Glove w/Embeddings"
   ]
  },
  {
   "cell_type": "code",
   "execution_count": null,
   "metadata": {
    "id": "gf068rZDS54p"
   },
   "outputs": [],
   "source": [
    "# Apply label encoder on the 'outcome' column to make the results to be in {0,1,2,3,4,5}corresponding to our departments\n",
    "def label_encoder(data):\n",
    "    class_le = LabelEncoder()    \n",
    "    y = class_le.fit_transform(emails_df2['outcome'])\n",
    "    return y"
   ]
  },
  {
   "cell_type": "code",
   "execution_count": null,
   "metadata": {
    "id": "zoxQtesuTA_q"
   },
   "outputs": [],
   "source": [
    "y = label_encoder(emails_df2)\n",
    "input_data = emails_df2['raw_text']"
   ]
  },
  {
   "cell_type": "code",
   "execution_count": null,
   "metadata": {
    "id": "s-r0tUj5Tsjj"
   },
   "outputs": [],
   "source": [
    "# split the data into training and test set\n",
    "X_train, X_test, y_train, y_test = train_test_split(input_data, y, test_size=0.2)"
   ]
  },
  {
   "cell_type": "code",
   "execution_count": null,
   "metadata": {
    "id": "JOIVAm-WTtvy"
   },
   "outputs": [],
   "source": [
    "# one-hot encode the output labels\n",
    "Y_train = to_categorical(y_train, 6)\n",
    "Y_test = to_categorical(y_test, 6)"
   ]
  },
  {
   "cell_type": "code",
   "execution_count": null,
   "metadata": {
    "id": "Y-pFKqXdT52N"
   },
   "outputs": [],
   "source": [
    "# prepare tokenizer to convert our words into matrix\n",
    "t = Tokenizer()\n",
    "\n",
    "# fit the tokenizer on the docs\n",
    "t.fit_on_texts(input_data)\n",
    "vocab_size = len(t.word_index) + 1\n",
    "\n",
    "# integer encode the documents\n",
    "X_train_encoded_docs = t.texts_to_sequences(X_train)\n",
    "X_test_encoded_docs = t.texts_to_sequences(X_test)"
   ]
  },
  {
   "cell_type": "code",
   "execution_count": null,
   "metadata": {
    "colab": {
     "base_uri": "https://localhost:8080/"
    },
    "id": "1kCArclUT8SP",
    "outputId": "9d53a575-bb3f-45a3-b221-b7ef519184f5"
   },
   "outputs": [
    {
     "name": "stdout",
     "output_type": "stream",
     "text": [
      "[   351  10647  27108   3755   3989   1991   1163   2350    382     53\n",
      "   1152    403  10008    382    176   3755   1267    114   3989   6989\n",
      "   1813    382    352   2350   3755     53   1152    403   4993   1214\n",
      "    382   1302    176   3755   1267   1296    382   1090   7501  40948\n",
      "   1152    382   3755  30712     22    382 106415   3755    469   3755\n",
      "    578   1844   1017     22     74   2331   1456    382     92    235\n",
      "   1718  27108   3755   1142  33248     53   1456    382     92    235\n",
      "   1718  10647   3755     30  15762   2937   2534    176   2863  10647\n",
      "  27108   3755   6894    382     64   2863   2973  15762    351    382\n",
      "   4345    515   4827    182    978   4345    386    382   4345   2863\n",
      "    382   4420   3539   1152   1082   4420    382   3755    757   5604\n",
      "    351    182   4071   4345    382   1069    235  10647   3755   8784\n",
      "    954   1152    238   3177    176   3755   1296    176   3755   1267\n",
      "   1296    707    382   1163   2539    841    302   1267   1296    353\n",
      "   1909    382    141     21     49     59  11849   3612  29415  26486]\n"
     ]
    }
   ],
   "source": [
    "# pad documents to a max length of 150 words\n",
    "max_length = 150\n",
    "X_train_padded_docs = pad_sequences(X_train_encoded_docs, maxlen=max_length, padding='post')\n",
    "X_test_padded_docs = pad_sequences(X_test_encoded_docs, maxlen=max_length, padding='post')\n",
    "\n",
    "print(X_train_padded_docs[0])"
   ]
  },
  {
   "cell_type": "markdown",
   "metadata": {
    "id": "GJrgB9ReT-2l"
   },
   "source": [
    "Word 2 Vec "
   ]
  },
  {
   "cell_type": "code",
   "execution_count": null,
   "metadata": {
    "id": "oG4WS8BkUAkW"
   },
   "outputs": [],
   "source": [
    "# create a weight matrix for words in training docs\n",
    "embedding_matrix = np.zeros((vocab_size, 300))\n",
    "\n",
    "for word, i in t.word_index.items():\n",
    "    \n",
    "    try:\n",
    "        embedding_vector = google_embeddings[word]\n",
    "    \n",
    "        if embedding_vector is not None:\n",
    "            embedding_matrix[i] = embedding_vector \n",
    "    except:\n",
    "        pass"
   ]
  },
  {
   "cell_type": "code",
   "execution_count": null,
   "metadata": {
    "colab": {
     "base_uri": "https://localhost:8080/"
    },
    "id": "ovhQc6LCUCDh",
    "outputId": "05195069-b4dd-410c-b677-1a758fbb2205"
   },
   "outputs": [
    {
     "name": "stdout",
     "output_type": "stream",
     "text": [
      "Model: \"sequential\"\n",
      "_________________________________________________________________\n",
      " Layer (type)                Output Shape              Param #   \n",
      "=================================================================\n",
      " embedding (Embedding)       (None, 150, 300)          54649800  \n",
      "                                                                 \n",
      " lstm (LSTM)                 (None, 100)               160400    \n",
      "                                                                 \n",
      " flatten (Flatten)           (None, 100)               0         \n",
      "                                                                 \n",
      " dense (Dense)               (None, 6)                 606       \n",
      "                                                                 \n",
      "=================================================================\n",
      "Total params: 54,810,806\n",
      "Trainable params: 161,006\n",
      "Non-trainable params: 54,649,800\n",
      "_________________________________________________________________\n"
     ]
    }
   ],
   "source": [
    "# define the model\n",
    "model = Sequential()\n",
    "e = Embedding(vocab_size, 300, weights=[embedding_matrix], input_length=max_length, trainable=False)\n",
    "model.add(e)\n",
    "model.add(LSTM(100, dropout=0.2))\n",
    "model.add(Flatten())\n",
    "model.add(Dense(6, activation='softmax'))\n",
    "\n",
    "\n",
    "# compile the model\n",
    "model.compile(optimizer='adam', loss='categorical_crossentropy', metrics=['accuracy'])\n",
    "\n",
    "# summarize the model\n",
    "model.summary()"
   ]
  },
  {
   "cell_type": "code",
   "execution_count": null,
   "metadata": {
    "id": "7BggTLokUD6L"
   },
   "outputs": [],
   "source": [
    "clear_session()"
   ]
  },
  {
   "cell_type": "code",
   "execution_count": null,
   "metadata": {
    "colab": {
     "base_uri": "https://localhost:8080/"
    },
    "id": "byadsKKhUFrk",
    "outputId": "b7d03568-e87e-4783-8ea5-3f701e6bac2c"
   },
   "outputs": [
    {
     "name": "stdout",
     "output_type": "stream",
     "text": [
      "Epoch 1/10\n",
      "1400/1400 [==============================] - 19s 10ms/step - loss: 1.4670 - accuracy: 0.4365 - val_loss: 1.3279 - val_accuracy: 0.5132\n",
      "Epoch 2/10\n",
      "1400/1400 [==============================] - 13s 9ms/step - loss: 1.2559 - accuracy: 0.5393 - val_loss: 1.1195 - val_accuracy: 0.6012\n",
      "Epoch 3/10\n",
      "1400/1400 [==============================] - 13s 9ms/step - loss: 1.0179 - accuracy: 0.6357 - val_loss: 0.9589 - val_accuracy: 0.6527\n",
      "Epoch 4/10\n",
      "1400/1400 [==============================] - 13s 9ms/step - loss: 0.9159 - accuracy: 0.6720 - val_loss: 0.8859 - val_accuracy: 0.6854\n",
      "Epoch 5/10\n",
      "1400/1400 [==============================] - 13s 9ms/step - loss: 0.8369 - accuracy: 0.7030 - val_loss: 0.8289 - val_accuracy: 0.7054\n",
      "Epoch 6/10\n",
      "1400/1400 [==============================] - 13s 9ms/step - loss: 0.7641 - accuracy: 0.7294 - val_loss: 0.7621 - val_accuracy: 0.7338\n",
      "Epoch 7/10\n",
      "1400/1400 [==============================] - 13s 9ms/step - loss: 0.6919 - accuracy: 0.7596 - val_loss: 0.7172 - val_accuracy: 0.7529\n",
      "Epoch 8/10\n",
      "1400/1400 [==============================] - 13s 9ms/step - loss: 0.6226 - accuracy: 0.7853 - val_loss: 0.6645 - val_accuracy: 0.7711\n",
      "Epoch 9/10\n",
      "1400/1400 [==============================] - 13s 9ms/step - loss: 0.5657 - accuracy: 0.8051 - val_loss: 0.6276 - val_accuracy: 0.7879\n",
      "Epoch 10/10\n",
      "1400/1400 [==============================] - 13s 9ms/step - loss: 0.5144 - accuracy: 0.8243 - val_loss: 0.6001 - val_accuracy: 0.7966\n"
     ]
    }
   ],
   "source": [
    "# train the model\n",
    "clear_session()\n",
    "history = model.fit(X_train_padded_docs, Y_train, epochs=10, verbose=1, validation_split=0.2)"
   ]
  },
  {
   "cell_type": "code",
   "execution_count": null,
   "metadata": {
    "colab": {
     "base_uri": "https://localhost:8080/"
    },
    "id": "FgLT1C57UUWr",
    "outputId": "daabe306-cac3-44af-f477-1557b521ab21"
   },
   "outputs": [
    {
     "name": "stdout",
     "output_type": "stream",
     "text": [
      "438/438 [==============================] - 3s 5ms/step - loss: 0.5886 - accuracy: 0.8021\n",
      "Test Set: \n",
      " Loss: 0.589\n",
      " Accuracy: 0.802\n"
     ]
    }
   ],
   "source": [
    "# evaluate the model on the test set\n",
    "accr = model.evaluate(X_test_padded_docs, Y_test)\n",
    "print(\"Test Set: \\n Loss: {:0.3f}\\n Accuracy: {:0.3f}\".format(accr[0], accr[1]))"
   ]
  },
  {
   "cell_type": "code",
   "execution_count": null,
   "metadata": {
    "colab": {
     "base_uri": "https://localhost:8080/",
     "height": 281
    },
    "id": "_IJtNVfXUU9r",
    "outputId": "0b943d53-3f08-446b-d9f1-52676ae3e639"
   },
   "outputs": [
    {
     "data": {
      "image/png": "[encoded data removed]",
      "text/plain": [
       "<Figure size 432x288 with 1 Axes>"
      ]
     },
     "metadata": {
      "needs_background": "light"
     },
     "output_type": "display_data"
    }
   ],
   "source": [
    "# plot the loss\n",
    "plt.title(\"Word2Vec Loss\")\n",
    "plt.plot(history.history['loss'], label='train')\n",
    "plt.plot(history.history['val_loss'], label='validation')\n",
    "plt.legend()\n",
    "plt.show()"
   ]
  },
  {
   "cell_type": "code",
   "execution_count": null,
   "metadata": {
    "colab": {
     "base_uri": "https://localhost:8080/",
     "height": 295
    },
    "id": "GAEE_BazUWP4",
    "outputId": "5b98397d-61a5-4055-e38c-b96df9f189e8"
   },
   "outputs": [
    {
     "data": {
      "image/png": "[encoded data removed]",
      "text/plain": [
       "<Figure size 432x288 with 1 Axes>"
      ]
     },
     "metadata": {
      "needs_background": "light"
     },
     "output_type": "display_data"
    }
   ],
   "source": [
    "# plot the accuracy\n",
    "plt.title(\"Word2Vec Accuracy\")\n",
    "plt.plot(history.history['accuracy'], label='train')\n",
    "plt.plot(history.history['val_accuracy'], label='validation')\n",
    "plt.legend()\n",
    "plt.xlabel('Epochs')\n",
    "plt.ylabel(\"Accuracy\")\n",
    "plt.show()"
   ]
  },
  {
   "cell_type": "markdown",
   "metadata": {
    "id": "ynh_ODxGUYqc"
   },
   "source": [
    "Glove Dataset"
   ]
  },
  {
   "cell_type": "code",
   "execution_count": null,
   "metadata": {
    "id": "NFPMl6w3UZtv"
   },
   "outputs": [],
   "source": [
    "# create a weight matrix for words in training docs\n",
    "embedding_matrix = np.zeros((vocab_size, 300))\n",
    "\n",
    "for word, i in t.word_index.items():\n",
    "    \n",
    "    try:\n",
    "        embedding_vector = glove_embeddings[word]\n",
    "    \n",
    "        if embedding_vector is not None:\n",
    "            embedding_matrix[i] = embedding_vector \n",
    "    except:\n",
    "        pass"
   ]
  },
  {
   "cell_type": "code",
   "execution_count": null,
   "metadata": {
    "colab": {
     "base_uri": "https://localhost:8080/"
    },
    "id": "Hplt-ol8UbyX",
    "outputId": "2c9b6982-5c0e-4307-ac94-2c5713157e1a"
   },
   "outputs": [
    {
     "name": "stdout",
     "output_type": "stream",
     "text": [
      "Model: \"sequential\"\n",
      "_________________________________________________________________\n",
      " Layer (type)                Output Shape              Param #   \n",
      "=================================================================\n",
      " embedding (Embedding)       (None, 150, 300)          54649800  \n",
      "                                                                 \n",
      " lstm (LSTM)                 (None, 100)               160400    \n",
      "                                                                 \n",
      " flatten (Flatten)           (None, 100)               0         \n",
      "                                                                 \n",
      " dense (Dense)               (None, 6)                 606       \n",
      "                                                                 \n",
      "=================================================================\n",
      "Total params: 54,810,806\n",
      "Trainable params: 161,006\n",
      "Non-trainable params: 54,649,800\n",
      "_________________________________________________________________\n"
     ]
    }
   ],
   "source": [
    "# define the model\n",
    "model2 = Sequential()\n",
    "e = Embedding(vocab_size, 300, weights=[embedding_matrix], input_length=max_length, trainable=False)\n",
    "model2.add(e)\n",
    "model2.add(LSTM(100, dropout=0.2))\n",
    "model.add(Flatten())\n",
    "model2.add(Dense(6, activation='softmax'))\n",
    "\n",
    "\n",
    "# compile the model\n",
    "model2.compile(optimizer='adam', loss='categorical_crossentropy', metrics=['accuracy'])\n",
    "\n",
    "# summarize the model\n",
    "model2.summary()"
   ]
  },
  {
   "cell_type": "code",
   "execution_count": null,
   "metadata": {
    "colab": {
     "base_uri": "https://localhost:8080/"
    },
    "id": "Fx3Lx6uwUdcy",
    "outputId": "1bbaee69-86f2-4632-8b63-4a2ed51c842c"
   },
   "outputs": [
    {
     "name": "stdout",
     "output_type": "stream",
     "text": [
      "Epoch 1/10\n",
      "1400/1400 [==============================] - 15s 10ms/step - loss: 1.4204 - accuracy: 0.4503 - val_loss: 1.3069 - val_accuracy: 0.5115\n",
      "Epoch 2/10\n",
      "1400/1400 [==============================] - 13s 9ms/step - loss: 1.2244 - accuracy: 0.5419 - val_loss: 1.0629 - val_accuracy: 0.6031\n",
      "Epoch 3/10\n",
      "1400/1400 [==============================] - 13s 9ms/step - loss: 0.9510 - accuracy: 0.6554 - val_loss: 0.8563 - val_accuracy: 0.6955\n",
      "Epoch 4/10\n",
      "1400/1400 [==============================] - 13s 9ms/step - loss: 0.7904 - accuracy: 0.7163 - val_loss: 0.7571 - val_accuracy: 0.7334\n",
      "Epoch 5/10\n",
      "1400/1400 [==============================] - 13s 9ms/step - loss: 0.6723 - accuracy: 0.7635 - val_loss: 0.6934 - val_accuracy: 0.7588\n",
      "Epoch 6/10\n",
      "1400/1400 [==============================] - 13s 9ms/step - loss: 0.5776 - accuracy: 0.7994 - val_loss: 0.6179 - val_accuracy: 0.7897\n",
      "Epoch 7/10\n",
      "1400/1400 [==============================] - 13s 9ms/step - loss: 0.5003 - accuracy: 0.8279 - val_loss: 0.5706 - val_accuracy: 0.8106\n",
      "Epoch 8/10\n",
      "1400/1400 [==============================] - 13s 9ms/step - loss: 0.4381 - accuracy: 0.8502 - val_loss: 0.5391 - val_accuracy: 0.8221\n",
      "Epoch 9/10\n",
      "1400/1400 [==============================] - 13s 9ms/step - loss: 0.3860 - accuracy: 0.8688 - val_loss: 0.5415 - val_accuracy: 0.8296\n",
      "Epoch 10/10\n",
      "1400/1400 [==============================] - 13s 9ms/step - loss: 0.3500 - accuracy: 0.8801 - val_loss: 0.4977 - val_accuracy: 0.8442\n"
     ]
    }
   ],
   "source": [
    "# fit the model\n",
    "history2 = model2.fit(X_train_padded_docs, Y_train, epochs=10, verbose=1, validation_split=0.2)"
   ]
  },
  {
   "cell_type": "code",
   "execution_count": null,
   "metadata": {
    "colab": {
     "base_uri": "https://localhost:8080/"
    },
    "id": "WZQy0oxVUetB",
    "outputId": "d4110f6f-8e2b-4a15-8df7-c68b81f1ccf6"
   },
   "outputs": [
    {
     "name": "stdout",
     "output_type": "stream",
     "text": [
      "438/438 [==============================] - 3s 5ms/step - loss: 0.4832 - accuracy: 0.8486\n",
      "Test Set: \n",
      " Loss: 0.483\n",
      " Accuracy: 0.849\n"
     ]
    }
   ],
   "source": [
    "# evaluate the model2 on the test set\n",
    "accr2 = model2.evaluate(X_test_padded_docs, Y_test)\n",
    "print(\"Test Set: \\n Loss: {:0.3f}\\n Accuracy: {:0.3f}\".format(accr2[0], accr2[1]))"
   ]
  },
  {
   "cell_type": "code",
   "execution_count": null,
   "metadata": {
    "colab": {
     "base_uri": "https://localhost:8080/",
     "height": 295
    },
    "id": "Ge7USBqHUf6E",
    "outputId": "5d39d87d-8c4b-46b2-b217-d8a02814e5fc"
   },
   "outputs": [
    {
     "data": {
      "image/png": "[encoded data removed]",
      "text/plain": [
       "<Figure size 432x288 with 1 Axes>"
      ]
     },
     "metadata": {
      "needs_background": "light"
     },
     "output_type": "display_data"
    }
   ],
   "source": [
    "# plot the loss\n",
    "plt.title(\"Glove Word2Vec Loss\")\n",
    "plt.plot(history2.history['loss'], label='train')\n",
    "plt.plot(history2.history['val_loss'], label='validation')\n",
    "plt.legend()\n",
    "plt.xlabel(\"Epochs\")\n",
    "plt.ylabel(\"loss\")\n",
    "plt.show()"
   ]
  },
  {
   "cell_type": "code",
   "execution_count": null,
   "metadata": {
    "colab": {
     "base_uri": "https://localhost:8080/",
     "height": 295
    },
    "id": "lg11iZ9FUhgc",
    "outputId": "824f827e-f507-4661-f961-c58ce3d32f92"
   },
   "outputs": [
    {
     "data": {
      "image/png": "[encoded data removed]",
      "text/plain": [
       "<Figure size 432x288 with 1 Axes>"
      ]
     },
     "metadata": {
      "needs_background": "light"
     },
     "output_type": "display_data"
    }
   ],
   "source": [
    "# plot the accuracy\n",
    "plt.title(\"GloVe Word2Vec Accuracy\")\n",
    "plt.plot(history2.history['accuracy'], label='train')\n",
    "plt.plot(history2.history['val_accuracy'], label='validation')\n",
    "plt.legend()\n",
    "plt.xlabel('Epochs')\n",
    "plt.ylabel(\"Accuracy\")\n",
    "plt.show()"
   ]
  },
  {
   "cell_type": "markdown",
   "metadata": {
    "id": "gYZPxOZiUthE"
   },
   "source": [
    "Using Glove Embeddings"
   ]
  },
  {
   "cell_type": "code",
   "execution_count": null,
   "metadata": {
    "colab": {
     "base_uri": "https://localhost:8080/"
    },
    "id": "uW6_46mZUjOR",
    "outputId": "52073741-6504-4d3b-a3de-3919b61078fd"
   },
   "outputs": [
    {
     "name": "stdout",
     "output_type": "stream",
     "text": [
      "Model: \"sequential_22\"\n",
      "_________________________________________________________________\n",
      " Layer (type)                Output Shape              Param #   \n",
      "=================================================================\n",
      " embedding_23 (Embedding)    (None, 150, 300)          54649800  \n",
      "                                                                 \n",
      " lstm_28 (LSTM)              (None, 100)               160400    \n",
      "                                                                 \n",
      " flatten_10 (Flatten)        (None, 100)               0         \n",
      "                                                                 \n",
      " dense_23 (Dense)            (None, 6)                 606       \n",
      "                                                                 \n",
      "=================================================================\n",
      "Total params: 54,810,806\n",
      "Trainable params: 54,810,806\n",
      "Non-trainable params: 0\n",
      "_________________________________________________________________\n"
     ]
    }
   ],
   "source": [
    "# define the model\n",
    "model3 = Sequential()\n",
    "model3.add(Embedding(vocab_size, 300, input_length=max_length))\n",
    "model3.add(LSTM(100, dropout=0.2))\n",
    "model3.add(Flatten())\n",
    "model3.add(Dense(6, activation='softmax'))\n",
    "\n",
    "# compile the model\n",
    "model3.compile(optimizer='adam', loss='categorical_crossentropy', metrics=['accuracy'])\n",
    "\n",
    "# summarize the model\n",
    "model3.summary()"
   ]
  },
  {
   "cell_type": "code",
   "execution_count": null,
   "metadata": {
    "colab": {
     "base_uri": "https://localhost:8080/"
    },
    "id": "BsWd_oPTUmOp",
    "outputId": "2e54dde0-1317-4982-859e-69a4c244e78b"
   },
   "outputs": [
    {
     "name": "stdout",
     "output_type": "stream",
     "text": [
      "Epoch 1/20\n",
      "1400/1400 [==============================] - 38s 24ms/step - loss: 1.3872 - accuracy: 0.4672 - val_loss: 1.2212 - val_accuracy: 0.5510\n",
      "Epoch 2/20\n",
      "1400/1400 [==============================] - 34s 24ms/step - loss: 0.9896 - accuracy: 0.6379 - val_loss: 0.8754 - val_accuracy: 0.7044\n",
      "Epoch 3/20\n",
      "1400/1400 [==============================] - 34s 24ms/step - loss: 0.5574 - accuracy: 0.8166 - val_loss: 0.5504 - val_accuracy: 0.8309\n",
      "Epoch 4/20\n",
      "1400/1400 [==============================] - 34s 24ms/step - loss: 0.2593 - accuracy: 0.9189 - val_loss: 0.4527 - val_accuracy: 0.8706\n",
      "Epoch 5/20\n",
      "1400/1400 [==============================] - 34s 24ms/step - loss: 0.1405 - accuracy: 0.9558 - val_loss: 0.4394 - val_accuracy: 0.8840\n",
      "Epoch 6/20\n",
      "1400/1400 [==============================] - 34s 24ms/step - loss: 0.0912 - accuracy: 0.9704 - val_loss: 0.4506 - val_accuracy: 0.8846\n",
      "Epoch 7/20\n",
      "1400/1400 [==============================] - 34s 24ms/step - loss: 0.0650 - accuracy: 0.9778 - val_loss: 0.4743 - val_accuracy: 0.8899\n",
      "Epoch 8/20\n",
      "1033/1400 [=====================>........] - ETA: 8s - loss: 0.0496 - accuracy: 0.9827"
     ]
    }
   ],
   "source": [
    "# train the model\n",
    "history3 = model3.fit(X_train_padded_docs, Y_train, validation_split=0.2, epochs=20, verbose=1)"
   ]
  },
  {
   "cell_type": "code",
   "execution_count": null,
   "metadata": {
    "id": "wJwRTYn5Uxmw"
   },
   "outputs": [],
   "source": [
    "# save learned word embeddings\n",
    "own_embeddings = model3.get_layer('embedding_1').get_weights()[0]\n",
    "\n",
    "custom_w2v = {}\n",
    "\n",
    "for word, index in t.word_index.items():\n",
    "    custom_w2v[word] = own_embeddings[index]\n",
    "    \n",
    "import pickle    \n",
    "# save to file\n",
    "with open(\"own_embeddings.pkl\", \"wb\") as handle:\n",
    "    pickle.dump(custom_w2v, handle, protocol=pickle.HIGHEST_PROTOCOL)"
   ]
  },
  {
   "cell_type": "code",
   "execution_count": null,
   "metadata": {
    "id": "tuljf744U0hF"
   },
   "outputs": [],
   "source": [
    "# load own_embeddings\n",
    "#with open(\"own_embeddings.pkl\", \"rb\") as handle:\n",
    " #   own_embeddings = pickle.load(handle)"
   ]
  },
  {
   "cell_type": "code",
   "execution_count": null,
   "metadata": {
    "colab": {
     "base_uri": "https://localhost:8080/"
    },
    "id": "ZkO6eBggU3uX",
    "outputId": "57b00b3b-e249-4e5d-8ba4-a2cad8090226"
   },
   "outputs": [
    {
     "name": "stdout",
     "output_type": "stream",
     "text": [
      "438/438 [==============================] - 3s 5ms/step - loss: 0.5188 - accuracy: 0.8907\n",
      "Test Set:\n",
      "  Loss: 0.519\n",
      "   Accuracy: 0.891\n"
     ]
    }
   ],
   "source": [
    "# evaluate the model\n",
    "accr3 = model3.evaluate(X_test_padded_docs, Y_test)\n",
    "\n",
    "print(\"Test Set:\\n  Loss: {:0.3f}\\n   Accuracy: {:0.3f}\".format(accr3[0], accr3[1]))"
   ]
  },
  {
   "cell_type": "code",
   "execution_count": null,
   "metadata": {
    "colab": {
     "base_uri": "https://localhost:8080/",
     "height": 295
    },
    "id": "ZyhdQE9vU_qK",
    "outputId": "c80b26a4-cefc-462f-eb03-e335d8d43fe5"
   },
   "outputs": [
    {
     "data": {
      "image/png": "[encoded data removed]",
      "text/plain": [
       "<Figure size 432x288 with 1 Axes>"
      ]
     },
     "metadata": {
      "needs_background": "light"
     },
     "output_type": "display_data"
    }
   ],
   "source": [
    "# plot the loss\n",
    "plt.title(\"Loss\")\n",
    "plt.plot(history3.history['loss'], label='train')\n",
    "plt.plot(history3.history['val_loss'], label='validation')\n",
    "plt.legend()\n",
    "plt.xlabel(\"Epochs\")\n",
    "plt.ylabel(\"loss\")\n",
    "plt.show()"
   ]
  },
  {
   "cell_type": "code",
   "execution_count": null,
   "metadata": {
    "colab": {
     "base_uri": "https://localhost:8080/",
     "height": 295
    },
    "id": "Nalj6GgJVBFL",
    "outputId": "962cf382-5897-40ce-e91d-07ff98fb77ab"
   },
   "outputs": [
    {
     "data": {
      "image/png": "[encoded data removed]",
      "text/plain": [
       "<Figure size 432x288 with 1 Axes>"
      ]
     },
     "metadata": {
      "needs_background": "light"
     },
     "output_type": "display_data"
    }
   ],
   "source": [
    "# plot the accuracy\n",
    "plt.title(\"Accuracy\")\n",
    "plt.plot(history3.history['accuracy'], label='train')\n",
    "plt.plot(history3.history['val_accuracy'], label='validation')\n",
    "plt.legend()\n",
    "plt.xlabel('Epochs')\n",
    "plt.ylabel(\"Accuracy\")\n",
    "plt.show()"
   ]
  },
  {
   "cell_type": "code",
   "execution_count": null,
   "metadata": {
    "colab": {
     "base_uri": "https://localhost:8080/",
     "height": 143
    },
    "id": "gNgAmC-mVCkX",
    "outputId": "b8697f43-488f-426f-940e-949161c58875"
   },
   "outputs": [
    {
     "data": {
      "text/html": [
       "\n",
       "  <div id=\"df-675d3918-b77b-4f05-8efb-80c320ecc693\">\n",
       "    <div class=\"colab-df-container\">\n",
       "      <div>\n",
       "<style scoped>\n",
       "    .dataframe tbody tr th:only-of-type {\n",
       "        vertical-align: middle;\n",
       "    }\n",
       "\n",
       "    .dataframe tbody tr th {\n",
       "        vertical-align: top;\n",
       "    }\n",
       "\n",
       "    .dataframe thead th {\n",
       "        text-align: right;\n",
       "    }\n",
       "</style>\n",
       "<table border=\"1\" class=\"dataframe\">\n",
       "  <thead>\n",
       "    <tr style=\"text-align: right;\">\n",
       "      <th></th>\n",
       "      <th>Technique</th>\n",
       "      <th>test accuracy</th>\n",
       "    </tr>\n",
       "  </thead>\n",
       "  <tbody>\n",
       "    <tr>\n",
       "      <th>0</th>\n",
       "      <td>Word2Vec</td>\n",
       "      <td>0.802071</td>\n",
       "    </tr>\n",
       "    <tr>\n",
       "      <th>1</th>\n",
       "      <td>GloVe</td>\n",
       "      <td>0.848571</td>\n",
       "    </tr>\n",
       "    <tr>\n",
       "      <th>2</th>\n",
       "      <td>Glove w/ Embeddings</td>\n",
       "      <td>0.890714</td>\n",
       "    </tr>\n",
       "  </tbody>\n",
       "</table>\n",
       "</div>\n",
       "      <button class=\"colab-df-convert\" onclick=\"convertToInteractive('df-675d3918-b77b-4f05-8efb-80c320ecc693')\"\n",
       "              title=\"Convert this dataframe to an interactive table.\"\n",
       "              style=\"display:none;\">\n",
       "        \n",
       "  <svg xmlns=\"http://www.w3.org/2000/svg\" height=\"24px\"viewBox=\"0 0 24 24\"\n",
       "       width=\"24px\">\n",
       "    <path d=\"M0 0h24v24H0V0z\" fill=\"none\"/>\n",
       "    <path d=\"M18.56 5.44l.94 2.06.94-2.06 2.06-.94-2.06-.94-.94-2.06-.94 2.06-2.06.94zm-11 1L8.5 8.5l.94-2.06 2.06-.94-2.06-.94L8.5 2.5l-.94 2.06-2.06.94zm10 10l.94 2.06.94-2.06 2.06-.94-2.06-.94-.94-2.06-.94 2.06-2.06.94z\"/><path d=\"M17.41 7.96l-1.37-1.37c-.4-.4-.92-.59-1.43-.59-.52 0-1.04.2-1.43.59L10.3 9.45l-7.72 7.72c-.78.78-.78 2.05 0 2.83L4 21.41c.39.39.9.59 1.41.59.51 0 1.02-.2 1.41-.59l7.78-7.78 2.81-2.81c.8-.78.8-2.07 0-2.86zM5.41 20L4 18.59l7.72-7.72 1.47 1.35L5.41 20z\"/>\n",
       "  </svg>\n",
       "      </button>\n",
       "      \n",
       "  <style>\n",
       "    .colab-df-container {\n",
       "      display:flex;\n",
       "      flex-wrap:wrap;\n",
       "      gap: 12px;\n",
       "    }\n",
       "\n",
       "    .colab-df-convert {\n",
       "      background-color: #E8F0FE;\n",
       "      border: none;\n",
       "      border-radius: 50%;\n",
       "      cursor: pointer;\n",
       "      display: none;\n",
       "      fill: #1967D2;\n",
       "      height: 32px;\n",
       "      padding: 0 0 0 0;\n",
       "      width: 32px;\n",
       "    }\n",
       "\n",
       "    .colab-df-convert:hover {\n",
       "      background-color: #E2EBFA;\n",
       "      box-shadow: 0px 1px 2px rgba(60, 64, 67, 0.3), 0px 1px 3px 1px rgba(60, 64, 67, 0.15);\n",
       "      fill: #174EA6;\n",
       "    }\n",
       "\n",
       "    [theme=dark] .colab-df-convert {\n",
       "      background-color: #3B4455;\n",
       "      fill: #D2E3FC;\n",
       "    }\n",
       "\n",
       "    [theme=dark] .colab-df-convert:hover {\n",
       "      background-color: #434B5C;\n",
       "      box-shadow: 0px 1px 3px 1px rgba(0, 0, 0, 0.15);\n",
       "      filter: drop-shadow(0px 1px 2px rgba(0, 0, 0, 0.3));\n",
       "      fill: #FFFFFF;\n",
       "    }\n",
       "  </style>\n",
       "\n",
       "      <script>\n",
       "        const buttonEl =\n",
       "          document.querySelector('#df-675d3918-b77b-4f05-8efb-80c320ecc693 button.colab-df-convert');\n",
       "        buttonEl.style.display =\n",
       "          google.colab.kernel.accessAllowed ? 'block' : 'none';\n",
       "\n",
       "        async function convertToInteractive(key) {\n",
       "          const element = document.querySelector('#df-675d3918-b77b-4f05-8efb-80c320ecc693');\n",
       "          const dataTable =\n",
       "            await google.colab.kernel.invokeFunction('convertToInteractive',\n",
       "                                                     [key], {});\n",
       "          if (!dataTable) return;\n",
       "\n",
       "          const docLinkHtml = 'Like what you see? Visit the ' +\n",
       "            '<a target=\"_blank\" href=https://colab.research.google.com/notebooks/data_table.ipynb>data table notebook</a>'\n",
       "            + ' to learn more about interactive tables.';\n",
       "          element.innerHTML = '';\n",
       "          dataTable['output_type'] = 'display_data';\n",
       "          await google.colab.output.renderOutput(dataTable, element);\n",
       "          const docLink = document.createElement('div');\n",
       "          docLink.innerHTML = docLinkHtml;\n",
       "          element.appendChild(docLink);\n",
       "        }\n",
       "      </script>\n",
       "    </div>\n",
       "  </div>\n",
       "  "
      ],
      "text/plain": [
       "             Technique  test accuracy\n",
       "0             Word2Vec       0.802071\n",
       "1                GloVe       0.848571\n",
       "2  Glove w/ Embeddings       0.890714"
      ]
     },
     "execution_count": 41,
     "metadata": {},
     "output_type": "execute_result"
    }
   ],
   "source": [
    "# create a dataframe to store results\n",
    "res_data = {\n",
    "    \"Technique\": ['Word2Vec', 'GloVe', 'Glove w/ Embeddings'],\n",
    "    \"test accuracy\": [accr[1], accr2[1], accr3[1]]\n",
    "}\n",
    "result = pd.DataFrame(res_data)\n",
    "result"
   ]
  },
  {
   "cell_type": "code",
   "execution_count": null,
   "metadata": {
    "id": "tnLGSgWpVG3Z"
   },
   "outputs": [],
   "source": []
  },
  {
   "cell_type": "markdown",
   "metadata": {
    "id": "MLQPJ-F-VHd7"
   },
   "source": [
    "Using CNN w Embeddings"
   ]
  },
  {
   "cell_type": "code",
   "execution_count": null,
   "metadata": {
    "colab": {
     "base_uri": "https://localhost:8080/"
    },
    "id": "y_OGVawXVJpg",
    "outputId": "6630fe8f-82a1-4926-a184-d9fef6a0b80e"
   },
   "outputs": [
    {
     "data": {
      "text/plain": [
       "raw_text    object\n",
       "outcome      int64\n",
       "dtype: object"
      ]
     },
     "execution_count": 42,
     "metadata": {},
     "output_type": "execute_result"
    }
   ],
   "source": [
    "emails_df2.dtypes"
   ]
  },
  {
   "cell_type": "code",
   "execution_count": null,
   "metadata": {
    "id": "TtlPtdo-v1rT"
   },
   "outputs": [],
   "source": [
    "samples = []\n",
    "labels = []\n",
    "for index, row in emails_df2.iterrows():\n",
    "    samples.append(row['raw_text'])\n",
    "    labels.append(row['outcome'])\n",
    "\n",
    "                "
   ]
  },
  {
   "cell_type": "code",
   "execution_count": null,
   "metadata": {
    "colab": {
     "base_uri": "https://localhost:8080/"
    },
    "id": "Hw3OgBZn3Jfk",
    "outputId": "0a82784a-fe2e-4f73-a4b7-78acd2ef70b6"
   },
   "outputs": [
    {
     "data": {
      "text/plain": [
       "70000"
      ]
     },
     "execution_count": 44,
     "metadata": {},
     "output_type": "execute_result"
    }
   ],
   "source": [
    "len(samples)"
   ]
  },
  {
   "cell_type": "code",
   "execution_count": null,
   "metadata": {
    "id": "VP092AGxv5ia"
   },
   "outputs": [],
   "source": [
    "# Shuffle the data\n",
    "seed = 1337\n",
    "rng = np.random.RandomState(seed)\n",
    "rng.shuffle(samples)\n",
    "rng = np.random.RandomState(seed)\n",
    "rng.shuffle(labels)\n",
    "\n",
    "# Extract a training & validation split\n",
    "validation_split = 0.2\n",
    "num_validation_samples = int(validation_split * len(samples))\n",
    "train_samples = samples[:-num_validation_samples]\n",
    "val_samples = samples[-num_validation_samples:]\n",
    "train_labels = labels[:-num_validation_samples]\n",
    "val_labels = labels[-num_validation_samples:]"
   ]
  },
  {
   "cell_type": "code",
   "execution_count": null,
   "metadata": {
    "colab": {
     "base_uri": "https://localhost:8080/"
    },
    "id": "oFpbIDQ04DPl",
    "outputId": "1a601ea9-4428-4f58-9f09-c00bf9d41413"
   },
   "outputs": [
    {
     "data": {
      "text/plain": [
       "35945    ['new enrononline functionality several change...\n",
       "8344     ['rankings http rivals rivals com default asp ...\n",
       "39697    ['alonzo williams michelle please try give cal...\n",
       "65078    ['feel sorry pg e following summary pg e ctc r...\n",
       "42113    ['forestweb prices bloomberg professional serv...\n",
       "                               ...                        \n",
       "3017     ['spreads think would rally march thing traded...\n",
       "59899    ['confidential ca customer letter note sent ca...\n",
       "846      [' lucy rentroll friday sorry late problems re...\n",
       "22452    ['potential outsourcing customers gas financia...\n",
       "18386    ['far east write ups following write ups tim p...\n",
       "Name: raw_text, Length: 56000, dtype: object"
      ]
     },
     "execution_count": 46,
     "metadata": {},
     "output_type": "execute_result"
    }
   ],
   "source": [
    "X_train"
   ]
  },
  {
   "cell_type": "code",
   "execution_count": null,
   "metadata": {
    "id": "nN_U1nLTaD2X"
   },
   "outputs": [],
   "source": [
    "#Our layer will look at the top 20,000 words, and will truncate or pad sequences to be  200 tokens long.\n",
    "from tensorflow.keras.layers import TextVectorization\n",
    "\n",
    "vectorizer = TextVectorization(max_tokens=20000, output_sequence_length=200)\n",
    "text_ds = tf.data.Dataset.from_tensor_slices(train_samples).batch(128)\n",
    "vectorizer.adapt(text_ds)\n"
   ]
  },
  {
   "cell_type": "code",
   "execution_count": null,
   "metadata": {
    "colab": {
     "base_uri": "https://localhost:8080/"
    },
    "id": "UoGGlvzcWNXL",
    "outputId": "8845e567-e8d5-428e-d611-b787e4d59be4"
   },
   "outputs": [
    {
     "name": "stdout",
     "output_type": "stream",
     "text": [
      "Found 400000 word vectors.\n"
     ]
    }
   ],
   "source": [
    "path_to_glove_file = GLOVE_DATASET_PATH = 'glove.6B.300d.txt'\n",
    "embeddings_index = {}\n",
    "with open(path_to_glove_file,encoding=\"utf8\") as f:\n",
    "    for line in f:\n",
    "        word, coefs = line.split(maxsplit=1)\n",
    "        coefs = np.fromstring(coefs, \"f\", sep=\" \")\n",
    "        embeddings_index[word] = coefs\n",
    "\n",
    "print(\"Found %s word vectors.\" % len(embeddings_index))\n"
   ]
  },
  {
   "cell_type": "code",
   "execution_count": null,
   "metadata": {
    "id": "-xq80QxjZxGh"
   },
   "outputs": [],
   "source": [
    "#Here's a dict mapping words to their indices:\n",
    "voc = vectorizer.get_vocabulary()\n",
    "word_index = dict(zip(voc, range(len(voc))))"
   ]
  },
  {
   "cell_type": "code",
   "execution_count": null,
   "metadata": {
    "colab": {
     "base_uri": "https://localhost:8080/"
    },
    "id": "LfiSa5TZZ4DS",
    "outputId": "a7052c90-2fdf-457e-f822-cd074d832988"
   },
   "outputs": [
    {
     "name": "stdout",
     "output_type": "stream",
     "text": [
      "Converted 17974 words (2026 misses)\n"
     ]
    }
   ],
   "source": [
    "#prepare a corresponding embedding matrix that we can use in Keras\n",
    "\n",
    "num_tokens = len(voc) + 2\n",
    "embedding_dim = 300\n",
    "hits = 0\n",
    "misses = 0\n",
    "\n",
    "# Prepare embedding matrix\n",
    "embedding_matrix = np.zeros((num_tokens, embedding_dim))\n",
    "for word, i in word_index.items():\n",
    "    embedding_vector = embeddings_index.get(word)\n",
    "    if embedding_vector is not None:\n",
    "        # Words not found in embedding index will be all-zeros.\n",
    "        # This includes the representation for \"padding\" and \"OOV\"\n",
    "        embedding_matrix[i] = embedding_vector\n",
    "        hits += 1\n",
    "    else:\n",
    "        misses += 1\n",
    "print(\"Converted %d words (%d misses)\" % (hits, misses))\n"
   ]
  },
  {
   "cell_type": "code",
   "execution_count": null,
   "metadata": {
    "id": "j2vPC7OdZ6P9"
   },
   "outputs": [],
   "source": [
    "import keras\n",
    "from tensorflow.keras.layers import Embedding\n",
    "\n",
    "embedding_layer = Embedding(\n",
    "    num_tokens,\n",
    "    embedding_dim,\n",
    "    embeddings_initializer=keras.initializers.Constant(embedding_matrix),\n",
    "    trainable=False,\n",
    ")\n"
   ]
  },
  {
   "cell_type": "code",
   "execution_count": null,
   "metadata": {
    "id": "n_qJpvXoZ7xF"
   },
   "outputs": [],
   "source": [
    "class_names = ['LEGAL', 'COMMUICATIONS', 'SECURITY_SPAM_ALERTS', 'SUPPORT', 'ENERGY_DESK', 'SALES_DEPARTMENT']\n"
   ]
  },
  {
   "cell_type": "code",
   "execution_count": null,
   "metadata": {
    "colab": {
     "base_uri": "https://localhost:8080/"
    },
    "id": "lOgq5_2MZ9Nh",
    "outputId": "61e9e3e4-7823-43d4-f594-dc6cf591f4c7"
   },
   "outputs": [
    {
     "name": "stdout",
     "output_type": "stream",
     "text": [
      "Model: \"model_7\"\n",
      "_________________________________________________________________\n",
      " Layer (type)                Output Shape              Param #   \n",
      "=================================================================\n",
      " input_8 (InputLayer)        [(None, None)]            0         \n",
      "                                                                 \n",
      " embedding_2 (Embedding)     (None, None, 300)         6000600   \n",
      "                                                                 \n",
      " conv1d_15 (Conv1D)          (None, None, 128)         153728    \n",
      "                                                                 \n",
      " max_pooling1d_10 (MaxPoolin  (None, None, 128)        0         \n",
      " g1D)                                                            \n",
      "                                                                 \n",
      " conv1d_16 (Conv1D)          (None, None, 128)         65664     \n",
      "                                                                 \n",
      " max_pooling1d_11 (MaxPoolin  (None, None, 128)        0         \n",
      " g1D)                                                            \n",
      "                                                                 \n",
      " conv1d_17 (Conv1D)          (None, None, 128)         65664     \n",
      "                                                                 \n",
      " global_max_pooling1d_5 (Glo  (None, 128)              0         \n",
      " balMaxPooling1D)                                                \n",
      "                                                                 \n",
      " dense_12 (Dense)            (None, 128)               16512     \n",
      "                                                                 \n",
      " dropout_5 (Dropout)         (None, 128)               0         \n",
      "                                                                 \n",
      " dense_13 (Dense)            (None, 6)                 774       \n",
      "                                                                 \n",
      "=================================================================\n",
      "Total params: 6,302,942\n",
      "Trainable params: 302,342\n",
      "Non-trainable params: 6,000,600\n",
      "_________________________________________________________________\n"
     ]
    }
   ],
   "source": [
    "#A simple 1D convnet with global max pooling and a classifier at the end.\n",
    "\n",
    "from tensorflow.keras import layers\n",
    "\n",
    "int_sequences_input = keras.Input(shape=(None,), dtype=\"int64\")\n",
    "embedded_sequences = embedding_layer(int_sequences_input)\n",
    "x = layers.Conv1D(128, 4, activation=\"relu\")(embedded_sequences)\n",
    "x = layers.MaxPooling1D(4)(x)\n",
    "x = layers.Conv1D(128, 4, activation=\"relu\")(x)\n",
    "x = layers.MaxPooling1D(4)(x)\n",
    "x = layers.Conv1D(128, 4, activation=\"relu\")(x)\n",
    "x = layers.GlobalMaxPooling1D()(x)\n",
    "x = layers.Dense(128, activation=\"relu\")(x)\n",
    "x = layers.Dropout(0.2)(x)\n",
    "preds = layers.Dense(len(class_names), activation=\"softmax\")(x)\n",
    "model = keras.Model(int_sequences_input, preds)\n",
    "model.summary()\n"
   ]
  },
  {
   "cell_type": "code",
   "execution_count": null,
   "metadata": {
    "colab": {
     "base_uri": "https://localhost:8080/"
    },
    "id": "Pr3qjYk5y3WB",
    "outputId": "538d7057-f16f-4260-cb2b-d1a9224fee20"
   },
   "outputs": [
    {
     "data": {
      "text/plain": [
       "56000"
      ]
     },
     "execution_count": 54,
     "metadata": {},
     "output_type": "execute_result"
    }
   ],
   "source": [
    "len(X_train)"
   ]
  },
  {
   "cell_type": "code",
   "execution_count": null,
   "metadata": {
    "id": "cTVdgpBXaMoL"
   },
   "outputs": [],
   "source": [
    "#convert our list-of-strings data to NumPy arrays of integer indices. The arrays are right-padded.\n",
    "\n",
    "x_train = vectorizer(train_samples)\n",
    "x_val = vectorizer(val_samples)\n",
    "\n",
    "y_train = np.array(train_labels)\n",
    "y_val = np.array(val_labels)\n"
   ]
  },
  {
   "cell_type": "code",
   "execution_count": null,
   "metadata": {
    "colab": {
     "base_uri": "https://localhost:8080/"
    },
    "id": "DYGcZduA3eX7",
    "outputId": "4795d1bb-80e7-4ccc-ae68-ed3ff0f7928b"
   },
   "outputs": [
    {
     "data": {
      "text/plain": [
       "<keras.optimizer_v2.gradient_descent.SGD at 0x7fdb1760ad50>"
      ]
     },
     "execution_count": 155,
     "metadata": {},
     "output_type": "execute_result"
    }
   ],
   "source": [
    "tf.keras.optimizers.SGD(\n",
    "    learning_rate=0.1,\n",
    "    momentum=0.1,\n",
    "    nesterov=False,\n",
    "    name='SGD',\n",
    ")"
   ]
  },
  {
   "cell_type": "code",
   "execution_count": null,
   "metadata": {
    "id": "0KNcZD9daNIz"
   },
   "outputs": [],
   "source": [
    "#We use categorical crossentropy as our loss since we're doing softmax classification. Moreover, we use sparse_categorical_crossentropy since our labels are integers\n",
    "model.compile(\n",
    "    loss=\"sparse_categorical_crossentropy\", optimizer=\"SGD\", metrics=[\"acc\"]\n",
    ")\n"
   ]
  },
  {
   "cell_type": "code",
   "execution_count": null,
   "metadata": {
    "colab": {
     "base_uri": "https://localhost:8080/"
    },
    "id": "-l6d1YNfSEoa",
    "outputId": "53002249-3bf7-4460-e549-9f84462f1366"
   },
   "outputs": [
    {
     "name": "stdout",
     "output_type": "stream",
     "text": [
      "Epoch 1/10\n",
      "438/438 [==============================] - 4s 9ms/step - loss: 0.0170 - acc: 0.9950 - val_loss: 0.6678 - val_acc: 0.9084\n",
      "Epoch 2/10\n",
      "438/438 [==============================] - 4s 9ms/step - loss: 0.0089 - acc: 0.9974 - val_loss: 0.6991 - val_acc: 0.9091\n",
      "Epoch 3/10\n",
      "438/438 [==============================] - 4s 9ms/step - loss: 0.0064 - acc: 0.9982 - val_loss: 0.7276 - val_acc: 0.9099\n",
      "Epoch 4/10\n",
      "438/438 [==============================] - 4s 9ms/step - loss: 0.0051 - acc: 0.9985 - val_loss: 0.7459 - val_acc: 0.9098\n",
      "Epoch 5/10\n",
      "438/438 [==============================] - 4s 9ms/step - loss: 0.0044 - acc: 0.9985 - val_loss: 0.7622 - val_acc: 0.9098\n",
      "Epoch 6/10\n",
      "438/438 [==============================] - 4s 9ms/step - loss: 0.0039 - acc: 0.9988 - val_loss: 0.7791 - val_acc: 0.9103\n",
      "Epoch 7/10\n",
      "438/438 [==============================] - 4s 9ms/step - loss: 0.0035 - acc: 0.9988 - val_loss: 0.7937 - val_acc: 0.9092\n",
      "Epoch 8/10\n",
      "438/438 [==============================] - 4s 9ms/step - loss: 0.0033 - acc: 0.9991 - val_loss: 0.8044 - val_acc: 0.9098\n",
      "Epoch 9/10\n",
      "438/438 [==============================] - 4s 9ms/step - loss: 0.0030 - acc: 0.9990 - val_loss: 0.8154 - val_acc: 0.9098\n",
      "Epoch 10/10\n",
      "438/438 [==============================] - 4s 9ms/step - loss: 0.0028 - acc: 0.9991 - val_loss: 0.8271 - val_acc: 0.9100\n"
     ]
    }
   ],
   "source": [
    "history4 =model.fit(x_train, y_train, batch_size=128, epochs=10, validation_data=(x_val, y_val))"
   ]
  },
  {
   "cell_type": "code",
   "execution_count": null,
   "metadata": {
    "colab": {
     "base_uri": "https://localhost:8080/"
    },
    "id": "HodrAJVKPp8K",
    "outputId": "6725b644-d005-4f16-e807-61afa58722c7"
   },
   "outputs": [
    {
     "name": "stdout",
     "output_type": "stream",
     "text": [
      "438/438 [==============================] - 1s 2ms/step - loss: 0.8271 - acc: 0.9100\n",
      "Test Set:\n",
      "  Loss: 0.827\n",
      "   Accuracy: 0.910\n"
     ]
    }
   ],
   "source": [
    "# evaluate the model\n",
    "accr4 = model.evaluate(x_val, y_val)\n",
    "\n",
    "print(\"Test Set:\\n  Loss: {:0.3f}\\n   Accuracy: {:0.3f}\".format(accr4[0], accr4[1]))"
   ]
  },
  {
   "cell_type": "code",
   "execution_count": null,
   "metadata": {
    "colab": {
     "base_uri": "https://localhost:8080/",
     "height": 295
    },
    "id": "aG6Cy2qWSHwY",
    "outputId": "65b50ef6-c5fd-47d9-9e39-3d1589a360d9"
   },
   "outputs": [
    {
     "data": {
      "image/png": "[encoded data removed]",
      "text/plain": [
       "<Figure size 432x288 with 1 Axes>"
      ]
     },
     "metadata": {
      "needs_background": "light"
     },
     "output_type": "display_data"
    }
   ],
   "source": [
    "# plot the loss\n",
    "plt.title(\"Loss\")\n",
    "plt.plot(history4.history['loss'], label='train')\n",
    "plt.plot(history4.history['val_loss'], label='validation')\n",
    "plt.legend()\n",
    "plt.xlabel(\"Epochs\")\n",
    "plt.ylabel(\"loss\")\n",
    "plt.show()\n"
   ]
  },
  {
   "cell_type": "code",
   "execution_count": null,
   "metadata": {
    "colab": {
     "base_uri": "https://localhost:8080/",
     "height": 295
    },
    "id": "OiqeCYSGSKxd",
    "outputId": "1e257a13-00fb-46cf-c77d-1eaaaabd2251"
   },
   "outputs": [
    {
     "data": {
      "image/png": "[encoded data removed]",
      "text/plain": [
       "<Figure size 432x288 with 1 Axes>"
      ]
     },
     "metadata": {
      "needs_background": "light"
     },
     "output_type": "display_data"
    }
   ],
   "source": [
    "# plot the accuracy\n",
    "plt.title(\"Accuracy\")\n",
    "plt.plot(history4.history['acc'], label='train')\n",
    "plt.plot(history4.history['val_acc'], label='validation')\n",
    "plt.legend()\n",
    "plt.xlabel('Epochs')\n",
    "plt.ylabel(\"Accuracy\")\n",
    "plt.show()"
   ]
  },
  {
   "cell_type": "code",
   "execution_count": null,
   "metadata": {
    "colab": {
     "base_uri": "https://localhost:8080/",
     "height": 174
    },
    "id": "pUns46neTRoq",
    "outputId": "62fdf906-3b4a-4837-8752-a3e008f1257a"
   },
   "outputs": [
    {
     "data": {
      "text/html": [
       "\n",
       "  <div id=\"df-abfc0d72-ffb1-40fa-800a-87fbf2ff7f21\">\n",
       "    <div class=\"colab-df-container\">\n",
       "      <div>\n",
       "<style scoped>\n",
       "    .dataframe tbody tr th:only-of-type {\n",
       "        vertical-align: middle;\n",
       "    }\n",
       "\n",
       "    .dataframe tbody tr th {\n",
       "        vertical-align: top;\n",
       "    }\n",
       "\n",
       "    .dataframe thead th {\n",
       "        text-align: right;\n",
       "    }\n",
       "</style>\n",
       "<table border=\"1\" class=\"dataframe\">\n",
       "  <thead>\n",
       "    <tr style=\"text-align: right;\">\n",
       "      <th></th>\n",
       "      <th>Technique</th>\n",
       "      <th>test accuracy</th>\n",
       "    </tr>\n",
       "  </thead>\n",
       "  <tbody>\n",
       "    <tr>\n",
       "      <th>0</th>\n",
       "      <td>Word2Vec</td>\n",
       "      <td>0.802071</td>\n",
       "    </tr>\n",
       "    <tr>\n",
       "      <th>1</th>\n",
       "      <td>GloVe</td>\n",
       "      <td>0.848571</td>\n",
       "    </tr>\n",
       "    <tr>\n",
       "      <th>2</th>\n",
       "      <td>Glove w/ Embeddings</td>\n",
       "      <td>0.890714</td>\n",
       "    </tr>\n",
       "    <tr>\n",
       "      <th>3</th>\n",
       "      <td>CNN w/ Embeddings</td>\n",
       "      <td>0.910000</td>\n",
       "    </tr>\n",
       "  </tbody>\n",
       "</table>\n",
       "</div>\n",
       "      <button class=\"colab-df-convert\" onclick=\"convertToInteractive('df-abfc0d72-ffb1-40fa-800a-87fbf2ff7f21')\"\n",
       "              title=\"Convert this dataframe to an interactive table.\"\n",
       "              style=\"display:none;\">\n",
       "        \n",
       "  <svg xmlns=\"http://www.w3.org/2000/svg\" height=\"24px\"viewBox=\"0 0 24 24\"\n",
       "       width=\"24px\">\n",
       "    <path d=\"M0 0h24v24H0V0z\" fill=\"none\"/>\n",
       "    <path d=\"M18.56 5.44l.94 2.06.94-2.06 2.06-.94-2.06-.94-.94-2.06-.94 2.06-2.06.94zm-11 1L8.5 8.5l.94-2.06 2.06-.94-2.06-.94L8.5 2.5l-.94 2.06-2.06.94zm10 10l.94 2.06.94-2.06 2.06-.94-2.06-.94-.94-2.06-.94 2.06-2.06.94z\"/><path d=\"M17.41 7.96l-1.37-1.37c-.4-.4-.92-.59-1.43-.59-.52 0-1.04.2-1.43.59L10.3 9.45l-7.72 7.72c-.78.78-.78 2.05 0 2.83L4 21.41c.39.39.9.59 1.41.59.51 0 1.02-.2 1.41-.59l7.78-7.78 2.81-2.81c.8-.78.8-2.07 0-2.86zM5.41 20L4 18.59l7.72-7.72 1.47 1.35L5.41 20z\"/>\n",
       "  </svg>\n",
       "      </button>\n",
       "      \n",
       "  <style>\n",
       "    .colab-df-container {\n",
       "      display:flex;\n",
       "      flex-wrap:wrap;\n",
       "      gap: 12px;\n",
       "    }\n",
       "\n",
       "    .colab-df-convert {\n",
       "      background-color: #E8F0FE;\n",
       "      border: none;\n",
       "      border-radius: 50%;\n",
       "      cursor: pointer;\n",
       "      display: none;\n",
       "      fill: #1967D2;\n",
       "      height: 32px;\n",
       "      padding: 0 0 0 0;\n",
       "      width: 32px;\n",
       "    }\n",
       "\n",
       "    .colab-df-convert:hover {\n",
       "      background-color: #E2EBFA;\n",
       "      box-shadow: 0px 1px 2px rgba(60, 64, 67, 0.3), 0px 1px 3px 1px rgba(60, 64, 67, 0.15);\n",
       "      fill: #174EA6;\n",
       "    }\n",
       "\n",
       "    [theme=dark] .colab-df-convert {\n",
       "      background-color: #3B4455;\n",
       "      fill: #D2E3FC;\n",
       "    }\n",
       "\n",
       "    [theme=dark] .colab-df-convert:hover {\n",
       "      background-color: #434B5C;\n",
       "      box-shadow: 0px 1px 3px 1px rgba(0, 0, 0, 0.15);\n",
       "      filter: drop-shadow(0px 1px 2px rgba(0, 0, 0, 0.3));\n",
       "      fill: #FFFFFF;\n",
       "    }\n",
       "  </style>\n",
       "\n",
       "      <script>\n",
       "        const buttonEl =\n",
       "          document.querySelector('#df-abfc0d72-ffb1-40fa-800a-87fbf2ff7f21 button.colab-df-convert');\n",
       "        buttonEl.style.display =\n",
       "          google.colab.kernel.accessAllowed ? 'block' : 'none';\n",
       "\n",
       "        async function convertToInteractive(key) {\n",
       "          const element = document.querySelector('#df-abfc0d72-ffb1-40fa-800a-87fbf2ff7f21');\n",
       "          const dataTable =\n",
       "            await google.colab.kernel.invokeFunction('convertToInteractive',\n",
       "                                                     [key], {});\n",
       "          if (!dataTable) return;\n",
       "\n",
       "          const docLinkHtml = 'Like what you see? Visit the ' +\n",
       "            '<a target=\"_blank\" href=https://colab.research.google.com/notebooks/data_table.ipynb>data table notebook</a>'\n",
       "            + ' to learn more about interactive tables.';\n",
       "          element.innerHTML = '';\n",
       "          dataTable['output_type'] = 'display_data';\n",
       "          await google.colab.output.renderOutput(dataTable, element);\n",
       "          const docLink = document.createElement('div');\n",
       "          docLink.innerHTML = docLinkHtml;\n",
       "          element.appendChild(docLink);\n",
       "        }\n",
       "      </script>\n",
       "    </div>\n",
       "  </div>\n",
       "  "
      ],
      "text/plain": [
       "             Technique  test accuracy\n",
       "0             Word2Vec       0.802071\n",
       "1                GloVe       0.848571\n",
       "2  Glove w/ Embeddings       0.890714\n",
       "3    CNN w/ Embeddings       0.910000"
      ]
     },
     "execution_count": 184,
     "metadata": {},
     "output_type": "execute_result"
    }
   ],
   "source": [
    "# create a dataframe to store results\n",
    "res_data = {\n",
    "    \"Technique\": ['Word2Vec', 'GloVe', 'Glove w/ Embeddings','CNN w/ Embeddings'],\n",
    "    \"test accuracy\": [accr[1], accr2[1], accr3[1],accr4[1]]\n",
    "}\n",
    "result = pd.DataFrame(res_data)\n",
    "result"
   ]
  },
  {
   "cell_type": "code",
   "execution_count": null,
   "metadata": {
    "colab": {
     "base_uri": "https://localhost:8080/"
    },
    "id": "jpsMJN-qaOy0",
    "outputId": "c28aff1a-eb66-45f5-a9cf-80b6212b8841"
   },
   "outputs": [
    {
     "name": "stdout",
     "output_type": "stream",
     "text": [
      "Forward request to: LEGAL\n"
     ]
    }
   ],
   "source": [
    "string_input = keras.Input(shape=(1,), dtype=\"string\")\n",
    "x = vectorizer(string_input)\n",
    "preds = model(x)\n",
    "end_to_end_model = keras.Model(string_input, preds)\n",
    "\n",
    "probabilities = end_to_end_model.predict(\n",
    "    [[\"I HATE HOW YOU HAVE TREATED MY CLIENT, YOU WILL HEAR FROM MY LAWYERS SOON!\"]]\n",
    ")\n",
    "\n",
    "print('Forward request to: ' + class_names[np.argmax(probabilities[0])])\n"
   ]
  },
  {
   "cell_type": "markdown",
   "metadata": {
    "id": "AQeddtYracKz"
   },
   "source": [
    "Visualization"
   ]
  },
  {
   "cell_type": "code",
   "execution_count": null,
   "metadata": {
    "id": "xb7jISRZadbU"
   },
   "outputs": [],
   "source": [
    "%matplotlib inline\n",
    "from sklearn.metrics import confusion_matrix\n",
    "import itertools\n",
    "import matplotlib.pyplot as plt"
   ]
  },
  {
   "cell_type": "code",
   "execution_count": null,
   "metadata": {
    "id": "Z7BVqYFgafBJ"
   },
   "outputs": [],
   "source": [
    "def plot_confusion_matrix(cm, classes,\n",
    "                        normalize=False,\n",
    "                        title='Confusion matrix',\n",
    "                        cmap=plt.cm.Blues):\n",
    "    \"\"\"\n",
    "    This function prints and plots the confusion matrix.\n",
    "    Normalization can be applied by setting `normalize=True`.\n",
    "    \"\"\"\n",
    "    plt.imshow(cm, interpolation='nearest', cmap=cmap)\n",
    "    plt.title(title)\n",
    "    plt.colorbar()\n",
    "    tick_marks = np.arange(len(classes))\n",
    "    plt.xticks(tick_marks, classes, rotation=45)\n",
    "    plt.yticks(tick_marks, classes)\n",
    "\n",
    "    if normalize:\n",
    "        cm = cm.astype('float') / cm.sum(axis=1)[:, np.newaxis]\n",
    "        print(\"Normalized confusion matrix\")\n",
    "    else:\n",
    "        print('Confusion matrix, without normalization')\n",
    "\n",
    "    print(cm)\n",
    "\n",
    "    thresh = cm.max() / 2.\n",
    "    for i, j in itertools.product(range(cm.shape[0]), range(cm.shape[1])):\n",
    "        plt.text(j, i, cm[i, j],\n",
    "            horizontalalignment=\"center\",\n",
    "            color=\"white\" if cm[i, j] > thresh else \"black\")\n",
    "\n",
    "    plt.tight_layout()\n",
    "    plt.ylabel('True label')\n",
    "    plt.xlabel('Predicted label')"
   ]
  },
  {
   "cell_type": "code",
   "execution_count": null,
   "metadata": {
    "id": "9xFbVwSPagOl"
   },
   "outputs": [],
   "source": [
    "#Setting up Confusion Matrix\n",
    "y_predict=model.predict(x_val)\n",
    "y_predict2= np.argmax(y_predict, axis=1)\n",
    "y_true=y_val"
   ]
  },
  {
   "cell_type": "code",
   "execution_count": null,
   "metadata": {
    "id": "-07xPfpoahE5"
   },
   "outputs": [],
   "source": [
    "lookup = {'LEGAL','COMMUICATIONS','SECURITY', 'SUPPORT', 'ENERGY', 'SALES'}"
   ]
  },
  {
   "cell_type": "code",
   "execution_count": null,
   "metadata": {
    "id": "-S6gLDZ0aiK8"
   },
   "outputs": [],
   "source": [
    "cm = confusion_matrix(y_true=y_true, y_pred=y_predict2)"
   ]
  },
  {
   "cell_type": "code",
   "execution_count": null,
   "metadata": {
    "colab": {
     "base_uri": "https://localhost:8080/",
     "height": 433
    },
    "id": "nEuIpqbNajEz",
    "outputId": "898ea901-f5d1-428d-f001-82ed02d3f2db"
   },
   "outputs": [
    {
     "name": "stdout",
     "output_type": "stream",
     "text": [
      "Confusion matrix, without normalization\n",
      "[[2346   43   36  105   26   93]\n",
      " [  37 1196   12   63    9   31]\n",
      " [  18   20  688   30    9   27]\n",
      " [  69   43   17 4438   20  133]\n",
      " [  26    5   11   21  678   48]\n",
      " [  97   36   25  115   35 3394]]\n"
     ]
    },
    {
     "data": {
      "image/png": "[encoded data removed]",
      "text/plain": [
       "<Figure size 432x288 with 2 Axes>"
      ]
     },
     "metadata": {
      "needs_background": "light"
     },
     "output_type": "display_data"
    }
   ],
   "source": [
    "plot_confusion_matrix(cm=cm, classes=lookup, title='Confusion Matrix')"
   ]
  },
  {
   "cell_type": "code",
   "execution_count": null,
   "metadata": {
    "id": "64P3WicMaj70"
   },
   "outputs": [],
   "source": [
    "recall = np.diag(cm) / np.sum(cm, axis = 1)\n",
    "precision = np.diag(cm) / np.sum(cm, axis = 0)"
   ]
  },
  {
   "cell_type": "code",
   "execution_count": null,
   "metadata": {
    "colab": {
     "base_uri": "https://localhost:8080/"
    },
    "id": "6VQuiBZSaky9",
    "outputId": "fdbb14a9-02ed-417c-a292-16765e54a7c6"
   },
   "outputs": [
    {
     "data": {
      "text/plain": [
       "0.892985999041664"
      ]
     },
     "execution_count": 194,
     "metadata": {},
     "output_type": "execute_result"
    }
   ],
   "source": [
    "np.mean(recall)"
   ]
  },
  {
   "cell_type": "code",
   "execution_count": null,
   "metadata": {
    "colab": {
     "base_uri": "https://localhost:8080/"
    },
    "id": "Gw1wrFnWall7",
    "outputId": "da285b0b-d769-44ba-bdba-8216f5dcd27a"
   },
   "outputs": [
    {
     "data": {
      "text/plain": [
       "0.8967947697577049"
      ]
     },
     "execution_count": 195,
     "metadata": {},
     "output_type": "execute_result"
    }
   ],
   "source": [
    "np.mean(precision)"
   ]
  },
  {
   "cell_type": "code",
   "execution_count": null,
   "metadata": {
    "id": "N3-0qKEsyLAN"
   },
   "outputs": [],
   "source": []
  },
  {
   "cell_type": "markdown",
   "metadata": {
    "id": "_maP_8OT39_M"
   },
   "source": []
  },
  {
   "cell_type": "markdown",
   "metadata": {
    "id": "eytRK9ov3-II"
   },
   "source": [
    "Zero Shot Transformer Comparison"
   ]
  },
  {
   "cell_type": "code",
   "execution_count": null,
   "metadata": {
    "colab": {
     "base_uri": "https://localhost:8080/"
    },
    "id": "p-KLnBtY3bL2",
    "outputId": "0c4ad704-c1ca-4131-d37b-8fe4e1733091"
   },
   "outputs": [
    {
     "name": "stdout",
     "output_type": "stream",
     "text": [
      "Requirement already satisfied: flair in /usr/local/lib/python3.7/dist-packages (0.10)\n",
      "Requirement already satisfied: wikipedia-api in /usr/local/lib/python3.7/dist-packages (from flair) (0.5.4)\n",
      "Requirement already satisfied: langdetect in /usr/local/lib/python3.7/dist-packages (from flair) (1.0.9)\n",
      "Requirement already satisfied: segtok>=1.5.7 in /usr/local/lib/python3.7/dist-packages (from flair) (1.5.11)\n",
      "Requirement already satisfied: konoha<5.0.0,>=4.0.0 in /usr/local/lib/python3.7/dist-packages (from flair) (4.6.5)\n",
      "Requirement already satisfied: bpemb>=0.3.2 in /usr/local/lib/python3.7/dist-packages (from flair) (0.3.3)\n",
      "Requirement already satisfied: torch!=1.8,>=1.5.0 in /usr/local/lib/python3.7/dist-packages (from flair) (1.10.0+cu111)\n",
      "Requirement already satisfied: gdown==3.12.2 in /usr/local/lib/python3.7/dist-packages (from flair) (3.12.2)\n",
      "Requirement already satisfied: mpld3==0.3 in /usr/local/lib/python3.7/dist-packages (from flair) (0.3)\n",
      "Requirement already satisfied: tqdm>=4.26.0 in /usr/local/lib/python3.7/dist-packages (from flair) (4.63.0)\n",
      "Requirement already satisfied: scikit-learn>=0.21.3 in /usr/local/lib/python3.7/dist-packages (from flair) (1.0.2)\n",
      "Requirement already satisfied: lxml in /usr/local/lib/python3.7/dist-packages (from flair) (4.2.6)\n",
      "Requirement already satisfied: transformers>=4.0.0 in /usr/local/lib/python3.7/dist-packages (from flair) (4.17.0)\n",
      "Requirement already satisfied: matplotlib>=2.2.3 in /usr/local/lib/python3.7/dist-packages (from flair) (3.2.2)\n",
      "Requirement already satisfied: more-itertools~=8.8.0 in /usr/local/lib/python3.7/dist-packages (from flair) (8.8.0)\n",
      "Requirement already satisfied: ftfy in /usr/local/lib/python3.7/dist-packages (from flair) (6.1.1)\n",
      "Requirement already satisfied: sqlitedict>=1.6.0 in /usr/local/lib/python3.7/dist-packages (from flair) (2.0.0)\n",
      "Requirement already satisfied: regex in /usr/local/lib/python3.7/dist-packages (from flair) (2019.12.20)\n",
      "Requirement already satisfied: deprecated>=1.2.4 in /usr/local/lib/python3.7/dist-packages (from flair) (1.2.13)\n",
      "Requirement already satisfied: python-dateutil>=2.6.1 in /usr/local/lib/python3.7/dist-packages (from flair) (2.8.2)\n",
      "Requirement already satisfied: conllu>=4.0 in /usr/local/lib/python3.7/dist-packages (from flair) (4.4.1)\n",
      "Requirement already satisfied: janome in /usr/local/lib/python3.7/dist-packages (from flair) (0.4.2)\n",
      "Requirement already satisfied: gensim>=3.4.0 in /usr/local/lib/python3.7/dist-packages (from flair) (3.6.0)\n",
      "Requirement already satisfied: tabulate in /usr/local/lib/python3.7/dist-packages (from flair) (0.8.9)\n",
      "Requirement already satisfied: sentencepiece==0.1.95 in /usr/local/lib/python3.7/dist-packages (from flair) (0.1.95)\n",
      "Requirement already satisfied: huggingface-hub in /usr/local/lib/python3.7/dist-packages (from flair) (0.4.0)\n",
      "Requirement already satisfied: filelock in /usr/local/lib/python3.7/dist-packages (from gdown==3.12.2->flair) (3.6.0)\n",
      "Requirement already satisfied: requests[socks] in /usr/local/lib/python3.7/dist-packages (from gdown==3.12.2->flair) (2.27.1)\n",
      "Requirement already satisfied: six in /usr/local/lib/python3.7/dist-packages (from gdown==3.12.2->flair) (1.15.0)\n",
      "Requirement already satisfied: numpy in /usr/local/lib/python3.7/dist-packages (from bpemb>=0.3.2->flair) (1.21.5)\n",
      "Requirement already satisfied: wrapt<2,>=1.10 in /usr/local/lib/python3.7/dist-packages (from deprecated>=1.2.4->flair) (1.14.0)\n",
      "Requirement already satisfied: scipy>=0.18.1 in /usr/local/lib/python3.7/dist-packages (from gensim>=3.4.0->flair) (1.4.1)\n",
      "Requirement already satisfied: smart-open>=1.2.1 in /usr/local/lib/python3.7/dist-packages (from gensim>=3.4.0->flair) (5.2.1)\n",
      "Requirement already satisfied: importlib-metadata<4.0.0,>=3.7.0 in /usr/local/lib/python3.7/dist-packages (from konoha<5.0.0,>=4.0.0->flair) (3.10.1)\n",
      "Requirement already satisfied: overrides<4.0.0,>=3.0.0 in /usr/local/lib/python3.7/dist-packages (from konoha<5.0.0,>=4.0.0->flair) (3.1.0)\n",
      "Requirement already satisfied: zipp>=0.5 in /usr/local/lib/python3.7/dist-packages (from importlib-metadata<4.0.0,>=3.7.0->konoha<5.0.0,>=4.0.0->flair) (3.7.0)\n",
      "Requirement already satisfied: typing-extensions>=3.6.4 in /usr/local/lib/python3.7/dist-packages (from importlib-metadata<4.0.0,>=3.7.0->konoha<5.0.0,>=4.0.0->flair) (3.10.0.2)\n",
      "Requirement already satisfied: cycler>=0.10 in /usr/local/lib/python3.7/dist-packages (from matplotlib>=2.2.3->flair) (0.11.0)\n",
      "Requirement already satisfied: pyparsing!=2.0.4,!=2.1.2,!=2.1.6,>=2.0.1 in /usr/local/lib/python3.7/dist-packages (from matplotlib>=2.2.3->flair) (3.0.7)\n",
      "Requirement already satisfied: kiwisolver>=1.0.1 in /usr/local/lib/python3.7/dist-packages (from matplotlib>=2.2.3->flair) (1.4.0)\n",
      "Requirement already satisfied: urllib3<1.27,>=1.21.1 in /usr/local/lib/python3.7/dist-packages (from requests[socks]->gdown==3.12.2->flair) (1.24.3)\n",
      "Requirement already satisfied: charset-normalizer~=2.0.0 in /usr/local/lib/python3.7/dist-packages (from requests[socks]->gdown==3.12.2->flair) (2.0.12)\n",
      "Requirement already satisfied: idna<4,>=2.5 in /usr/local/lib/python3.7/dist-packages (from requests[socks]->gdown==3.12.2->flair) (2.10)\n",
      "Requirement already satisfied: certifi>=2017.4.17 in /usr/local/lib/python3.7/dist-packages (from requests[socks]->gdown==3.12.2->flair) (2021.10.8)\n",
      "Requirement already satisfied: threadpoolctl>=2.0.0 in /usr/local/lib/python3.7/dist-packages (from scikit-learn>=0.21.3->flair) (3.1.0)\n",
      "Requirement already satisfied: joblib>=0.11 in /usr/local/lib/python3.7/dist-packages (from scikit-learn>=0.21.3->flair) (1.1.0)\n",
      "Requirement already satisfied: pyyaml>=5.1 in /usr/local/lib/python3.7/dist-packages (from transformers>=4.0.0->flair) (6.0)\n",
      "Requirement already satisfied: tokenizers!=0.11.3,>=0.11.1 in /usr/local/lib/python3.7/dist-packages (from transformers>=4.0.0->flair) (0.11.6)\n",
      "Requirement already satisfied: packaging>=20.0 in /usr/local/lib/python3.7/dist-packages (from transformers>=4.0.0->flair) (21.3)\n",
      "Requirement already satisfied: sacremoses in /usr/local/lib/python3.7/dist-packages (from transformers>=4.0.0->flair) (0.0.49)\n",
      "Requirement already satisfied: wcwidth>=0.2.5 in /usr/local/lib/python3.7/dist-packages (from ftfy->flair) (0.2.5)\n",
      "Requirement already satisfied: PySocks!=1.5.7,>=1.5.6 in /usr/local/lib/python3.7/dist-packages (from requests[socks]->gdown==3.12.2->flair) (1.7.1)\n",
      "Requirement already satisfied: click in /usr/local/lib/python3.7/dist-packages (from sacremoses->transformers>=4.0.0->flair) (7.1.2)\n"
     ]
    }
   ],
   "source": [
    "pip install flair"
   ]
  },
  {
   "cell_type": "code",
   "execution_count": null,
   "metadata": {
    "colab": {
     "base_uri": "https://localhost:8080/"
    },
    "id": "mjMTUnkL4A9t",
    "outputId": "90809989-60cb-4f94-8606-11d66d5237d5"
   },
   "outputs": [
    {
     "name": "stdout",
     "output_type": "stream",
     "text": [
      "2022-03-27 03:48:04,869 loading file /root/.flair/models/tars-base-v8.pt\n",
      "Sentence: \"Hello , my computer isnt working , i need help\"   [− Tokens: 10  − Sentence-Labels: {'LEGAL-COMMUICATIONS-SECURITY-SUPPORT-ENERGY-SALES': [SUPPORT (0.5494)]}]\n"
     ]
    }
   ],
   "source": [
    "from flair.models import TARSClassifier\n",
    "from flair.data import Sentence\n",
    "\n",
    "# 1. Load our pre-trained TARS model for English\n",
    "tars = TARSClassifier.load('tars-base')\n",
    "\n",
    "# 2. Prepare a test sentence\n",
    "sentence = Sentence(\"Hello, my computer isnt working, i need help\")\n",
    "# 3. Define some classes that you want to predict using descriptive names\n",
    "classes = [\"LEGAL\", \"COMMUICATIONS\", \"SECURITY\", \"SUPPORT\", \"ENERGY\", \"SALES\"]\n",
    "\n",
    "#4. Predict for these classes\n",
    "tars.predict_zero_shot(sentence, classes)\n",
    "\n",
    "# Print sentence with predicted labels\n",
    "print(sentence)"
   ]
  },
  {
   "cell_type": "code",
   "execution_count": null,
   "metadata": {
    "colab": {
     "base_uri": "https://localhost:8080/"
    },
    "id": "3oSMQbC3QNj8",
    "outputId": "86738a03-f6e4-4b24-ae46-d872bb6fb287"
   },
   "outputs": [
    {
     "name": "stdout",
     "output_type": "stream",
     "text": [
      "Forward request to: SUPPORT\n"
     ]
    }
   ],
   "source": [
    "string_input = keras.Input(shape=(1,), dtype=\"string\")\n",
    "x = vectorizer(string_input)\n",
    "preds = model(x)\n",
    "end_to_end_model = keras.Model(string_input, preds)\n",
    "\n",
    "probabilities = end_to_end_model.predict(\n",
    "    [[\"Hello, my computer isnt working, i need help\"]]\n",
    ")\n",
    "\n",
    "print('Forward request to: ' + class_names[np.argmax(probabilities[0])])\n"
   ]
  },
  {
   "cell_type": "code",
   "execution_count": 77,
   "metadata": {
    "colab": {
     "base_uri": "https://localhost:8080/"
    },
    "id": "a6dEpAmkCLLu",
    "outputId": "f9cf2eec-ab99-438b-dfc4-ccf1eb995aa0"
   },
   "outputs": [
    {
     "data": {
      "text/plain": [
       "0.6299656484429428"
      ]
     },
     "execution_count": 77,
     "metadata": {},
     "output_type": "execute_result"
    }
   ],
   "source": [
    "np.mean(precision)"
   ]
  },
  {
   "cell_type": "code",
   "execution_count": null,
   "metadata": {
    "id": "Rq7SmQpmEv_G"
   },
   "outputs": [],
   "source": []
  },
  {
   "cell_type": "code",
   "execution_count": null,
   "metadata": {
    "id": "rRtPI4EnEwBi"
   },
   "outputs": [],
   "source": []
  },
  {
   "cell_type": "code",
   "execution_count": 78,
   "metadata": {
    "colab": {
     "base_uri": "https://localhost:8080/"
    },
    "id": "oFpWmq85EwD3",
    "outputId": "5328af7c-180b-4bc8-ad28-91e1d3b18efa"
   },
   "outputs": [
    {
     "name": "stdout",
     "output_type": "stream",
     "text": [
      "Epoch 1/10\n",
      "438/438 [==============================] - 4s 10ms/step - loss: 0.8279 - acc: 0.7049 - val_loss: 0.8723 - val_acc: 0.6861\n",
      "Epoch 2/10\n",
      "438/438 [==============================] - 4s 10ms/step - loss: 0.7869 - acc: 0.7227 - val_loss: 0.8456 - val_acc: 0.6959\n",
      "Epoch 3/10\n",
      "438/438 [==============================] - 4s 10ms/step - loss: 0.7562 - acc: 0.7337 - val_loss: 0.8116 - val_acc: 0.7120\n",
      "Epoch 4/10\n",
      "438/438 [==============================] - 4s 10ms/step - loss: 0.7239 - acc: 0.7462 - val_loss: 0.7745 - val_acc: 0.7267\n",
      "Epoch 5/10\n",
      "438/438 [==============================] - 4s 10ms/step - loss: 0.6887 - acc: 0.7608 - val_loss: 0.8595 - val_acc: 0.6845\n",
      "Epoch 6/10\n",
      "438/438 [==============================] - 4s 10ms/step - loss: 0.6541 - acc: 0.7761 - val_loss: 1.1218 - val_acc: 0.5974\n",
      "Epoch 7/10\n",
      "438/438 [==============================] - 4s 10ms/step - loss: 0.6284 - acc: 0.7872 - val_loss: 0.7144 - val_acc: 0.7510\n",
      "Epoch 8/10\n",
      "438/438 [==============================] - 4s 10ms/step - loss: 0.5799 - acc: 0.8056 - val_loss: 0.9192 - val_acc: 0.6722\n",
      "Epoch 9/10\n",
      "438/438 [==============================] - 4s 10ms/step - loss: 0.5538 - acc: 0.8121 - val_loss: 0.6656 - val_acc: 0.7741\n",
      "Epoch 10/10\n",
      "438/438 [==============================] - 4s 10ms/step - loss: 0.5175 - acc: 0.8291 - val_loss: 0.7113 - val_acc: 0.7552\n"
     ]
    }
   ],
   "source": [
    "moke555 =model.fit(x_train, y_train, batch_size=128, epochs=10, validation_data=(x_val, y_val))"
   ]
  }
 ],
 "metadata": {
  "accelerator": "GPU",
  "colab": {
   "collapsed_sections": [],
   "machine_shape": "hm",
   "name": "LSTM & CNN.ipynb",
   "provenance": []
  },
  "kernelspec": {
   "display_name": "Python 3 (ipykernel)",
   "language": "python",
   "name": "python3"
  },
  "language_info": {
   "codemirror_mode": {
    "name": "ipython",
    "version": 3
   },
   "file_extension": ".py",
   "mimetype": "text/x-python",
   "name": "python",
   "nbconvert_exporter": "python",
   "pygments_lexer": "ipython3",
   "version": "3.9.7"
  }
 },
 "nbformat": 4,
 "nbformat_minor": 1
}
