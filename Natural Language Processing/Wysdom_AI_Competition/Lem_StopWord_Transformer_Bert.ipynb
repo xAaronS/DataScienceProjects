{
  "cells": [
    {
      "cell_type": "code",
      "source": [
        "pip install simpletransformers"
      ],
      "metadata": {
        "colab": {
          "base_uri": "https://localhost:8080/",
          "height": 1000
        },
        "id": "FOa5RkmTZyaR",
        "outputId": "a60e83ef-bf7e-4985-990c-f99da3b518c9"
      },
      "id": "FOa5RkmTZyaR",
      "execution_count": 44,
      "outputs": [
        {
          "output_type": "stream",
          "name": "stdout",
          "text": [
            "Collecting simpletransformers\n",
            "  Downloading simpletransformers-0.63.6-py3-none-any.whl (249 kB)\n",
            "\u001b[K     |████████████████████████████████| 249 kB 5.4 MB/s \n",
            "\u001b[?25hRequirement already satisfied: pandas in /usr/local/lib/python3.7/dist-packages (from simpletransformers) (1.3.5)\n",
            "Requirement already satisfied: requests in /usr/local/lib/python3.7/dist-packages (from simpletransformers) (2.23.0)\n",
            "Requirement already satisfied: tqdm>=4.47.0 in /usr/local/lib/python3.7/dist-packages (from simpletransformers) (4.63.0)\n",
            "Collecting transformers>=4.6.0\n",
            "  Downloading transformers-4.17.0-py3-none-any.whl (3.8 MB)\n",
            "\u001b[K     |████████████████████████████████| 3.8 MB 48.7 MB/s \n",
            "\u001b[?25hCollecting tokenizers\n",
            "  Downloading tokenizers-0.11.6-cp37-cp37m-manylinux_2_12_x86_64.manylinux2010_x86_64.whl (6.5 MB)\n",
            "\u001b[K     |████████████████████████████████| 6.5 MB 54.0 MB/s \n",
            "\u001b[?25hRequirement already satisfied: scikit-learn in /usr/local/lib/python3.7/dist-packages (from simpletransformers) (1.0.2)\n",
            "Collecting seqeval\n",
            "  Downloading seqeval-1.2.2.tar.gz (43 kB)\n",
            "\u001b[K     |████████████████████████████████| 43 kB 1.9 MB/s \n",
            "\u001b[?25hRequirement already satisfied: numpy in /usr/local/lib/python3.7/dist-packages (from simpletransformers) (1.21.5)\n",
            "Collecting sentencepiece\n",
            "  Downloading sentencepiece-0.1.96-cp37-cp37m-manylinux_2_17_x86_64.manylinux2014_x86_64.whl (1.2 MB)\n",
            "\u001b[K     |████████████████████████████████| 1.2 MB 50.3 MB/s \n",
            "\u001b[?25hRequirement already satisfied: scipy in /usr/local/lib/python3.7/dist-packages (from simpletransformers) (1.4.1)\n",
            "Requirement already satisfied: tensorboard in /usr/local/lib/python3.7/dist-packages (from simpletransformers) (2.8.0)\n",
            "Collecting wandb>=0.10.32\n",
            "  Downloading wandb-0.12.11-py2.py3-none-any.whl (1.7 MB)\n",
            "\u001b[K     |████████████████████████████████| 1.7 MB 51.2 MB/s \n",
            "\u001b[?25hRequirement already satisfied: regex in /usr/local/lib/python3.7/dist-packages (from simpletransformers) (2019.12.20)\n",
            "Collecting datasets\n",
            "  Downloading datasets-2.0.0-py3-none-any.whl (325 kB)\n",
            "\u001b[K     |████████████████████████████████| 325 kB 65.2 MB/s \n",
            "\u001b[?25hCollecting streamlit\n",
            "  Downloading streamlit-1.8.0-py2.py3-none-any.whl (10.1 MB)\n",
            "\u001b[K     |████████████████████████████████| 10.1 MB 43.5 MB/s \n",
            "\u001b[?25hRequirement already satisfied: filelock in /usr/local/lib/python3.7/dist-packages (from transformers>=4.6.0->simpletransformers) (3.6.0)\n",
            "Requirement already satisfied: packaging>=20.0 in /usr/local/lib/python3.7/dist-packages (from transformers>=4.6.0->simpletransformers) (21.3)\n",
            "Collecting pyyaml>=5.1\n",
            "  Downloading PyYAML-6.0-cp37-cp37m-manylinux_2_5_x86_64.manylinux1_x86_64.manylinux_2_12_x86_64.manylinux2010_x86_64.whl (596 kB)\n",
            "\u001b[K     |████████████████████████████████| 596 kB 53.7 MB/s \n",
            "\u001b[?25hCollecting huggingface-hub<1.0,>=0.1.0\n",
            "  Downloading huggingface_hub-0.4.0-py3-none-any.whl (67 kB)\n",
            "\u001b[K     |████████████████████████████████| 67 kB 5.2 MB/s \n",
            "\u001b[?25hRequirement already satisfied: importlib-metadata in /usr/local/lib/python3.7/dist-packages (from transformers>=4.6.0->simpletransformers) (4.11.3)\n",
            "Collecting sacremoses\n",
            "  Downloading sacremoses-0.0.49-py3-none-any.whl (895 kB)\n",
            "\u001b[K     |████████████████████████████████| 895 kB 41.7 MB/s \n",
            "\u001b[?25hRequirement already satisfied: typing-extensions>=3.7.4.3 in /usr/local/lib/python3.7/dist-packages (from huggingface-hub<1.0,>=0.1.0->transformers>=4.6.0->simpletransformers) (3.10.0.2)\n",
            "Requirement already satisfied: pyparsing!=3.0.5,>=2.0.2 in /usr/local/lib/python3.7/dist-packages (from packaging>=20.0->transformers>=4.6.0->simpletransformers) (3.0.7)\n",
            "Requirement already satisfied: Click!=8.0.0,>=7.0 in /usr/local/lib/python3.7/dist-packages (from wandb>=0.10.32->simpletransformers) (7.1.2)\n",
            "Requirement already satisfied: six>=1.13.0 in /usr/local/lib/python3.7/dist-packages (from wandb>=0.10.32->simpletransformers) (1.15.0)\n",
            "Collecting setproctitle\n",
            "  Downloading setproctitle-1.2.2-cp37-cp37m-manylinux1_x86_64.whl (36 kB)\n",
            "Collecting pathtools\n",
            "  Downloading pathtools-0.1.2.tar.gz (11 kB)\n",
            "Requirement already satisfied: psutil>=5.0.0 in /usr/local/lib/python3.7/dist-packages (from wandb>=0.10.32->simpletransformers) (5.4.8)\n",
            "Collecting sentry-sdk>=1.0.0\n",
            "  Downloading sentry_sdk-1.5.8-py2.py3-none-any.whl (144 kB)\n",
            "\u001b[K     |████████████████████████████████| 144 kB 61.4 MB/s \n",
            "\u001b[?25hRequirement already satisfied: promise<3,>=2.0 in /usr/local/lib/python3.7/dist-packages (from wandb>=0.10.32->simpletransformers) (2.3)\n",
            "Requirement already satisfied: python-dateutil>=2.6.1 in /usr/local/lib/python3.7/dist-packages (from wandb>=0.10.32->simpletransformers) (2.8.2)\n",
            "Collecting yaspin>=1.0.0\n",
            "  Downloading yaspin-2.1.0-py3-none-any.whl (18 kB)\n",
            "Collecting docker-pycreds>=0.4.0\n",
            "  Downloading docker_pycreds-0.4.0-py2.py3-none-any.whl (9.0 kB)\n",
            "Collecting GitPython>=1.0.0\n",
            "  Downloading GitPython-3.1.27-py3-none-any.whl (181 kB)\n",
            "\u001b[K     |████████████████████████████████| 181 kB 61.3 MB/s \n",
            "\u001b[?25hRequirement already satisfied: protobuf>=3.12.0 in /usr/local/lib/python3.7/dist-packages (from wandb>=0.10.32->simpletransformers) (3.17.3)\n",
            "Collecting shortuuid>=0.5.0\n",
            "  Downloading shortuuid-1.0.8-py3-none-any.whl (9.5 kB)\n",
            "Collecting gitdb<5,>=4.0.1\n",
            "  Downloading gitdb-4.0.9-py3-none-any.whl (63 kB)\n",
            "\u001b[K     |████████████████████████████████| 63 kB 1.7 MB/s \n",
            "\u001b[?25hCollecting smmap<6,>=3.0.1\n",
            "  Downloading smmap-5.0.0-py3-none-any.whl (24 kB)\n",
            "Requirement already satisfied: urllib3!=1.25.0,!=1.25.1,<1.26,>=1.21.1 in /usr/local/lib/python3.7/dist-packages (from requests->simpletransformers) (1.24.3)\n",
            "Requirement already satisfied: chardet<4,>=3.0.2 in /usr/local/lib/python3.7/dist-packages (from requests->simpletransformers) (3.0.4)\n",
            "Requirement already satisfied: idna<3,>=2.5 in /usr/local/lib/python3.7/dist-packages (from requests->simpletransformers) (2.10)\n",
            "Requirement already satisfied: certifi>=2017.4.17 in /usr/local/lib/python3.7/dist-packages (from requests->simpletransformers) (2021.10.8)\n",
            "Requirement already satisfied: termcolor<2.0.0,>=1.1.0 in /usr/local/lib/python3.7/dist-packages (from yaspin>=1.0.0->wandb>=0.10.32->simpletransformers) (1.1.0)\n",
            "Collecting fsspec[http]>=2021.05.0\n",
            "  Downloading fsspec-2022.2.0-py3-none-any.whl (134 kB)\n",
            "\u001b[K     |████████████████████████████████| 134 kB 64.8 MB/s \n",
            "\u001b[?25hCollecting aiohttp\n",
            "  Downloading aiohttp-3.8.1-cp37-cp37m-manylinux_2_5_x86_64.manylinux1_x86_64.manylinux_2_12_x86_64.manylinux2010_x86_64.whl (1.1 MB)\n",
            "\u001b[K     |████████████████████████████████| 1.1 MB 57.2 MB/s \n",
            "\u001b[?25hRequirement already satisfied: dill in /usr/local/lib/python3.7/dist-packages (from datasets->simpletransformers) (0.3.4)\n",
            "Collecting xxhash\n",
            "  Downloading xxhash-3.0.0-cp37-cp37m-manylinux_2_17_x86_64.manylinux2014_x86_64.whl (212 kB)\n",
            "\u001b[K     |████████████████████████████████| 212 kB 63.2 MB/s \n",
            "\u001b[?25hRequirement already satisfied: multiprocess in /usr/local/lib/python3.7/dist-packages (from datasets->simpletransformers) (0.70.12.2)\n",
            "Collecting responses<0.19\n",
            "  Downloading responses-0.18.0-py3-none-any.whl (38 kB)\n",
            "Requirement already satisfied: pyarrow>=5.0.0 in /usr/local/lib/python3.7/dist-packages (from datasets->simpletransformers) (6.0.1)\n",
            "Collecting urllib3!=1.25.0,!=1.25.1,<1.26,>=1.21.1\n",
            "  Downloading urllib3-1.25.11-py2.py3-none-any.whl (127 kB)\n",
            "\u001b[K     |████████████████████████████████| 127 kB 57.6 MB/s \n",
            "\u001b[?25hCollecting aiosignal>=1.1.2\n",
            "  Downloading aiosignal-1.2.0-py3-none-any.whl (8.2 kB)\n",
            "Collecting frozenlist>=1.1.1\n",
            "  Downloading frozenlist-1.3.0-cp37-cp37m-manylinux_2_5_x86_64.manylinux1_x86_64.manylinux_2_17_x86_64.manylinux2014_x86_64.whl (144 kB)\n",
            "\u001b[K     |████████████████████████████████| 144 kB 63.4 MB/s \n",
            "\u001b[?25hCollecting multidict<7.0,>=4.5\n",
            "  Downloading multidict-6.0.2-cp37-cp37m-manylinux_2_17_x86_64.manylinux2014_x86_64.whl (94 kB)\n",
            "\u001b[K     |████████████████████████████████| 94 kB 3.3 MB/s \n",
            "\u001b[?25hCollecting async-timeout<5.0,>=4.0.0a3\n",
            "  Downloading async_timeout-4.0.2-py3-none-any.whl (5.8 kB)\n",
            "Requirement already satisfied: charset-normalizer<3.0,>=2.0 in /usr/local/lib/python3.7/dist-packages (from aiohttp->datasets->simpletransformers) (2.0.12)\n",
            "Collecting asynctest==0.13.0\n",
            "  Downloading asynctest-0.13.0-py3-none-any.whl (26 kB)\n",
            "Collecting yarl<2.0,>=1.0\n",
            "  Downloading yarl-1.7.2-cp37-cp37m-manylinux_2_5_x86_64.manylinux1_x86_64.manylinux_2_12_x86_64.manylinux2010_x86_64.whl (271 kB)\n",
            "\u001b[K     |████████████████████████████████| 271 kB 66.0 MB/s \n",
            "\u001b[?25hRequirement already satisfied: attrs>=17.3.0 in /usr/local/lib/python3.7/dist-packages (from aiohttp->datasets->simpletransformers) (21.4.0)\n",
            "Requirement already satisfied: zipp>=0.5 in /usr/local/lib/python3.7/dist-packages (from importlib-metadata->transformers>=4.6.0->simpletransformers) (3.7.0)\n",
            "Requirement already satisfied: pytz>=2017.3 in /usr/local/lib/python3.7/dist-packages (from pandas->simpletransformers) (2018.9)\n",
            "Requirement already satisfied: joblib in /usr/local/lib/python3.7/dist-packages (from sacremoses->transformers>=4.6.0->simpletransformers) (1.1.0)\n",
            "Requirement already satisfied: threadpoolctl>=2.0.0 in /usr/local/lib/python3.7/dist-packages (from scikit-learn->simpletransformers) (3.1.0)\n",
            "Collecting blinker\n",
            "  Downloading blinker-1.4.tar.gz (111 kB)\n",
            "\u001b[K     |████████████████████████████████| 111 kB 66.1 MB/s \n",
            "\u001b[?25hCollecting pydeck>=0.1.dev5\n",
            "  Downloading pydeck-0.7.1-py2.py3-none-any.whl (4.3 MB)\n",
            "\u001b[K     |████████████████████████████████| 4.3 MB 53.5 MB/s \n",
            "\u001b[?25hRequirement already satisfied: tzlocal in /usr/local/lib/python3.7/dist-packages (from streamlit->simpletransformers) (1.5.1)\n",
            "Requirement already satisfied: altair>=3.2.0 in /usr/local/lib/python3.7/dist-packages (from streamlit->simpletransformers) (4.2.0)\n",
            "Requirement already satisfied: semver in /usr/local/lib/python3.7/dist-packages (from streamlit->simpletransformers) (2.13.0)\n",
            "Requirement already satisfied: cachetools>=4.0 in /usr/local/lib/python3.7/dist-packages (from streamlit->simpletransformers) (4.2.4)\n",
            "Collecting pympler>=0.9\n",
            "  Downloading Pympler-1.0.1-py3-none-any.whl (164 kB)\n",
            "\u001b[K     |████████████████████████████████| 164 kB 67.7 MB/s \n",
            "\u001b[?25hRequirement already satisfied: tornado>=5.0 in /usr/local/lib/python3.7/dist-packages (from streamlit->simpletransformers) (5.1.1)\n",
            "Collecting validators\n",
            "  Downloading validators-0.18.2-py3-none-any.whl (19 kB)\n",
            "Collecting watchdog\n",
            "  Downloading watchdog-2.1.7-py3-none-manylinux2014_x86_64.whl (76 kB)\n",
            "\u001b[K     |████████████████████████████████| 76 kB 4.9 MB/s \n",
            "\u001b[?25hRequirement already satisfied: pillow>=6.2.0 in /usr/local/lib/python3.7/dist-packages (from streamlit->simpletransformers) (7.1.2)\n",
            "Collecting toml\n",
            "  Downloading toml-0.10.2-py2.py3-none-any.whl (16 kB)\n",
            "Requirement already satisfied: jinja2 in /usr/local/lib/python3.7/dist-packages (from altair>=3.2.0->streamlit->simpletransformers) (2.11.3)\n",
            "Requirement already satisfied: entrypoints in /usr/local/lib/python3.7/dist-packages (from altair>=3.2.0->streamlit->simpletransformers) (0.4)\n",
            "Requirement already satisfied: toolz in /usr/local/lib/python3.7/dist-packages (from altair>=3.2.0->streamlit->simpletransformers) (0.11.2)\n",
            "Requirement already satisfied: jsonschema>=3.0 in /usr/local/lib/python3.7/dist-packages (from altair>=3.2.0->streamlit->simpletransformers) (4.3.3)\n",
            "Requirement already satisfied: importlib-resources>=1.4.0 in /usr/local/lib/python3.7/dist-packages (from jsonschema>=3.0->altair>=3.2.0->streamlit->simpletransformers) (5.4.0)\n",
            "Requirement already satisfied: pyrsistent!=0.17.0,!=0.17.1,!=0.17.2,>=0.14.0 in /usr/local/lib/python3.7/dist-packages (from jsonschema>=3.0->altair>=3.2.0->streamlit->simpletransformers) (0.18.1)\n",
            "Requirement already satisfied: ipywidgets>=7.0.0 in /usr/local/lib/python3.7/dist-packages (from pydeck>=0.1.dev5->streamlit->simpletransformers) (7.7.0)\n",
            "Collecting ipykernel>=5.1.2\n",
            "  Downloading ipykernel-6.10.0-py3-none-any.whl (130 kB)\n",
            "\u001b[K     |████████████████████████████████| 130 kB 64.4 MB/s \n",
            "\u001b[?25hRequirement already satisfied: traitlets>=4.3.2 in /usr/local/lib/python3.7/dist-packages (from pydeck>=0.1.dev5->streamlit->simpletransformers) (5.1.1)\n",
            "Requirement already satisfied: jupyter-client<8.0 in /usr/local/lib/python3.7/dist-packages (from ipykernel>=5.1.2->pydeck>=0.1.dev5->streamlit->simpletransformers) (5.3.5)\n",
            "Requirement already satisfied: matplotlib-inline<0.2.0,>=0.1.0 in /usr/local/lib/python3.7/dist-packages (from ipykernel>=5.1.2->pydeck>=0.1.dev5->streamlit->simpletransformers) (0.1.3)\n",
            "Requirement already satisfied: nest-asyncio in /usr/local/lib/python3.7/dist-packages (from ipykernel>=5.1.2->pydeck>=0.1.dev5->streamlit->simpletransformers) (1.5.4)\n",
            "Collecting ipython>=7.23.1\n",
            "  Downloading ipython-7.32.0-py3-none-any.whl (793 kB)\n",
            "\u001b[K     |████████████████████████████████| 793 kB 61.2 MB/s \n",
            "\u001b[?25hRequirement already satisfied: debugpy<2.0,>=1.0.0 in /usr/local/lib/python3.7/dist-packages (from ipykernel>=5.1.2->pydeck>=0.1.dev5->streamlit->simpletransformers) (1.0.0)\n",
            "Collecting prompt-toolkit!=3.0.0,!=3.0.1,<3.1.0,>=2.0.0\n",
            "  Downloading prompt_toolkit-3.0.28-py3-none-any.whl (380 kB)\n",
            "\u001b[K     |████████████████████████████████| 380 kB 65.8 MB/s \n",
            "\u001b[?25hRequirement already satisfied: backcall in /usr/local/lib/python3.7/dist-packages (from ipython>=7.23.1->ipykernel>=5.1.2->pydeck>=0.1.dev5->streamlit->simpletransformers) (0.2.0)\n",
            "Requirement already satisfied: decorator in /usr/local/lib/python3.7/dist-packages (from ipython>=7.23.1->ipykernel>=5.1.2->pydeck>=0.1.dev5->streamlit->simpletransformers) (4.4.2)\n",
            "Requirement already satisfied: pickleshare in /usr/local/lib/python3.7/dist-packages (from ipython>=7.23.1->ipykernel>=5.1.2->pydeck>=0.1.dev5->streamlit->simpletransformers) (0.7.5)\n",
            "Requirement already satisfied: setuptools>=18.5 in /usr/local/lib/python3.7/dist-packages (from ipython>=7.23.1->ipykernel>=5.1.2->pydeck>=0.1.dev5->streamlit->simpletransformers) (57.4.0)\n",
            "Requirement already satisfied: pexpect>4.3 in /usr/local/lib/python3.7/dist-packages (from ipython>=7.23.1->ipykernel>=5.1.2->pydeck>=0.1.dev5->streamlit->simpletransformers) (4.8.0)\n",
            "Requirement already satisfied: pygments in /usr/local/lib/python3.7/dist-packages (from ipython>=7.23.1->ipykernel>=5.1.2->pydeck>=0.1.dev5->streamlit->simpletransformers) (2.6.1)\n",
            "Requirement already satisfied: jedi>=0.16 in /usr/local/lib/python3.7/dist-packages (from ipython>=7.23.1->ipykernel>=5.1.2->pydeck>=0.1.dev5->streamlit->simpletransformers) (0.18.1)\n",
            "Requirement already satisfied: widgetsnbextension~=3.6.0 in /usr/local/lib/python3.7/dist-packages (from ipywidgets>=7.0.0->pydeck>=0.1.dev5->streamlit->simpletransformers) (3.6.0)\n",
            "Requirement already satisfied: nbformat>=4.2.0 in /usr/local/lib/python3.7/dist-packages (from ipywidgets>=7.0.0->pydeck>=0.1.dev5->streamlit->simpletransformers) (5.2.0)\n",
            "Requirement already satisfied: jupyterlab-widgets>=1.0.0 in /usr/local/lib/python3.7/dist-packages (from ipywidgets>=7.0.0->pydeck>=0.1.dev5->streamlit->simpletransformers) (1.1.0)\n",
            "Requirement already satisfied: ipython-genutils~=0.2.0 in /usr/local/lib/python3.7/dist-packages (from ipywidgets>=7.0.0->pydeck>=0.1.dev5->streamlit->simpletransformers) (0.2.0)\n",
            "Requirement already satisfied: parso<0.9.0,>=0.8.0 in /usr/local/lib/python3.7/dist-packages (from jedi>=0.16->ipython>=7.23.1->ipykernel>=5.1.2->pydeck>=0.1.dev5->streamlit->simpletransformers) (0.8.3)\n",
            "Requirement already satisfied: MarkupSafe>=0.23 in /usr/local/lib/python3.7/dist-packages (from jinja2->altair>=3.2.0->streamlit->simpletransformers) (2.0.1)\n",
            "Requirement already satisfied: jupyter-core>=4.6.0 in /usr/local/lib/python3.7/dist-packages (from jupyter-client<8.0->ipykernel>=5.1.2->pydeck>=0.1.dev5->streamlit->simpletransformers) (4.9.2)\n",
            "Requirement already satisfied: pyzmq>=13 in /usr/local/lib/python3.7/dist-packages (from jupyter-client<8.0->ipykernel>=5.1.2->pydeck>=0.1.dev5->streamlit->simpletransformers) (22.3.0)\n",
            "Requirement already satisfied: ptyprocess>=0.5 in /usr/local/lib/python3.7/dist-packages (from pexpect>4.3->ipython>=7.23.1->ipykernel>=5.1.2->pydeck>=0.1.dev5->streamlit->simpletransformers) (0.7.0)\n",
            "Requirement already satisfied: wcwidth in /usr/local/lib/python3.7/dist-packages (from prompt-toolkit!=3.0.0,!=3.0.1,<3.1.0,>=2.0.0->ipython>=7.23.1->ipykernel>=5.1.2->pydeck>=0.1.dev5->streamlit->simpletransformers) (0.2.5)\n",
            "Requirement already satisfied: notebook>=4.4.1 in /usr/local/lib/python3.7/dist-packages (from widgetsnbextension~=3.6.0->ipywidgets>=7.0.0->pydeck>=0.1.dev5->streamlit->simpletransformers) (5.3.1)\n",
            "Requirement already satisfied: nbconvert in /usr/local/lib/python3.7/dist-packages (from notebook>=4.4.1->widgetsnbextension~=3.6.0->ipywidgets>=7.0.0->pydeck>=0.1.dev5->streamlit->simpletransformers) (5.6.1)\n",
            "Requirement already satisfied: Send2Trash in /usr/local/lib/python3.7/dist-packages (from notebook>=4.4.1->widgetsnbextension~=3.6.0->ipywidgets>=7.0.0->pydeck>=0.1.dev5->streamlit->simpletransformers) (1.8.0)\n",
            "Requirement already satisfied: terminado>=0.8.1 in /usr/local/lib/python3.7/dist-packages (from notebook>=4.4.1->widgetsnbextension~=3.6.0->ipywidgets>=7.0.0->pydeck>=0.1.dev5->streamlit->simpletransformers) (0.13.3)\n",
            "Requirement already satisfied: mistune<2,>=0.8.1 in /usr/local/lib/python3.7/dist-packages (from nbconvert->notebook>=4.4.1->widgetsnbextension~=3.6.0->ipywidgets>=7.0.0->pydeck>=0.1.dev5->streamlit->simpletransformers) (0.8.4)\n",
            "Requirement already satisfied: pandocfilters>=1.4.1 in /usr/local/lib/python3.7/dist-packages (from nbconvert->notebook>=4.4.1->widgetsnbextension~=3.6.0->ipywidgets>=7.0.0->pydeck>=0.1.dev5->streamlit->simpletransformers) (1.5.0)\n",
            "Requirement already satisfied: defusedxml in /usr/local/lib/python3.7/dist-packages (from nbconvert->notebook>=4.4.1->widgetsnbextension~=3.6.0->ipywidgets>=7.0.0->pydeck>=0.1.dev5->streamlit->simpletransformers) (0.7.1)\n",
            "Requirement already satisfied: bleach in /usr/local/lib/python3.7/dist-packages (from nbconvert->notebook>=4.4.1->widgetsnbextension~=3.6.0->ipywidgets>=7.0.0->pydeck>=0.1.dev5->streamlit->simpletransformers) (4.1.0)\n",
            "Requirement already satisfied: testpath in /usr/local/lib/python3.7/dist-packages (from nbconvert->notebook>=4.4.1->widgetsnbextension~=3.6.0->ipywidgets>=7.0.0->pydeck>=0.1.dev5->streamlit->simpletransformers) (0.6.0)\n",
            "Requirement already satisfied: webencodings in /usr/local/lib/python3.7/dist-packages (from bleach->nbconvert->notebook>=4.4.1->widgetsnbextension~=3.6.0->ipywidgets>=7.0.0->pydeck>=0.1.dev5->streamlit->simpletransformers) (0.5.1)\n",
            "Requirement already satisfied: tensorboard-data-server<0.7.0,>=0.6.0 in /usr/local/lib/python3.7/dist-packages (from tensorboard->simpletransformers) (0.6.1)\n",
            "Requirement already satisfied: google-auth-oauthlib<0.5,>=0.4.1 in /usr/local/lib/python3.7/dist-packages (from tensorboard->simpletransformers) (0.4.6)\n",
            "Requirement already satisfied: tensorboard-plugin-wit>=1.6.0 in /usr/local/lib/python3.7/dist-packages (from tensorboard->simpletransformers) (1.8.1)\n",
            "Requirement already satisfied: absl-py>=0.4 in /usr/local/lib/python3.7/dist-packages (from tensorboard->simpletransformers) (1.0.0)\n",
            "Requirement already satisfied: wheel>=0.26 in /usr/local/lib/python3.7/dist-packages (from tensorboard->simpletransformers) (0.37.1)\n",
            "Requirement already satisfied: werkzeug>=0.11.15 in /usr/local/lib/python3.7/dist-packages (from tensorboard->simpletransformers) (1.0.1)\n",
            "Requirement already satisfied: google-auth<3,>=1.6.3 in /usr/local/lib/python3.7/dist-packages (from tensorboard->simpletransformers) (1.35.0)\n",
            "Requirement already satisfied: markdown>=2.6.8 in /usr/local/lib/python3.7/dist-packages (from tensorboard->simpletransformers) (3.3.6)\n",
            "Requirement already satisfied: grpcio>=1.24.3 in /usr/local/lib/python3.7/dist-packages (from tensorboard->simpletransformers) (1.44.0)\n",
            "Requirement already satisfied: rsa<5,>=3.1.4 in /usr/local/lib/python3.7/dist-packages (from google-auth<3,>=1.6.3->tensorboard->simpletransformers) (4.8)\n",
            "Requirement already satisfied: pyasn1-modules>=0.2.1 in /usr/local/lib/python3.7/dist-packages (from google-auth<3,>=1.6.3->tensorboard->simpletransformers) (0.2.8)\n",
            "Requirement already satisfied: requests-oauthlib>=0.7.0 in /usr/local/lib/python3.7/dist-packages (from google-auth-oauthlib<0.5,>=0.4.1->tensorboard->simpletransformers) (1.3.1)\n",
            "Requirement already satisfied: pyasn1<0.5.0,>=0.4.6 in /usr/local/lib/python3.7/dist-packages (from pyasn1-modules>=0.2.1->google-auth<3,>=1.6.3->tensorboard->simpletransformers) (0.4.8)\n",
            "Requirement already satisfied: oauthlib>=3.0.0 in /usr/local/lib/python3.7/dist-packages (from requests-oauthlib>=0.7.0->google-auth-oauthlib<0.5,>=0.4.1->tensorboard->simpletransformers) (3.2.0)\n",
            "Building wheels for collected packages: pathtools, seqeval, blinker\n",
            "  Building wheel for pathtools (setup.py) ... \u001b[?25l\u001b[?25hdone\n",
            "  Created wheel for pathtools: filename=pathtools-0.1.2-py3-none-any.whl size=8806 sha256=09135b49852b0d3281bd7d6c87858a527f588cdabf4048149e6b17f241e7bc4c\n",
            "  Stored in directory: /root/.cache/pip/wheels/3e/31/09/fa59cef12cdcfecc627b3d24273699f390e71828921b2cbba2\n",
            "  Building wheel for seqeval (setup.py) ... \u001b[?25l\u001b[?25hdone\n",
            "  Created wheel for seqeval: filename=seqeval-1.2.2-py3-none-any.whl size=16180 sha256=37b4c53eeddea076355776e86050eb78e2d38586ee24adb025f5f9f362faa9a9\n",
            "  Stored in directory: /root/.cache/pip/wheels/05/96/ee/7cac4e74f3b19e3158dce26a20a1c86b3533c43ec72a549fd7\n",
            "  Building wheel for blinker (setup.py) ... \u001b[?25l\u001b[?25hdone\n",
            "  Created wheel for blinker: filename=blinker-1.4-py3-none-any.whl size=13478 sha256=4aefe3b41c65e75e248797e4199c196202965bbd942b64a010979a95d981d7ad\n",
            "  Stored in directory: /root/.cache/pip/wheels/22/f5/18/df711b66eb25b21325c132757d4314db9ac5e8dabeaf196eab\n",
            "Successfully built pathtools seqeval blinker\n",
            "Installing collected packages: prompt-toolkit, ipython, ipykernel, urllib3, multidict, frozenlist, yarl, smmap, asynctest, async-timeout, aiosignal, pyyaml, gitdb, fsspec, aiohttp, yaspin, xxhash, watchdog, validators, toml, tokenizers, shortuuid, setproctitle, sentry-sdk, sacremoses, responses, pympler, pydeck, pathtools, huggingface-hub, GitPython, docker-pycreds, blinker, wandb, transformers, streamlit, seqeval, sentencepiece, datasets, simpletransformers\n",
            "  Attempting uninstall: prompt-toolkit\n",
            "    Found existing installation: prompt-toolkit 1.0.18\n",
            "    Uninstalling prompt-toolkit-1.0.18:\n",
            "      Successfully uninstalled prompt-toolkit-1.0.18\n",
            "  Attempting uninstall: ipython\n",
            "    Found existing installation: ipython 5.5.0\n",
            "    Uninstalling ipython-5.5.0:\n",
            "      Successfully uninstalled ipython-5.5.0\n",
            "  Attempting uninstall: ipykernel\n",
            "    Found existing installation: ipykernel 4.10.1\n",
            "    Uninstalling ipykernel-4.10.1:\n",
            "      Successfully uninstalled ipykernel-4.10.1\n",
            "  Attempting uninstall: urllib3\n",
            "    Found existing installation: urllib3 1.24.3\n",
            "    Uninstalling urllib3-1.24.3:\n",
            "      Successfully uninstalled urllib3-1.24.3\n",
            "  Attempting uninstall: pyyaml\n",
            "    Found existing installation: PyYAML 3.13\n",
            "    Uninstalling PyYAML-3.13:\n",
            "      Successfully uninstalled PyYAML-3.13\n",
            "\u001b[31mERROR: pip's dependency resolver does not currently take into account all the packages that are installed. This behaviour is the source of the following dependency conflicts.\n",
            "jupyter-console 5.2.0 requires prompt-toolkit<2.0.0,>=1.0.0, but you have prompt-toolkit 3.0.28 which is incompatible.\n",
            "google-colab 1.0.0 requires ipykernel~=4.10, but you have ipykernel 6.10.0 which is incompatible.\n",
            "google-colab 1.0.0 requires ipython~=5.5.0, but you have ipython 7.32.0 which is incompatible.\n",
            "datascience 0.10.6 requires folium==0.2.1, but you have folium 0.8.3 which is incompatible.\u001b[0m\n",
            "Successfully installed GitPython-3.1.27 aiohttp-3.8.1 aiosignal-1.2.0 async-timeout-4.0.2 asynctest-0.13.0 blinker-1.4 datasets-2.0.0 docker-pycreds-0.4.0 frozenlist-1.3.0 fsspec-2022.2.0 gitdb-4.0.9 huggingface-hub-0.4.0 ipykernel-6.10.0 ipython-7.32.0 multidict-6.0.2 pathtools-0.1.2 prompt-toolkit-3.0.28 pydeck-0.7.1 pympler-1.0.1 pyyaml-6.0 responses-0.18.0 sacremoses-0.0.49 sentencepiece-0.1.96 sentry-sdk-1.5.8 seqeval-1.2.2 setproctitle-1.2.2 shortuuid-1.0.8 simpletransformers-0.63.6 smmap-5.0.0 streamlit-1.8.0 tokenizers-0.11.6 toml-0.10.2 transformers-4.17.0 urllib3-1.25.11 validators-0.18.2 wandb-0.12.11 watchdog-2.1.7 xxhash-3.0.0 yarl-1.7.2 yaspin-2.1.0\n"
          ]
        },
        {
          "output_type": "display_data",
          "data": {
            "application/vnd.colab-display-data+json": {
              "pip_warning": {
                "packages": [
                  "IPython",
                  "ipykernel",
                  "prompt_toolkit"
                ]
              }
            }
          },
          "metadata": {}
        }
      ]
    },
    {
      "cell_type": "code",
      "source": [
        "import pandas as pd\n",
        "from sklearn.model_selection import train_test_split\n",
        "from sklearn.feature_extraction.text import CountVectorizer\n",
        "from sklearn.tree import DecisionTreeClassifier\n",
        "from sklearn.pipeline import Pipeline\n",
        "import pandas as pd\n",
        "from sklearn.model_selection import train_test_split\n",
        "from sklearn.feature_extraction.text import TfidfVectorizer, CountVectorizer\n",
        "from sklearn.tree import DecisionTreeClassifier\n",
        "from sklearn.pipeline import Pipeline\n",
        "import xgboost as XGBClassifier\n",
        "from sklearn.ensemble import RandomForestClassifier\n",
        "import simpletransformers\n",
        "from sklearn.model_selection import GridSearchCV\n"
      ],
      "metadata": {
        "id": "s5v_u6F5MksC"
      },
      "id": "s5v_u6F5MksC",
      "execution_count": 2,
      "outputs": []
    },
    {
      "cell_type": "code",
      "source": [
        "#mount google drive\n",
        "from google.colab import drive\n",
        "drive.mount('/content/drive')"
      ],
      "metadata": {
        "colab": {
          "base_uri": "https://localhost:8080/"
        },
        "id": "HaWUWKX6aNsv",
        "outputId": "336d95db-4e43-481f-dc4c-f93c3b954c96"
      },
      "id": "HaWUWKX6aNsv",
      "execution_count": 5,
      "outputs": [
        {
          "output_type": "stream",
          "name": "stdout",
          "text": [
            "Mounted at /content/drive\n"
          ]
        }
      ]
    },
    {
      "cell_type": "code",
      "source": [
        "project_path = '/content/drive/MyDrive/NLP/'\n",
        " "
      ],
      "metadata": {
        "id": "bJtpDj6RaTN_"
      },
      "id": "bJtpDj6RaTN_",
      "execution_count": 3,
      "outputs": []
    },
    {
      "cell_type": "code",
      "source": [
        "df = pd.read_csv(project_path + 'public_data.csv')\n",
        "df_test = pd.read_csv(project_path + 'input_data.csv') \n",
        "########## For people running locally#####\n",
        "#emails_df2 = pd.read_csv('enron_classification_df.csv') "
      ],
      "metadata": {
        "id": "cvkU31_RaWua"
      },
      "id": "cvkU31_RaWua",
      "execution_count": 4,
      "outputs": []
    },
    {
      "cell_type": "code",
      "source": [
        "\n",
        "\n",
        "#df = pd.read_csv(\"public_data.csv\")\n",
        "print(df.info())\n",
        "print(df.head())\n",
        "\n",
        "\n",
        "X = df['message']\n",
        "y = df['label']\n",
        "\n",
        "X_train, X_val, y_train, y_val = train_test_split(X, y, test_size=0.2, random_state=42)\n",
        "\n",
        "print(X_train.shape)\n",
        "print(y_train.shape)\n",
        "print(X_val.shape)\n",
        "print(y_val.shape)\n",
        "\n",
        "\n",
        "vectorizer = CountVectorizer(min_df=.01, max_df=.8, ngram_range=[1,1], max_features=300, stop_words='english')\n",
        "\n",
        "pipe = Pipeline([('vec', vectorizer),  ('clf', DecisionTreeClassifier(random_state=223))])\n",
        "\n",
        "pipe.fit(X_train, y_train)\n",
        "\n",
        "\n",
        "from sklearn.metrics import confusion_matrix, classification_report\n",
        "\n",
        "pred_val = pipe.predict(X_val)\n",
        "print(confusion_matrix(y_val, pred_val))\n",
        "print(classification_report(y_val, pred_val))\n",
        "\n",
        "\n",
        "from sklearn.metrics.cluster import adjusted_rand_score, adjusted_mutual_info_score\n",
        "\n",
        "ari = adjusted_rand_score(y_val, pred_val)\n",
        "ami = adjusted_mutual_info_score(y_val, pred_val, average_method='arithmetic')\n",
        "\n",
        "print(\"ARI: {}\".format(ari))\n",
        "print(\"AMI: {}\".format(ami))\n",
        "\n",
        "\n",
        "## Kaggle Predictions\n",
        "\n",
        "\n",
        "#df_test = pd.read_csv('input_data.csv')\n",
        "df_test.info()\n",
        "df_test.head()\n",
        "\n",
        "pred_test = pipe.predict(df_test['message'])\n",
        "\n",
        "my_submission = pd.DataFrame({'Id': df_test['id'], 'label': pred_test})\n",
        "print(my_submission.head())\n",
        "\n",
        "# NOTE: after saving the CSV file, be sure to zip the file before submitting to the competition website!\n",
        "my_submission.to_csv('answers.csv', index=False)"
      ],
      "metadata": {
        "colab": {
          "base_uri": "https://localhost:8080/"
        },
        "id": "-bS6_ofVaIbR",
        "outputId": "57119461-056a-4632-86ad-3bd4ca35148e"
      },
      "id": "-bS6_ofVaIbR",
      "execution_count": 5,
      "outputs": [
        {
          "output_type": "stream",
          "name": "stdout",
          "text": [
            "<class 'pandas.core.frame.DataFrame'>\n",
            "RangeIndex: 11623 entries, 0 to 11622\n",
            "Data columns (total 3 columns):\n",
            " #   Column   Non-Null Count  Dtype \n",
            "---  ------   --------------  ----- \n",
            " 0   id       11623 non-null  int64 \n",
            " 1   message  11623 non-null  object\n",
            " 2   label    11623 non-null  object\n",
            "dtypes: int64(1), object(2)\n",
            "memory usage: 272.5+ KB\n",
            "None\n",
            "      id                                            message  \\\n",
            "0   8793    hi i want change my address from my credit card   \n",
            "1   3083  i need 4 fruit maple oatmeal 3 cold brew froze...   \n",
            "2   5932        i wish to travel next month domestic airway   \n",
            "3  12077                   i need reimbursement my expenses   \n",
            "4   6608              i need a copy of insurance for my car   \n",
            "\n",
            "                 label  \n",
            "0        updateaddress  \n",
            "1     orderdrinkintent  \n",
            "2           bookflight  \n",
            "3        expensereport  \n",
            "4  getproofofinsurance  \n",
            "(9298,)\n",
            "(9298,)\n",
            "(2325,)\n",
            "(2325,)\n",
            "[[ 41   0   0 ...   0   0   0]\n",
            " [  0   0   0 ...   0   0   0]\n",
            " [  0   0 178 ...   0   0   2]\n",
            " ...\n",
            " [  0   0   0 ...  69   0   0]\n",
            " [  1   0   1 ...   0   0   0]\n",
            " [  0   0   0 ...   0   0   7]]\n",
            "                       precision    recall  f1-score   support\n",
            "\n",
            "           bookflight       0.89      0.98      0.93        42\n",
            "          changeorder       0.00      0.00      0.00         5\n",
            " changeseatassignment       0.89      0.93      0.91       192\n",
            "         checkbalance       0.91      0.98      0.94        50\n",
            "     checkclaimstatus       0.98      0.98      0.98        90\n",
            "checkoffereligibility       0.33      1.00      0.50         6\n",
            "    checkserverstatus       0.87      0.87      0.87        30\n",
            "         closeaccount       0.88      0.75      0.81        20\n",
            "        disputecharge       0.95      0.45      0.61        42\n",
            "        expensereport       0.96      0.94      0.95        77\n",
            "      getboardingpass       1.00      1.00      1.00       114\n",
            " getinformationintent       0.83      0.75      0.79        32\n",
            "        getpromotions       0.00      0.00      0.00         3\n",
            "  getproofofinsurance       0.99      0.98      0.98       192\n",
            "     getroutingnumber       0.93      0.93      0.93        14\n",
            "          getseatinfo       0.73      0.56      0.64        48\n",
            " orderbreakfastintent       0.00      0.00      0.00         7\n",
            "    orderburgerintent       0.65      0.41      0.50        59\n",
            "          orderchecks       0.67      0.25      0.36         8\n",
            "   orderdessertintent       0.84      0.27      0.41        60\n",
            "     orderdrinkintent       0.53      0.83      0.65       151\n",
            "     orderpizzaintent       0.91      0.87      0.89       203\n",
            "     ordersaladintent       0.84      0.88      0.86        52\n",
            "      ordersideintent       0.00      0.00      0.00        23\n",
            "       providereceipt       0.33      1.00      0.50         1\n",
            "          replacecard       0.90      0.60      0.72        15\n",
            "    reportbrokenphone       1.00      0.91      0.95        69\n",
            " reportbrokensoftware       0.86      0.80      0.83        69\n",
            "       reportlostcard       0.82      0.99      0.89        73\n",
            "       softwareupdate       0.88      0.80      0.84        55\n",
            "           startorder       0.41      0.73      0.52        56\n",
            "   startserviceintent       0.98      1.00      0.99       330\n",
            "            stoporder       0.00      0.00      0.00         3\n",
            "        transfermoney       0.91      0.93      0.92        43\n",
            "        updateaddress       0.99      1.00      0.99        69\n",
            " upgradeserviceintent       0.00      0.00      0.00         5\n",
            "      viewbillsintent       0.58      0.41      0.48        17\n",
            "\n",
            "             accuracy                           0.85      2325\n",
            "            macro avg       0.68      0.67      0.65      2325\n",
            "         weighted avg       0.86      0.85      0.84      2325\n",
            "\n",
            "ARI: 0.8157908910988105\n",
            "AMI: 0.829856005820435\n",
            "<class 'pandas.core.frame.DataFrame'>\n",
            "RangeIndex: 2906 entries, 0 to 2905\n",
            "Data columns (total 2 columns):\n",
            " #   Column   Non-Null Count  Dtype \n",
            "---  ------   --------------  ----- \n",
            " 0   id       2906 non-null   int64 \n",
            " 1   message  2906 non-null   object\n",
            "dtypes: int64(1), object(1)\n",
            "memory usage: 45.5+ KB\n",
            "      Id               label\n",
            "0  12123    orderdrinkintent\n",
            "1    244   orderburgerintent\n",
            "2   8221         replacecard\n",
            "3  12856  startserviceintent\n",
            "4  12108       expensereport\n"
          ]
        },
        {
          "output_type": "stream",
          "name": "stderr",
          "text": [
            "/usr/local/lib/python3.7/dist-packages/sklearn/metrics/_classification.py:1318: UndefinedMetricWarning: Precision and F-score are ill-defined and being set to 0.0 in labels with no predicted samples. Use `zero_division` parameter to control this behavior.\n",
            "  _warn_prf(average, modifier, msg_start, len(result))\n",
            "/usr/local/lib/python3.7/dist-packages/sklearn/metrics/_classification.py:1318: UndefinedMetricWarning: Precision and F-score are ill-defined and being set to 0.0 in labels with no predicted samples. Use `zero_division` parameter to control this behavior.\n",
            "  _warn_prf(average, modifier, msg_start, len(result))\n",
            "/usr/local/lib/python3.7/dist-packages/sklearn/metrics/_classification.py:1318: UndefinedMetricWarning: Precision and F-score are ill-defined and being set to 0.0 in labels with no predicted samples. Use `zero_division` parameter to control this behavior.\n",
            "  _warn_prf(average, modifier, msg_start, len(result))\n"
          ]
        }
      ]
    },
    {
      "cell_type": "code",
      "source": [
        ""
      ],
      "metadata": {
        "id": "Tbg1r-nsMjqC"
      },
      "id": "Tbg1r-nsMjqC",
      "execution_count": 8,
      "outputs": []
    },
    {
      "cell_type": "code",
      "source": [
        "# df = pd.read_csv(project_path + 'public_data.csv')\n",
        "# df_test = pd.read_csv(project_path + 'input_data.csv') "
      ],
      "metadata": {
        "id": "FQh5cuBGNgav"
      },
      "id": "FQh5cuBGNgav",
      "execution_count": 9,
      "outputs": []
    },
    {
      "cell_type": "code",
      "source": [
        "df"
      ],
      "metadata": {
        "colab": {
          "base_uri": "https://localhost:8080/",
          "height": 423
        },
        "id": "VDi0zuUjQgFT",
        "outputId": "d0312087-39f4-457e-e1f5-90c81704ec5c"
      },
      "id": "VDi0zuUjQgFT",
      "execution_count": 37,
      "outputs": [
        {
          "output_type": "execute_result",
          "data": {
            "text/plain": [
              "          id                                            message  \\\n",
              "0       8793                 hi want change address credit card   \n",
              "1       3083  need 4 fruit maple oatmeal 3 cold brew frozen ...   \n",
              "2       5932             wish travel next month domestic airway   \n",
              "3      12077                        need reimbursement expenses   \n",
              "4       6608                            need copy insurance car   \n",
              "...      ...                                                ...   \n",
              "11618   4965      boarding pass sent email address phone number   \n",
              "11619   5175                                 need ticker bombay   \n",
              "11620  11248                             want musical equipment   \n",
              "11621   3981                                   need window seat   \n",
              "11622   9065                      please money transfer account   \n",
              "\n",
              "                      label  \n",
              "0             updateaddress  \n",
              "1          orderdrinkintent  \n",
              "2                bookflight  \n",
              "3             expensereport  \n",
              "4       getproofofinsurance  \n",
              "...                     ...  \n",
              "11618       getboardingpass  \n",
              "11619            bookflight  \n",
              "11620            startorder  \n",
              "11621  changeseatassignment  \n",
              "11622         transfermoney  \n",
              "\n",
              "[11623 rows x 3 columns]"
            ],
            "text/html": [
              "\n",
              "  <div id=\"df-48b14af9-cf6a-43dc-bd5c-e9384015ca3c\">\n",
              "    <div class=\"colab-df-container\">\n",
              "      <div>\n",
              "<style scoped>\n",
              "    .dataframe tbody tr th:only-of-type {\n",
              "        vertical-align: middle;\n",
              "    }\n",
              "\n",
              "    .dataframe tbody tr th {\n",
              "        vertical-align: top;\n",
              "    }\n",
              "\n",
              "    .dataframe thead th {\n",
              "        text-align: right;\n",
              "    }\n",
              "</style>\n",
              "<table border=\"1\" class=\"dataframe\">\n",
              "  <thead>\n",
              "    <tr style=\"text-align: right;\">\n",
              "      <th></th>\n",
              "      <th>id</th>\n",
              "      <th>message</th>\n",
              "      <th>label</th>\n",
              "    </tr>\n",
              "  </thead>\n",
              "  <tbody>\n",
              "    <tr>\n",
              "      <th>0</th>\n",
              "      <td>8793</td>\n",
              "      <td>hi want change address credit card</td>\n",
              "      <td>updateaddress</td>\n",
              "    </tr>\n",
              "    <tr>\n",
              "      <th>1</th>\n",
              "      <td>3083</td>\n",
              "      <td>need 4 fruit maple oatmeal 3 cold brew frozen ...</td>\n",
              "      <td>orderdrinkintent</td>\n",
              "    </tr>\n",
              "    <tr>\n",
              "      <th>2</th>\n",
              "      <td>5932</td>\n",
              "      <td>wish travel next month domestic airway</td>\n",
              "      <td>bookflight</td>\n",
              "    </tr>\n",
              "    <tr>\n",
              "      <th>3</th>\n",
              "      <td>12077</td>\n",
              "      <td>need reimbursement expenses</td>\n",
              "      <td>expensereport</td>\n",
              "    </tr>\n",
              "    <tr>\n",
              "      <th>4</th>\n",
              "      <td>6608</td>\n",
              "      <td>need copy insurance car</td>\n",
              "      <td>getproofofinsurance</td>\n",
              "    </tr>\n",
              "    <tr>\n",
              "      <th>...</th>\n",
              "      <td>...</td>\n",
              "      <td>...</td>\n",
              "      <td>...</td>\n",
              "    </tr>\n",
              "    <tr>\n",
              "      <th>11618</th>\n",
              "      <td>4965</td>\n",
              "      <td>boarding pass sent email address phone number</td>\n",
              "      <td>getboardingpass</td>\n",
              "    </tr>\n",
              "    <tr>\n",
              "      <th>11619</th>\n",
              "      <td>5175</td>\n",
              "      <td>need ticker bombay</td>\n",
              "      <td>bookflight</td>\n",
              "    </tr>\n",
              "    <tr>\n",
              "      <th>11620</th>\n",
              "      <td>11248</td>\n",
              "      <td>want musical equipment</td>\n",
              "      <td>startorder</td>\n",
              "    </tr>\n",
              "    <tr>\n",
              "      <th>11621</th>\n",
              "      <td>3981</td>\n",
              "      <td>need window seat</td>\n",
              "      <td>changeseatassignment</td>\n",
              "    </tr>\n",
              "    <tr>\n",
              "      <th>11622</th>\n",
              "      <td>9065</td>\n",
              "      <td>please money transfer account</td>\n",
              "      <td>transfermoney</td>\n",
              "    </tr>\n",
              "  </tbody>\n",
              "</table>\n",
              "<p>11623 rows × 3 columns</p>\n",
              "</div>\n",
              "      <button class=\"colab-df-convert\" onclick=\"convertToInteractive('df-48b14af9-cf6a-43dc-bd5c-e9384015ca3c')\"\n",
              "              title=\"Convert this dataframe to an interactive table.\"\n",
              "              style=\"display:none;\">\n",
              "        \n",
              "  <svg xmlns=\"http://www.w3.org/2000/svg\" height=\"24px\"viewBox=\"0 0 24 24\"\n",
              "       width=\"24px\">\n",
              "    <path d=\"M0 0h24v24H0V0z\" fill=\"none\"/>\n",
              "    <path d=\"M18.56 5.44l.94 2.06.94-2.06 2.06-.94-2.06-.94-.94-2.06-.94 2.06-2.06.94zm-11 1L8.5 8.5l.94-2.06 2.06-.94-2.06-.94L8.5 2.5l-.94 2.06-2.06.94zm10 10l.94 2.06.94-2.06 2.06-.94-2.06-.94-.94-2.06-.94 2.06-2.06.94z\"/><path d=\"M17.41 7.96l-1.37-1.37c-.4-.4-.92-.59-1.43-.59-.52 0-1.04.2-1.43.59L10.3 9.45l-7.72 7.72c-.78.78-.78 2.05 0 2.83L4 21.41c.39.39.9.59 1.41.59.51 0 1.02-.2 1.41-.59l7.78-7.78 2.81-2.81c.8-.78.8-2.07 0-2.86zM5.41 20L4 18.59l7.72-7.72 1.47 1.35L5.41 20z\"/>\n",
              "  </svg>\n",
              "      </button>\n",
              "      \n",
              "  <style>\n",
              "    .colab-df-container {\n",
              "      display:flex;\n",
              "      flex-wrap:wrap;\n",
              "      gap: 12px;\n",
              "    }\n",
              "\n",
              "    .colab-df-convert {\n",
              "      background-color: #E8F0FE;\n",
              "      border: none;\n",
              "      border-radius: 50%;\n",
              "      cursor: pointer;\n",
              "      display: none;\n",
              "      fill: #1967D2;\n",
              "      height: 32px;\n",
              "      padding: 0 0 0 0;\n",
              "      width: 32px;\n",
              "    }\n",
              "\n",
              "    .colab-df-convert:hover {\n",
              "      background-color: #E2EBFA;\n",
              "      box-shadow: 0px 1px 2px rgba(60, 64, 67, 0.3), 0px 1px 3px 1px rgba(60, 64, 67, 0.15);\n",
              "      fill: #174EA6;\n",
              "    }\n",
              "\n",
              "    [theme=dark] .colab-df-convert {\n",
              "      background-color: #3B4455;\n",
              "      fill: #D2E3FC;\n",
              "    }\n",
              "\n",
              "    [theme=dark] .colab-df-convert:hover {\n",
              "      background-color: #434B5C;\n",
              "      box-shadow: 0px 1px 3px 1px rgba(0, 0, 0, 0.15);\n",
              "      filter: drop-shadow(0px 1px 2px rgba(0, 0, 0, 0.3));\n",
              "      fill: #FFFFFF;\n",
              "    }\n",
              "  </style>\n",
              "\n",
              "      <script>\n",
              "        const buttonEl =\n",
              "          document.querySelector('#df-48b14af9-cf6a-43dc-bd5c-e9384015ca3c button.colab-df-convert');\n",
              "        buttonEl.style.display =\n",
              "          google.colab.kernel.accessAllowed ? 'block' : 'none';\n",
              "\n",
              "        async function convertToInteractive(key) {\n",
              "          const element = document.querySelector('#df-48b14af9-cf6a-43dc-bd5c-e9384015ca3c');\n",
              "          const dataTable =\n",
              "            await google.colab.kernel.invokeFunction('convertToInteractive',\n",
              "                                                     [key], {});\n",
              "          if (!dataTable) return;\n",
              "\n",
              "          const docLinkHtml = 'Like what you see? Visit the ' +\n",
              "            '<a target=\"_blank\" href=https://colab.research.google.com/notebooks/data_table.ipynb>data table notebook</a>'\n",
              "            + ' to learn more about interactive tables.';\n",
              "          element.innerHTML = '';\n",
              "          dataTable['output_type'] = 'display_data';\n",
              "          await google.colab.output.renderOutput(dataTable, element);\n",
              "          const docLink = document.createElement('div');\n",
              "          docLink.innerHTML = docLinkHtml;\n",
              "          element.appendChild(docLink);\n",
              "        }\n",
              "      </script>\n",
              "    </div>\n",
              "  </div>\n",
              "  "
            ]
          },
          "metadata": {},
          "execution_count": 37
        }
      ]
    },
    {
      "cell_type": "code",
      "source": [
        "X = df['message']\n",
        "y = df['label']\n"
      ],
      "metadata": {
        "id": "xHYsW8E_QEqP"
      },
      "id": "xHYsW8E_QEqP",
      "execution_count": 20,
      "outputs": []
    },
    {
      "cell_type": "code",
      "source": [
        "df.dtypes"
      ],
      "metadata": {
        "colab": {
          "base_uri": "https://localhost:8080/"
        },
        "id": "Ze0apJVuNs69",
        "outputId": "1facfdb0-c008-4567-edd2-9e6c5c7caad9"
      },
      "id": "Ze0apJVuNs69",
      "execution_count": 12,
      "outputs": [
        {
          "output_type": "execute_result",
          "data": {
            "text/plain": [
              "id          int64\n",
              "message    object\n",
              "label      object\n",
              "dtype: object"
            ]
          },
          "metadata": {},
          "execution_count": 12
        }
      ]
    },
    {
      "cell_type": "code",
      "source": [
        "from sklearn.preprocessing import LabelEncoder\n",
        "def label_encoder(data):\n",
        "    class_le = LabelEncoder()    \n",
        "    h = class_le.fit_transform(df['label'].astype(str))\n",
        "    return h"
      ],
      "metadata": {
        "id": "u016kmeaNgdI"
      },
      "id": "u016kmeaNgdI",
      "execution_count": 6,
      "outputs": []
    },
    {
      "cell_type": "code",
      "source": [
        "class_le = LabelEncoder() "
      ],
      "metadata": {
        "id": "lIm-TBwSNgfG"
      },
      "id": "lIm-TBwSNgfG",
      "execution_count": 7,
      "outputs": []
    },
    {
      "cell_type": "code",
      "source": [
        "y = class_le.fit_transform(df['label'].astype(str))\n"
      ],
      "metadata": {
        "id": "HMIQEt1u__IK"
      },
      "id": "HMIQEt1u__IK",
      "execution_count": 37,
      "outputs": []
    },
    {
      "cell_type": "code",
      "source": [
        "y"
      ],
      "metadata": {
        "colab": {
          "base_uri": "https://localhost:8080/"
        },
        "id": "huJEAgj3-bt-",
        "outputId": "a2ba2568-d10c-4bfe-eb5b-49267d86321f"
      },
      "id": "huJEAgj3-bt-",
      "execution_count": 38,
      "outputs": [
        {
          "output_type": "execute_result",
          "data": {
            "text/plain": [
              "array([34, 20,  0, ..., 30,  2, 33])"
            ]
          },
          "metadata": {},
          "execution_count": 38
        }
      ]
    },
    {
      "cell_type": "code",
      "source": [
        "pip install tqdm"
      ],
      "metadata": {
        "colab": {
          "base_uri": "https://localhost:8080/"
        },
        "id": "hCKHTxNTOXfK",
        "outputId": "6b29e188-91dd-450f-e66b-12c9ad21c55d"
      },
      "id": "hCKHTxNTOXfK",
      "execution_count": 9,
      "outputs": [
        {
          "output_type": "stream",
          "name": "stdout",
          "text": [
            "Requirement already satisfied: tqdm in /usr/local/lib/python3.7/dist-packages (4.63.0)\n"
          ]
        }
      ]
    },
    {
      "cell_type": "code",
      "source": [
        "import nltk\n",
        "nltk.download('stopwords')"
      ],
      "metadata": {
        "colab": {
          "base_uri": "https://localhost:8080/"
        },
        "id": "-1vjbcV2P06w",
        "outputId": "82a1afca-6de1-496d-cb5c-a74ca6d1b53a"
      },
      "id": "-1vjbcV2P06w",
      "execution_count": 10,
      "outputs": [
        {
          "output_type": "stream",
          "name": "stdout",
          "text": [
            "[nltk_data] Downloading package stopwords to /root/nltk_data...\n",
            "[nltk_data]   Package stopwords is already up-to-date!\n"
          ]
        },
        {
          "output_type": "execute_result",
          "data": {
            "text/plain": [
              "True"
            ]
          },
          "metadata": {},
          "execution_count": 10
        }
      ]
    },
    {
      "cell_type": "code",
      "source": [
        "import nltk\n",
        "nltk.download('wordnet')"
      ],
      "metadata": {
        "colab": {
          "base_uri": "https://localhost:8080/"
        },
        "id": "Z9B3gq-5P2f6",
        "outputId": "fc8427d0-362a-4268-c3b6-b2b16c31121b"
      },
      "id": "Z9B3gq-5P2f6",
      "execution_count": 11,
      "outputs": [
        {
          "output_type": "stream",
          "name": "stdout",
          "text": [
            "[nltk_data] Downloading package wordnet to /root/nltk_data...\n",
            "[nltk_data]   Package wordnet is already up-to-date!\n"
          ]
        },
        {
          "output_type": "execute_result",
          "data": {
            "text/plain": [
              "True"
            ]
          },
          "metadata": {},
          "execution_count": 11
        }
      ]
    },
    {
      "cell_type": "code",
      "source": [
        "# importing the library needed in this section\n",
        "from nltk.stem import WordNetLemmatizer\n",
        "\n",
        "# instantiating the lemmaztizer object\n",
        "lemmatizer = WordNetLemmatizer()\n",
        "\n",
        "# lemmatizing each word through a list comprehension\n",
        "X = [lemmatizer.lemmatize(token) for token in df['message']]"
      ],
      "metadata": {
        "id": "IktRkgUra0YI"
      },
      "id": "IktRkgUra0YI",
      "execution_count": 12,
      "outputs": []
    },
    {
      "cell_type": "code",
      "source": [
        "import re\n",
        "import nltk\n",
        "from nltk.corpus import stopwords\n"
      ],
      "metadata": {
        "id": "S83_MBjiiL7a"
      },
      "id": "S83_MBjiiL7a",
      "execution_count": 13,
      "outputs": []
    },
    {
      "cell_type": "code",
      "source": [
        "nltk.download('stopwords')\n",
        "stop_words = stopwords.words('english')\n",
        "df['message'] = df['message'].apply(lambda x: ' '.join([word for word in x.split() if word not in (stop_words)]))"
      ],
      "metadata": {
        "colab": {
          "base_uri": "https://localhost:8080/"
        },
        "id": "_tOVzNMK67r2",
        "outputId": "b83da5c3-1cc6-4135-d4ea-2f0f735e616e"
      },
      "id": "_tOVzNMK67r2",
      "execution_count": 14,
      "outputs": [
        {
          "output_type": "stream",
          "name": "stdout",
          "text": [
            "[nltk_data] Downloading package stopwords to /root/nltk_data...\n",
            "[nltk_data]   Package stopwords is already up-to-date!\n"
          ]
        }
      ]
    },
    {
      "cell_type": "code",
      "source": [
        "y"
      ],
      "metadata": {
        "colab": {
          "base_uri": "https://localhost:8080/"
        },
        "id": "qDU-8J5QNJwZ",
        "outputId": "ecff32d2-f980-450c-aa8f-a6d7a73aec27"
      },
      "id": "qDU-8J5QNJwZ",
      "execution_count": 23,
      "outputs": [
        {
          "output_type": "execute_result",
          "data": {
            "text/plain": [
              "0               updateaddress\n",
              "1            orderdrinkintent\n",
              "2                  bookflight\n",
              "3               expensereport\n",
              "4         getproofofinsurance\n",
              "                 ...         \n",
              "11618         getboardingpass\n",
              "11619              bookflight\n",
              "11620              startorder\n",
              "11621    changeseatassignment\n",
              "11622           transfermoney\n",
              "Name: label, Length: 11623, dtype: object"
            ]
          },
          "metadata": {},
          "execution_count": 23
        }
      ]
    },
    {
      "cell_type": "code",
      "execution_count": 26,
      "id": "c30dc3ba",
      "metadata": {
        "id": "c30dc3ba"
      },
      "outputs": [],
      "source": [
        "X_train, X_val, y_train, y_val = train_test_split(X, y, test_size=0.2, random_state=42)\n",
        "\n",
        "# print(X_train.shape)\n",
        "# print(y_train.shape)\n",
        "# print(X_val.shape)\n",
        "# print(y_val.shape)\n"
      ]
    },
    {
      "cell_type": "code",
      "source": [
        "#pred_test = h.inverse_transform(pred_test)\n",
        "\n",
        "my_submission = pd.DataFrame({'Id': df_test['id'], 'label': pred_test})\n",
        "print(my_submission.head())\n",
        "\n",
        "# NOTE: after saving the CSV file, be sure to zip the file before submitting to the competition website!\n",
        "my_submission.to_csv('answers_Lemma.csv', index=False)"
      ],
      "metadata": {
        "colab": {
          "base_uri": "https://localhost:8080/"
        },
        "id": "KD-uYZZ9U0yi",
        "outputId": "7e80e98f-7d3c-4503-cfbf-5e1238a9007c"
      },
      "id": "KD-uYZZ9U0yi",
      "execution_count": 42,
      "outputs": [
        {
          "output_type": "stream",
          "name": "stdout",
          "text": [
            "      Id                 label\n",
            "0  12123  reportbrokensoftware\n",
            "1    244      orderpizzaintent\n",
            "2   8221           replacecard\n",
            "3  12856    startserviceintent\n",
            "4  12108         expensereport\n"
          ]
        }
      ]
    },
    {
      "cell_type": "code",
      "execution_count": null,
      "id": "ab07e8ff",
      "metadata": {
        "id": "ab07e8ff"
      },
      "outputs": [],
      "source": [
        "pred_test"
      ]
    },
    {
      "cell_type": "code",
      "source": [
        ""
      ],
      "metadata": {
        "id": "Koih0EFIVjVN"
      },
      "id": "Koih0EFIVjVN",
      "execution_count": null,
      "outputs": []
    },
    {
      "cell_type": "code",
      "execution_count": null,
      "id": "ab7ae3be",
      "metadata": {
        "id": "ab7ae3be"
      },
      "outputs": [],
      "source": [
        "pred_test_reverse = class_le.inverse_transform(pred_test)"
      ]
    },
    {
      "cell_type": "code",
      "source": [
        "#Import the ST Classification Model and Data Wrangling Packages\n",
        "from simpletransformers.classification import ClassificationModel\n",
        "import pandas as pd\n",
        "import logging\n",
        "import sklearn"
      ],
      "metadata": {
        "id": "Q5i7E8NjWGzo"
      },
      "id": "Q5i7E8NjWGzo",
      "execution_count": 16,
      "outputs": []
    },
    {
      "cell_type": "code",
      "source": [
        "#Set and create the classification model we want to use\n",
        "model = ClassificationModel('roberta', 'roberta-base', num_labels=37,use_cuda=True, args={'learning_rate':1e-5, 'num_train_epochs': 2, 'reprocess_input_data': True, 'overwrite_output_dir': True})"
      ],
      "metadata": {
        "colab": {
          "base_uri": "https://localhost:8080/"
        },
        "id": "ZXOfXnceWG2C",
        "outputId": "aabe8351-1edc-48c0-ad6e-38d6c14ff881"
      },
      "id": "ZXOfXnceWG2C",
      "execution_count": 44,
      "outputs": [
        {
          "output_type": "stream",
          "name": "stderr",
          "text": [
            "Some weights of the model checkpoint at roberta-base were not used when initializing RobertaForSequenceClassification: ['lm_head.bias', 'roberta.pooler.dense.weight', 'lm_head.dense.bias', 'lm_head.decoder.weight', 'lm_head.layer_norm.bias', 'roberta.pooler.dense.bias', 'lm_head.layer_norm.weight', 'lm_head.dense.weight']\n",
            "- This IS expected if you are initializing RobertaForSequenceClassification from the checkpoint of a model trained on another task or with another architecture (e.g. initializing a BertForSequenceClassification model from a BertForPreTraining model).\n",
            "- This IS NOT expected if you are initializing RobertaForSequenceClassification from the checkpoint of a model that you expect to be exactly identical (initializing a BertForSequenceClassification model from a BertForSequenceClassification model).\n",
            "Some weights of RobertaForSequenceClassification were not initialized from the model checkpoint at roberta-base and are newly initialized: ['classifier.dense.bias', 'classifier.out_proj.weight', 'classifier.dense.weight', 'classifier.out_proj.bias']\n",
            "You should probably TRAIN this model on a down-stream task to be able to use it for predictions and inference.\n"
          ]
        }
      ]
    },
    {
      "cell_type": "code",
      "source": [
        "#Set and create the classification model we want to use\n",
        "model = ClassificationModel('bert', 'bert-base-cased', num_labels=37,use_cuda=True, args={'learning_rate':1e-5, 'num_train_epochs': 2, 'reprocess_input_data': True, 'overwrite_output_dir': True})"
      ],
      "metadata": {
        "colab": {
          "base_uri": "https://localhost:8080/"
        },
        "id": "kvTnWc5pME1n",
        "outputId": "e8cb6900-33b1-4776-a45b-0c959ec11f21"
      },
      "id": "kvTnWc5pME1n",
      "execution_count": 59,
      "outputs": [
        {
          "output_type": "stream",
          "name": "stderr",
          "text": [
            "Some weights of the model checkpoint at bert-base-cased were not used when initializing BertForSequenceClassification: ['cls.predictions.transform.LayerNorm.bias', 'cls.predictions.transform.dense.weight', 'cls.predictions.decoder.weight', 'cls.predictions.bias', 'cls.seq_relationship.weight', 'cls.predictions.transform.dense.bias', 'cls.predictions.transform.LayerNorm.weight', 'cls.seq_relationship.bias']\n",
            "- This IS expected if you are initializing BertForSequenceClassification from the checkpoint of a model trained on another task or with another architecture (e.g. initializing a BertForSequenceClassification model from a BertForPreTraining model).\n",
            "- This IS NOT expected if you are initializing BertForSequenceClassification from the checkpoint of a model that you expect to be exactly identical (initializing a BertForSequenceClassification model from a BertForSequenceClassification model).\n",
            "Some weights of BertForSequenceClassification were not initialized from the model checkpoint at bert-base-cased and are newly initialized: ['classifier.weight', 'classifier.bias']\n",
            "You should probably TRAIN this model on a down-stream task to be able to use it for predictions and inference.\n"
          ]
        }
      ]
    },
    {
      "cell_type": "code",
      "source": [
        "# from simpletransformers.classification import ClassificationModel\n",
        "\n",
        "\n",
        "# model_args = {\n",
        "#     \"num_train_epochs\": 5,\n",
        "#     \"learning_rate\": 1e-4,\n",
        "# }\n",
        "\n",
        "# model = ClassificationModel(\"bert\", \"bert-base-cased\", args=model_args)"
      ],
      "metadata": {
        "id": "z4B5wIRT_poZ"
      },
      "id": "z4B5wIRT_poZ",
      "execution_count": null,
      "outputs": []
    },
    {
      "cell_type": "code",
      "source": [
        "y"
      ],
      "metadata": {
        "id": "iEIbHf5-WNb7"
      },
      "id": "iEIbHf5-WNb7",
      "execution_count": null,
      "outputs": []
    },
    {
      "cell_type": "code",
      "source": [
        "d = {'message':X,'label':y}"
      ],
      "metadata": {
        "id": "8QJX3JPoWG4W"
      },
      "id": "8QJX3JPoWG4W",
      "execution_count": 27,
      "outputs": []
    },
    {
      "cell_type": "code",
      "source": [
        "df_mock = pd.DataFrame(d)"
      ],
      "metadata": {
        "id": "vpfvDg7aWG6J"
      },
      "id": "vpfvDg7aWG6J",
      "execution_count": 28,
      "outputs": []
    },
    {
      "cell_type": "code",
      "source": [
        "df_mock"
      ],
      "metadata": {
        "colab": {
          "base_uri": "https://localhost:8080/",
          "height": 423
        },
        "id": "JSHHAxq_VjXy",
        "outputId": "2e1985dd-4be3-4dba-ba2b-f2873613bd4b"
      },
      "id": "JSHHAxq_VjXy",
      "execution_count": 29,
      "outputs": [
        {
          "output_type": "execute_result",
          "data": {
            "text/plain": [
              "                                                 message  label\n",
              "0                     hi want change address credit card     34\n",
              "1      need 4 fruit maple oatmeal 3 cold brew frozen ...     20\n",
              "2                 wish travel next month domestic airway      0\n",
              "3                            need reimbursement expenses      9\n",
              "4                                need copy insurance car     13\n",
              "...                                                  ...    ...\n",
              "11618      boarding pass sent email address phone number     10\n",
              "11619                                 need ticker bombay      0\n",
              "11620                             want musical equipment     30\n",
              "11621                                   need window seat      2\n",
              "11622                      please money transfer account     33\n",
              "\n",
              "[11623 rows x 2 columns]"
            ],
            "text/html": [
              "\n",
              "  <div id=\"df-a772f6d4-e832-4a1b-a45d-6ae642dfc9ae\">\n",
              "    <div class=\"colab-df-container\">\n",
              "      <div>\n",
              "<style scoped>\n",
              "    .dataframe tbody tr th:only-of-type {\n",
              "        vertical-align: middle;\n",
              "    }\n",
              "\n",
              "    .dataframe tbody tr th {\n",
              "        vertical-align: top;\n",
              "    }\n",
              "\n",
              "    .dataframe thead th {\n",
              "        text-align: right;\n",
              "    }\n",
              "</style>\n",
              "<table border=\"1\" class=\"dataframe\">\n",
              "  <thead>\n",
              "    <tr style=\"text-align: right;\">\n",
              "      <th></th>\n",
              "      <th>message</th>\n",
              "      <th>label</th>\n",
              "    </tr>\n",
              "  </thead>\n",
              "  <tbody>\n",
              "    <tr>\n",
              "      <th>0</th>\n",
              "      <td>hi want change address credit card</td>\n",
              "      <td>34</td>\n",
              "    </tr>\n",
              "    <tr>\n",
              "      <th>1</th>\n",
              "      <td>need 4 fruit maple oatmeal 3 cold brew frozen ...</td>\n",
              "      <td>20</td>\n",
              "    </tr>\n",
              "    <tr>\n",
              "      <th>2</th>\n",
              "      <td>wish travel next month domestic airway</td>\n",
              "      <td>0</td>\n",
              "    </tr>\n",
              "    <tr>\n",
              "      <th>3</th>\n",
              "      <td>need reimbursement expenses</td>\n",
              "      <td>9</td>\n",
              "    </tr>\n",
              "    <tr>\n",
              "      <th>4</th>\n",
              "      <td>need copy insurance car</td>\n",
              "      <td>13</td>\n",
              "    </tr>\n",
              "    <tr>\n",
              "      <th>...</th>\n",
              "      <td>...</td>\n",
              "      <td>...</td>\n",
              "    </tr>\n",
              "    <tr>\n",
              "      <th>11618</th>\n",
              "      <td>boarding pass sent email address phone number</td>\n",
              "      <td>10</td>\n",
              "    </tr>\n",
              "    <tr>\n",
              "      <th>11619</th>\n",
              "      <td>need ticker bombay</td>\n",
              "      <td>0</td>\n",
              "    </tr>\n",
              "    <tr>\n",
              "      <th>11620</th>\n",
              "      <td>want musical equipment</td>\n",
              "      <td>30</td>\n",
              "    </tr>\n",
              "    <tr>\n",
              "      <th>11621</th>\n",
              "      <td>need window seat</td>\n",
              "      <td>2</td>\n",
              "    </tr>\n",
              "    <tr>\n",
              "      <th>11622</th>\n",
              "      <td>please money transfer account</td>\n",
              "      <td>33</td>\n",
              "    </tr>\n",
              "  </tbody>\n",
              "</table>\n",
              "<p>11623 rows × 2 columns</p>\n",
              "</div>\n",
              "      <button class=\"colab-df-convert\" onclick=\"convertToInteractive('df-a772f6d4-e832-4a1b-a45d-6ae642dfc9ae')\"\n",
              "              title=\"Convert this dataframe to an interactive table.\"\n",
              "              style=\"display:none;\">\n",
              "        \n",
              "  <svg xmlns=\"http://www.w3.org/2000/svg\" height=\"24px\"viewBox=\"0 0 24 24\"\n",
              "       width=\"24px\">\n",
              "    <path d=\"M0 0h24v24H0V0z\" fill=\"none\"/>\n",
              "    <path d=\"M18.56 5.44l.94 2.06.94-2.06 2.06-.94-2.06-.94-.94-2.06-.94 2.06-2.06.94zm-11 1L8.5 8.5l.94-2.06 2.06-.94-2.06-.94L8.5 2.5l-.94 2.06-2.06.94zm10 10l.94 2.06.94-2.06 2.06-.94-2.06-.94-.94-2.06-.94 2.06-2.06.94z\"/><path d=\"M17.41 7.96l-1.37-1.37c-.4-.4-.92-.59-1.43-.59-.52 0-1.04.2-1.43.59L10.3 9.45l-7.72 7.72c-.78.78-.78 2.05 0 2.83L4 21.41c.39.39.9.59 1.41.59.51 0 1.02-.2 1.41-.59l7.78-7.78 2.81-2.81c.8-.78.8-2.07 0-2.86zM5.41 20L4 18.59l7.72-7.72 1.47 1.35L5.41 20z\"/>\n",
              "  </svg>\n",
              "      </button>\n",
              "      \n",
              "  <style>\n",
              "    .colab-df-container {\n",
              "      display:flex;\n",
              "      flex-wrap:wrap;\n",
              "      gap: 12px;\n",
              "    }\n",
              "\n",
              "    .colab-df-convert {\n",
              "      background-color: #E8F0FE;\n",
              "      border: none;\n",
              "      border-radius: 50%;\n",
              "      cursor: pointer;\n",
              "      display: none;\n",
              "      fill: #1967D2;\n",
              "      height: 32px;\n",
              "      padding: 0 0 0 0;\n",
              "      width: 32px;\n",
              "    }\n",
              "\n",
              "    .colab-df-convert:hover {\n",
              "      background-color: #E2EBFA;\n",
              "      box-shadow: 0px 1px 2px rgba(60, 64, 67, 0.3), 0px 1px 3px 1px rgba(60, 64, 67, 0.15);\n",
              "      fill: #174EA6;\n",
              "    }\n",
              "\n",
              "    [theme=dark] .colab-df-convert {\n",
              "      background-color: #3B4455;\n",
              "      fill: #D2E3FC;\n",
              "    }\n",
              "\n",
              "    [theme=dark] .colab-df-convert:hover {\n",
              "      background-color: #434B5C;\n",
              "      box-shadow: 0px 1px 3px 1px rgba(0, 0, 0, 0.15);\n",
              "      filter: drop-shadow(0px 1px 2px rgba(0, 0, 0, 0.3));\n",
              "      fill: #FFFFFF;\n",
              "    }\n",
              "  </style>\n",
              "\n",
              "      <script>\n",
              "        const buttonEl =\n",
              "          document.querySelector('#df-a772f6d4-e832-4a1b-a45d-6ae642dfc9ae button.colab-df-convert');\n",
              "        buttonEl.style.display =\n",
              "          google.colab.kernel.accessAllowed ? 'block' : 'none';\n",
              "\n",
              "        async function convertToInteractive(key) {\n",
              "          const element = document.querySelector('#df-a772f6d4-e832-4a1b-a45d-6ae642dfc9ae');\n",
              "          const dataTable =\n",
              "            await google.colab.kernel.invokeFunction('convertToInteractive',\n",
              "                                                     [key], {});\n",
              "          if (!dataTable) return;\n",
              "\n",
              "          const docLinkHtml = 'Like what you see? Visit the ' +\n",
              "            '<a target=\"_blank\" href=https://colab.research.google.com/notebooks/data_table.ipynb>data table notebook</a>'\n",
              "            + ' to learn more about interactive tables.';\n",
              "          element.innerHTML = '';\n",
              "          dataTable['output_type'] = 'display_data';\n",
              "          await google.colab.output.renderOutput(dataTable, element);\n",
              "          const docLink = document.createElement('div');\n",
              "          docLink.innerHTML = docLinkHtml;\n",
              "          element.appendChild(docLink);\n",
              "        }\n",
              "      </script>\n",
              "    </div>\n",
              "  </div>\n",
              "  "
            ]
          },
          "metadata": {},
          "execution_count": 29
        }
      ]
    },
    {
      "cell_type": "code",
      "source": [
        "df_mock['label'].nunique()"
      ],
      "metadata": {
        "colab": {
          "base_uri": "https://localhost:8080/"
        },
        "id": "yAA3jZuvXy0M",
        "outputId": "23882963-3867-4348-9386-caab3bec3406"
      },
      "id": "yAA3jZuvXy0M",
      "execution_count": 30,
      "outputs": [
        {
          "output_type": "execute_result",
          "data": {
            "text/plain": [
              "37"
            ]
          },
          "metadata": {},
          "execution_count": 30
        }
      ]
    },
    {
      "cell_type": "code",
      "source": [
        "#Train the classification model using training data\n",
        "model.train_model(df_mock)"
      ],
      "metadata": {
        "colab": {
          "base_uri": "https://localhost:8080/",
          "height": 113,
          "referenced_widgets": [
            "af4332df46e04d37b035b2d4f1d4e60b",
            "cc2611e1b87a47eab32fdf7d50dd2fe9",
            "447f681b4ecc47c9af80e7e1e107e59e",
            "3c25ffdb8482455ab7203ee7f1c0ab55",
            "e154d6a4d3234686a3194fe40a306b03",
            "35a976b37f47462e88dbd370b50122f2",
            "771d303a198a417dbed4362471d37f14",
            "0db13f9c80ef4ff88a0da306b5b2229e",
            "36c992acbcf7490998feff79693446ca",
            "3a8a7b7d4c3b4be99a4ac229052c8c61",
            "4dada8858b17482983c930637d996762",
            "e026d06b034041bbb848c039e93f03d4",
            "e9cbbbade54f4796b76a18592b00069a",
            "a7f37a934b094a448c24205c4e4b93ae",
            "52b06c23b40c466fa90a14f9c7c6ec84",
            "1632b70201ca43bcb463dbd1f1e7db69",
            "4ae0d25dbb334e009175ab0fe1f91da5",
            "e86da64473514828ad0bc684ecbc3777",
            "6352692c7d3442b4bec29e55263adcda",
            "26e0e5f2436d4a0cbdf3b624b0250ac9",
            "00ea9d258b084ce6aaab4e55a2f48037",
            "8585f582d2414ea9bfe9467709c56262",
            "a1331b6e563f420cb697c119162a9007",
            "9f9e9efc638e40b5bd9e84d6faa78487",
            "5af3de7bdd564fcd8a0725903c1ce067",
            "9bcca8bab69b4c6b8579b3943bad7f2d",
            "ec2c21b25cd9444fb4861ea6aa70d612",
            "c7427e1455334f7d8d46ecc4be11b224",
            "9c20d892cf7941c4a2a54b6789a7efc0",
            "17d07d1d4d264271b6f14be1212e5f34",
            "cba01f19ba1843c691f2bcdb7ab2c1f8",
            "a9d48637837b416c823c404624142188",
            "dd7721a935bc4cab93ccde65d2734efe"
          ]
        },
        "id": "2x13wKyxVjZ4",
        "outputId": "9f77a18c-d0fa-4cef-df49-ed0623a34a6f"
      },
      "id": "2x13wKyxVjZ4",
      "execution_count": null,
      "outputs": [
        {
          "output_type": "display_data",
          "data": {
            "text/plain": [
              "  0%|          | 0/11623 [00:00<?, ?it/s]"
            ],
            "application/vnd.jupyter.widget-view+json": {
              "version_major": 2,
              "version_minor": 0,
              "model_id": "af4332df46e04d37b035b2d4f1d4e60b"
            }
          },
          "metadata": {}
        },
        {
          "output_type": "display_data",
          "data": {
            "text/plain": [
              "Epoch:   0%|          | 0/2 [00:00<?, ?it/s]"
            ],
            "application/vnd.jupyter.widget-view+json": {
              "version_major": 2,
              "version_minor": 0,
              "model_id": "e026d06b034041bbb848c039e93f03d4"
            }
          },
          "metadata": {}
        },
        {
          "output_type": "display_data",
          "data": {
            "text/plain": [
              "Running Epoch 0 of 2:   0%|          | 0/1453 [00:00<?, ?it/s]"
            ],
            "application/vnd.jupyter.widget-view+json": {
              "version_major": 2,
              "version_minor": 0,
              "model_id": "a1331b6e563f420cb697c119162a9007"
            }
          },
          "metadata": {}
        }
      ]
    },
    {
      "cell_type": "code",
      "source": [
        "#Evaluate the model\n",
        "result, model_outputs, wrong_predictions = model.eval_model(df_mock)"
      ],
      "metadata": {
        "id": "GfXgDTz6YZG4"
      },
      "id": "GfXgDTz6YZG4",
      "execution_count": null,
      "outputs": []
    },
    {
      "cell_type": "code",
      "source": [
        "df_test"
      ],
      "metadata": {
        "id": "oNrW5a_jaOX-"
      },
      "id": "oNrW5a_jaOX-",
      "execution_count": null,
      "outputs": []
    },
    {
      "cell_type": "code",
      "source": [
        "test_clean = df_test['message'].values.tolist()"
      ],
      "metadata": {
        "id": "pcYc8fjianEH"
      },
      "id": "pcYc8fjianEH",
      "execution_count": null,
      "outputs": []
    },
    {
      "cell_type": "code",
      "source": [
        "#Run the model on test data\n",
        "predictions, raw_outputs = model.predict(test_clean)"
      ],
      "metadata": {
        "id": "FyUyIIY7VjcI"
      },
      "id": "FyUyIIY7VjcI",
      "execution_count": null,
      "outputs": []
    },
    {
      "cell_type": "code",
      "execution_count": null,
      "metadata": {
        "id": "klHAwqmPdK1Z"
      },
      "outputs": [],
      "source": [
        "predictions = class_le.inverse_transform(predictions)"
      ],
      "id": "klHAwqmPdK1Z"
    },
    {
      "cell_type": "code",
      "source": [
        "my_submission = pd.DataFrame({'id': df_test.id, 'predicted': predictions})"
      ],
      "metadata": {
        "id": "zz3cyjZRdN2e"
      },
      "id": "zz3cyjZRdN2e",
      "execution_count": null,
      "outputs": []
    },
    {
      "cell_type": "code",
      "source": [
        "wrong_predictions"
      ],
      "metadata": {
        "colab": {
          "base_uri": "https://localhost:8080/"
        },
        "id": "w8Z2s5pIaVX2",
        "outputId": "6499e397-fc36-48ff-90cd-03d0a8d74491"
      },
      "id": "w8Z2s5pIaVX2",
      "execution_count": 54,
      "outputs": [
        {
          "output_type": "execute_result",
          "data": {
            "text/plain": [
              "[{'guid': 70, 'text_a': 'would like get details seat assignment', 'text_b': None, 'label': 2},\n",
              " {'guid': 74, 'text_a': 'already booked ticket change seat', 'text_b': None, 'label': 0},\n",
              " {'guid': 143, 'text_a': 'want update expenses', 'text_b': None, 'label': 29},\n",
              " {'guid': 288, 'text_a': 'classic caesar 2', 'text_b': None, 'label': 19},\n",
              " {'guid': 424, 'text_a': 'need 5 gb plan', 'text_b': None, 'label': 35},\n",
              " {'guid': 445, 'text_a': 'want check seat assignment', 'text_b': None, 'label': 15},\n",
              " {'guid': 472, 'text_a': 'like order 3 meat eater 1 art lover please', 'text_b': None, 'label': 17},\n",
              " {'guid': 479, 'text_a': 'need purchase extra gb internet', 'text_b': None, 'label': 35},\n",
              " {'guid': 543, 'text_a': 'want check seat', 'text_b': None, 'label': 15},\n",
              " {'guid': 581, 'text_a': 'want check seat assignment', 'text_b': None, 'label': 15},\n",
              " {'guid': 596, 'text_a': 'set new recurring orders', 'text_b': None, 'label': 1},\n",
              " {'guid': 623, 'text_a': 'want tea sea salt cookies', 'text_b': None, 'label': 19},\n",
              " {'guid': 641, 'text_a': 'need know seat assignment', 'text_b': None, 'label': 15},\n",
              " {'guid': 676, 'text_a': 'kindly block provide new one', 'text_b': None, 'label': 25},\n",
              " {'guid': 835, 'text_a': 'need 2 meat eater', 'text_b': None, 'label': 17},\n",
              " {'guid': 839, 'text_a': 'check seat assignment', 'text_b': None, 'label': 15},\n",
              " {'guid': 948, 'text_a': 'want know seatno', 'text_b': None, 'label': 2},\n",
              " {'guid': 974, 'text_a': 'hi want know seat assignment', 'text_b': None, 'label': 15},\n",
              " {'guid': 1007, 'text_a': 'like order 2 bacon smokehouse buttermilk crispy chicken sandwich', 'text_b': None, 'label': 16},\n",
              " {'guid': 1064, 'text_a': 'add 1 sea salt cookie', 'text_b': None, 'label': 23},\n",
              " {'guid': 1170, 'text_a': 'need seat assignment', 'text_b': None, 'label': 15},\n",
              " {'guid': 1184, 'text_a': 'check seat assignment', 'text_b': None, 'label': 15},\n",
              " {'guid': 1215, 'text_a': 'wants book ticket change seat', 'text_b': None, 'label': 0},\n",
              " {'guid': 1246, 'text_a': 'want know seat', 'text_b': None, 'label': 2},\n",
              " {'guid': 1252, 'text_a': 'need 3 sea salt cookies', 'text_b': None, 'label': 23},\n",
              " {'guid': 1322, 'text_a': 'please confirm seat assignment', 'text_b': None, 'label': 15},\n",
              " {'guid': 1547, 'text_a': 'want order food items', 'text_b': None, 'label': 17},\n",
              " {'guid': 1611, 'text_a': 'want know seat', 'text_b': None, 'label': 2},\n",
              " {'guid': 1741, 'text_a': 'kindly block provide new one', 'text_b': None, 'label': 25},\n",
              " {'guid': 1769, 'text_a': 'want check seat', 'text_b': None, 'label': 15},\n",
              " {'guid': 1902, 'text_a': 'want know seat assignment', 'text_b': None, 'label': 15},\n",
              " {'guid': 1903, 'text_a': 'want know seat', 'text_b': None, 'label': 2},\n",
              " {'guid': 1926, 'text_a': 'problem credit card bill help one', 'text_b': None, 'label': 25},\n",
              " {'guid': 2054, 'text_a': 'check seat assignment', 'text_b': None, 'label': 15},\n",
              " {'guid': 2091, 'text_a': 'car damage please clim insurence', 'text_b': None, 'label': 4},\n",
              " {'guid': 2173, 'text_a': 'high plan update future', 'text_b': None, 'label': 35},\n",
              " {'guid': 2230, 'text_a': 'need check seat', 'text_b': None, 'label': 15},\n",
              " {'guid': 2290, 'text_a': 'check seat', 'text_b': None, 'label': 2},\n",
              " {'guid': 2393, 'text_a': 'anyway could switched window aisle seat', 'text_b': None, 'label': 15},\n",
              " {'guid': 2409, 'text_a': 'want know seat number', 'text_b': None, 'label': 2},\n",
              " {'guid': 2485, 'text_a': 'want know seat', 'text_b': None, 'label': 2},\n",
              " {'guid': 2487, 'text_a': 'need reimbursed flights hotels food etc', 'text_b': None, 'label': 30},\n",
              " {'guid': 2553, 'text_a': 'want update expenses please help', 'text_b': None, 'label': 29},\n",
              " {'guid': 2602, 'text_a': 'check seat', 'text_b': None, 'label': 2},\n",
              " {'guid': 2803, 'text_a': 'want check seat', 'text_b': None, 'label': 15},\n",
              " {'guid': 2810, 'text_a': 'want update expenses', 'text_b': None, 'label': 30},\n",
              " {'guid': 2880, 'text_a': 'need know seat assignment', 'text_b': None, 'label': 15},\n",
              " {'guid': 3014, 'text_a': 'want know seat', 'text_b': None, 'label': 2},\n",
              " {'guid': 3217, 'text_a': 'need two red vine', 'text_b': None, 'label': 20},\n",
              " {'guid': 3226, 'text_a': 'need 1 meat eater', 'text_b': None, 'label': 23},\n",
              " {'guid': 3227, 'text_a': 'want know seat', 'text_b': None, 'label': 2},\n",
              " {'guid': 3231, 'text_a': 'want know sent', 'text_b': None, 'label': 2},\n",
              " {'guid': 3244, 'text_a': 'need know seat assignment', 'text_b': None, 'label': 15},\n",
              " {'guid': 3328, 'text_a': 'set new recurring orders', 'text_b': None, 'label': 1},\n",
              " {'guid': 3346, 'text_a': 'want know seat', 'text_b': None, 'label': 2},\n",
              " {'guid': 3380, 'text_a': 'want know seat', 'text_b': None, 'label': 2},\n",
              " {'guid': 3420, 'text_a': 'want know seat', 'text_b': None, 'label': 2},\n",
              " {'guid': 3443, 'text_a': 'need travel ticket reimbursement', 'text_b': None, 'label': 24},\n",
              " {'guid': 3527, 'text_a': 'want claim travel expensive amount 500', 'text_b': None, 'label': 30},\n",
              " {'guid': 3597, 'text_a': 'check seat', 'text_b': None, 'label': 2},\n",
              " {'guid': 3607, 'text_a': 'one sea salt cookie', 'text_b': None, 'label': 23},\n",
              " {'guid': 3657, 'text_a': 'would also like sea salt cookie', 'text_b': None, 'label': 23},\n",
              " {'guid': 3686, 'text_a': 'yes add 1 lemonade 1 classic caesar 1 sea salt cookies along order', 'text_b': None, 'label': 22},\n",
              " {'guid': 3748, 'text_a': 'need 1 bbq chkn', 'text_b': None, 'label': 17},\n",
              " {'guid': 3750, 'text_a': 'need know seat assignment', 'text_b': None, 'label': 15},\n",
              " {'guid': 3853, 'text_a': 'want know seat', 'text_b': None, 'label': 2},\n",
              " {'guid': 3881, 'text_a': 'already book flight ticket sure seat please change seat', 'text_b': None, 'label': 15},\n",
              " {'guid': 3926, 'text_a': 'world famous fries', 'text_b': None, 'label': 16},\n",
              " {'guid': 3999, 'text_a': 'want know seat assignment', 'text_b': None, 'label': 15},\n",
              " {'guid': 4029, 'text_a': 'want know seat', 'text_b': None, 'label': 2},\n",
              " {'guid': 4052, 'text_a': 'want know seat', 'text_b': None, 'label': 2},\n",
              " {'guid': 4069, 'text_a': 'check seat assignment', 'text_b': None, 'label': 15},\n",
              " {'guid': 4216, 'text_a': 'yes 1 sea salt cookie', 'text_b': None, 'label': 16},\n",
              " {'guid': 4303, 'text_a': 'want know sent', 'text_b': None, 'label': 2},\n",
              " {'guid': 4322, 'text_a': 'check seat', 'text_b': None, 'label': 2},\n",
              " {'guid': 4364, 'text_a': 'need know seat assignment', 'text_b': None, 'label': 15},\n",
              " {'guid': 4457, 'text_a': 'like 10 gb plan', 'text_b': None, 'label': 35},\n",
              " {'guid': 4474, 'text_a': 'may know seat assignment', 'text_b': None, 'label': 15},\n",
              " {'guid': 4500, 'text_a': '2 olive oil brownie', 'text_b': None, 'label': 23},\n",
              " {'guid': 4585, 'text_a': 'would like 1 red vine', 'text_b': None, 'label': 20},\n",
              " {'guid': 4620, 'text_a': 'want know seat', 'text_b': None, 'label': 2},\n",
              " {'guid': 4623, 'text_a': 'want know seat assignment', 'text_b': None, 'label': 15},\n",
              " {'guid': 4642, 'text_a': 'need check seat assignment', 'text_b': None, 'label': 15},\n",
              " {'guid': 4652, 'text_a': 'check seat', 'text_b': None, 'label': 2},\n",
              " {'guid': 4663, 'text_a': 'one chocolate shake', 'text_b': None, 'label': 19},\n",
              " {'guid': 4687, 'text_a': 'please check seat', 'text_b': None, 'label': 15},\n",
              " {'guid': 4703, 'text_a': 'check seat assignment', 'text_b': None, 'label': 15},\n",
              " {'guid': 4898, 'text_a': 'good morning spencer would like know seat assigned please', 'text_b': None, 'label': 15},\n",
              " {'guid': 4925, 'text_a': 'need check seat', 'text_b': None, 'label': 15},\n",
              " {'guid': 4968, 'text_a': 'let know seat number', 'text_b': None, 'label': 2},\n",
              " {'guid': 4989, 'text_a': 'set new recurring orders', 'text_b': None, 'label': 1},\n",
              " {'guid': 5074, 'text_a': 'please sent boarding pass email address phone number', 'text_b': None, 'label': 2},\n",
              " {'guid': 5087, 'text_a': 'check seat assignment', 'text_b': None, 'label': 15},\n",
              " {'guid': 5175, 'text_a': 'want know seat', 'text_b': None, 'label': 2},\n",
              " {'guid': 5261, 'text_a': 'hi need know seat assignment', 'text_b': None, 'label': 15},\n",
              " {'guid': 5268, 'text_a': 'need know seat assignment travel', 'text_b': None, 'label': 15},\n",
              " {'guid': 5281, 'text_a': 'check seat assignment', 'text_b': None, 'label': 15},\n",
              " {'guid': 5294, 'text_a': 'please change pack platinum', 'text_b': None, 'label': 35},\n",
              " {'guid': 5301, 'text_a': '3 buttermilk crispy tenders', 'text_b': None, 'label': 19},\n",
              " {'guid': 5307, 'text_a': 'want update expenses', 'text_b': None, 'label': 29},\n",
              " {'guid': 5353, 'text_a': '1 meat eater', 'text_b': None, 'label': 17},\n",
              " {'guid': 5468, 'text_a': 'want update expenses please heip sir', 'text_b': None, 'label': 29},\n",
              " {'guid': 5478, 'text_a': 'check seat', 'text_b': None, 'label': 2},\n",
              " {'guid': 5563, 'text_a': 'want know seat', 'text_b': None, 'label': 2},\n",
              " {'guid': 5595, 'text_a': 'check seat assignment', 'text_b': None, 'label': 15},\n",
              " {'guid': 5606, 'text_a': 'check seat assignment', 'text_b': None, 'label': 15},\n",
              " {'guid': 5639, 'text_a': 'need check seat assignment help', 'text_b': None, 'label': 15},\n",
              " {'guid': 5657, 'text_a': 'need know seat assignment', 'text_b': None, 'label': 15},\n",
              " {'guid': 5741, 'text_a': 'need plane ticket', 'text_b': None, 'label': 10},\n",
              " {'guid': 5752, 'text_a': 'need check seat', 'text_b': None, 'label': 15},\n",
              " {'guid': 5783, 'text_a': 'want new internet service', 'text_b': None, 'label': 35},\n",
              " {'guid': 5790, 'text_a': 'need check seat', 'text_b': None, 'label': 15},\n",
              " {'guid': 5798, 'text_a': 'want know seat', 'text_b': None, 'label': 2},\n",
              " {'guid': 5804, 'text_a': 'want know seat', 'text_b': None, 'label': 2},\n",
              " {'guid': 5867, 'text_a': 'want know insurance claim', 'text_b': None, 'label': 13},\n",
              " {'guid': 5884, 'text_a': 'may know seat assignment status', 'text_b': None, 'label': 15},\n",
              " {'guid': 5987, 'text_a': 'may know seat assignment', 'text_b': None, 'label': 15},\n",
              " {'guid': 5988, 'text_a': 'please help check saet assignment', 'text_b': None, 'label': 15},\n",
              " {'guid': 6037, 'text_a': 'want know seat', 'text_b': None, 'label': 2},\n",
              " {'guid': 6070, 'text_a': '5 sea salt cookie', 'text_b': None, 'label': 20},\n",
              " {'guid': 6117, 'text_a': 'im hoping get seat assignment', 'text_b': None, 'label': 15},\n",
              " {'guid': 6136, 'text_a': 'need credit card bill charge removed', 'text_b': None, 'label': 3},\n",
              " {'guid': 6166, 'text_a': 'one sea salt cookie', 'text_b': None, 'label': 22},\n",
              " {'guid': 6170, 'text_a': 'check seat assignment', 'text_b': None, 'label': 15},\n",
              " {'guid': 6184, 'text_a': 'wand know seat', 'text_b': None, 'label': 2},\n",
              " {'guid': 6237, 'text_a': 'already book ticket change seat', 'text_b': None, 'label': 0},\n",
              " {'guid': 6268, 'text_a': 'quarter pounder cheese', 'text_b': None, 'label': 21},\n",
              " {'guid': 6340, 'text_a': 'want know seat', 'text_b': None, 'label': 2},\n",
              " {'guid': 6521, 'text_a': 'know seat assignment', 'text_b': None, 'label': 15},\n",
              " {'guid': 6567, 'text_a': 'need know seat assignment', 'text_b': None, 'label': 15},\n",
              " {'guid': 6607, 'text_a': 'want know seat', 'text_b': None, 'label': 2},\n",
              " {'guid': 6609, 'text_a': 'want know seat', 'text_b': None, 'label': 2},\n",
              " {'guid': 6677, 'text_a': 'credit card bill shows error', 'text_b': None, 'label': 28},\n",
              " {'guid': 6731, 'text_a': 'need 2 bbq chkn', 'text_b': None, 'label': 17},\n",
              " {'guid': 6751, 'text_a': 'need status claim insurance', 'text_b': None, 'label': 13},\n",
              " {'guid': 6760, 'text_a': 'check seat', 'text_b': None, 'label': 2},\n",
              " {'guid': 6912, 'text_a': 'want update expenses', 'text_b': None, 'label': 29},\n",
              " {'guid': 6927, 'text_a': 'wand know seat', 'text_b': None, 'label': 2},\n",
              " {'guid': 7075, 'text_a': 'check seat assignment', 'text_b': None, 'label': 15},\n",
              " {'guid': 7377, 'text_a': 'hi want report error credit card bill want removed right away', 'text_b': None, 'label': 25},\n",
              " {'guid': 7478, 'text_a': 'need know seat assignment', 'text_b': None, 'label': 15},\n",
              " {'guid': 7504, 'text_a': 'sea salt cookie', 'text_b': None, 'label': 23},\n",
              " {'guid': 7575, 'text_a': 'already booked ticket change seat', 'text_b': None, 'label': 0},\n",
              " {'guid': 7755, 'text_a': 'want know seat', 'text_b': None, 'label': 2},\n",
              " {'guid': 7805, 'text_a': 'want know seat', 'text_b': None, 'label': 2},\n",
              " {'guid': 7880, 'text_a': 'want know seat', 'text_b': None, 'label': 2},\n",
              " {'guid': 7887, 'text_a': 'want know seat', 'text_b': None, 'label': 2},\n",
              " {'guid': 7917, 'text_a': 'like order 1 meat eater please', 'text_b': None, 'label': 21},\n",
              " {'guid': 7949, 'text_a': 'need know seat assignment', 'text_b': None, 'label': 15},\n",
              " {'guid': 7950, 'text_a': 'want know seat', 'text_b': None, 'label': 2},\n",
              " {'guid': 7978, 'text_a': 'want check seating assignment airplane', 'text_b': None, 'label': 15},\n",
              " {'guid': 8009, 'text_a': 'moved new house want sing new data plan', 'text_b': None, 'label': 35},\n",
              " {'guid': 8021, 'text_a': 'application working expected missing periodic software updates checking global status servers', 'text_b': None, 'label': 27},\n",
              " {'guid': 8026, 'text_a': 'already booked ticket changed seat', 'text_b': None, 'label': 15},\n",
              " {'guid': 8094, 'text_a': 'please confirm seat number', 'text_b': None, 'label': 2},\n",
              " {'guid': 8127, 'text_a': 'hi want check seat assignemnt', 'text_b': None, 'label': 15},\n",
              " {'guid': 8140, 'text_a': 'need block card', 'text_b': None, 'label': 28},\n",
              " {'guid': 8223, 'text_a': 'want know seat', 'text_b': None, 'label': 2},\n",
              " {'guid': 8261, 'text_a': 'olive oil brownie 1', 'text_b': None, 'label': 22},\n",
              " {'guid': 8415, 'text_a': 'may know seat assignment status', 'text_b': None, 'label': 15},\n",
              " {'guid': 8426, 'text_a': 'check seat assignment', 'text_b': None, 'label': 15},\n",
              " {'guid': 8429, 'text_a': 'want know seat', 'text_b': None, 'label': 2},\n",
              " {'guid': 8527, 'text_a': 'wand flight ticket', 'text_b': None, 'label': 10},\n",
              " {'guid': 8528, 'text_a': 'need arugula fresh fruit', 'text_b': None, 'label': 20},\n",
              " {'guid': 8575, 'text_a': 'already booked ticket change seat', 'text_b': None, 'label': 0},\n",
              " {'guid': 8590, 'text_a': 'insurance claim status', 'text_b': None, 'label': 13},\n",
              " {'guid': 8613, 'text_a': 'want book ticket washington', 'text_b': None, 'label': 30},\n",
              " {'guid': 8622, 'text_a': 'seat assignment', 'text_b': None, 'label': 15},\n",
              " {'guid': 8651, 'text_a': 'check seat assignment', 'text_b': None, 'label': 15},\n",
              " {'guid': 8696, 'text_a': 'check seat assignment', 'text_b': None, 'label': 15},\n",
              " {'guid': 8779, 'text_a': 'error credit card bill want charge removed', 'text_b': None, 'label': 25},\n",
              " {'guid': 8821, 'text_a': 'want check seat assignment travel', 'text_b': None, 'label': 15},\n",
              " {'guid': 8826, 'text_a': 'credit card fully damaged', 'text_b': None, 'label': 28},\n",
              " {'guid': 8934, 'text_a': 'want know seat', 'text_b': None, 'label': 2},\n",
              " {'guid': 8952, 'text_a': 'need know seat assignment', 'text_b': None, 'label': 15},\n",
              " {'guid': 8999, 'text_a': 'need pesto drizzle grilled chicken', 'text_b': None, 'label': 23},\n",
              " {'guid': 9061, 'text_a': 'wanna check seat assignment', 'text_b': None, 'label': 15},\n",
              " {'guid': 9065, 'text_a': 'check seat', 'text_b': None, 'label': 2},\n",
              " {'guid': 9077, 'text_a': 'please find seat number spencer', 'text_b': None, 'label': 2},\n",
              " {'guid': 9111, 'text_a': 'would like check seat assignment', 'text_b': None, 'label': 15},\n",
              " {'guid': 9160, 'text_a': 'insurance claim status', 'text_b': None, 'label': 13},\n",
              " {'guid': 9215, 'text_a': 'want signup phone internet connection home use please provide information', 'text_b': None, 'label': 31},\n",
              " {'guid': 9274, 'text_a': 'need reimbursement flight ticket', 'text_b': None, 'label': 32},\n",
              " {'guid': 9321, 'text_a': 'want know seat', 'text_b': None, 'label': 2},\n",
              " {'guid': 9372, 'text_a': 'want know seat', 'text_b': None, 'label': 2},\n",
              " {'guid': 9426, 'text_a': 'would like remove tomato topping sandwich', 'text_b': None, 'label': 16},\n",
              " {'guid': 9440, 'text_a': 'check seat', 'text_b': None, 'label': 2},\n",
              " {'guid': 9449, 'text_a': 'need order food items', 'text_b': None, 'label': 17},\n",
              " {'guid': 9474, 'text_a': 'lost credit card buy new one', 'text_b': None, 'label': 25},\n",
              " {'guid': 9496, 'text_a': 'check seat', 'text_b': None, 'label': 2},\n",
              " {'guid': 9590, 'text_a': 'need 2 meat eater', 'text_b': None, 'label': 17},\n",
              " {'guid': 9611, 'text_a': 'want know seat assignment', 'text_b': None, 'label': 15},\n",
              " {'guid': 9623, 'text_a': 'id like check seat assignment please', 'text_b': None, 'label': 15},\n",
              " {'guid': 9725, 'text_a': 'need 2 red vine', 'text_b': None, 'label': 20},\n",
              " {'guid': 9743, 'text_a': 'wants change seat', 'text_b': None, 'label': 15},\n",
              " {'guid': 9755, 'text_a': 'need 1 meat eaters', 'text_b': None, 'label': 17},\n",
              " {'guid': 9864, 'text_a': 'buttermilk crispy tender', 'text_b': None, 'label': 17},\n",
              " {'guid': 10041, 'text_a': 'want know seat assingment', 'text_b': None, 'label': 15},\n",
              " {'guid': 10125, 'text_a': 'check seat', 'text_b': None, 'label': 2},\n",
              " {'guid': 10147, 'text_a': 'already book ticket change seat', 'text_b': None, 'label': 15},\n",
              " {'guid': 10240, 'text_a': 'check seat assignment', 'text_b': None, 'label': 15},\n",
              " {'guid': 10247, 'text_a': 'hello want check seat assignment', 'text_b': None, 'label': 15},\n",
              " {'guid': 10299, 'text_a': 'want purchase new cable service', 'text_b': None, 'label': 30},\n",
              " {'guid': 10321, 'text_a': 'want know seat', 'text_b': None, 'label': 2},\n",
              " {'guid': 10353, 'text_a': 'fruit maple oatmeal 2', 'text_b': None, 'label': 19},\n",
              " {'guid': 10399, 'text_a': 'would like order 2 bbq chicken', 'text_b': None, 'label': 16},\n",
              " {'guid': 10460, 'text_a': 'want choose 5 gb data plan', 'text_b': None, 'label': 35},\n",
              " {'guid': 10485, 'text_a': '1 olive oil brownie', 'text_b': None, 'label': 23},\n",
              " {'guid': 10555, 'text_a': 'like red vine', 'text_b': None, 'label': 20},\n",
              " {'guid': 10572, 'text_a': 'outlook software working', 'text_b': None, 'label': 29},\n",
              " {'guid': 10604, 'text_a': 'would like 23 sandwiches', 'text_b': None, 'label': 16},\n",
              " {'guid': 10641, 'text_a': 'select 10 gb data plan', 'text_b': None, 'label': 35},\n",
              " {'guid': 10660, 'text_a': 'check seat assignment', 'text_b': None, 'label': 15},\n",
              " {'guid': 10685, 'text_a': 'need 4 red vine', 'text_b': None, 'label': 20},\n",
              " {'guid': 10756, 'text_a': '3 sea salt cookie', 'text_b': None, 'label': 23},\n",
              " {'guid': 10843, 'text_a': 'hai want check seat assignment', 'text_b': None, 'label': 15},\n",
              " {'guid': 11308, 'text_a': 'missing periodic software updates', 'text_b': None, 'label': 27},\n",
              " {'guid': 11309, 'text_a': 'need claim insurance', 'text_b': None, 'label': 4},\n",
              " {'guid': 11380, 'text_a': 'want check seat assignment', 'text_b': None, 'label': 15},\n",
              " {'guid': 11412, 'text_a': 'need know seat assignment', 'text_b': None, 'label': 15},\n",
              " {'guid': 11437, 'text_a': 'please check bill remove credit card charge', 'text_b': None, 'label': 25},\n",
              " {'guid': 11460, 'text_a': 'need 5 gb data plan', 'text_b': None, 'label': 35},\n",
              " {'guid': 11462, 'text_a': 'ok well safe side would like sign 10 gb plan', 'text_b': None, 'label': 35},\n",
              " {'guid': 11548, 'text_a': 'upgrade service', 'text_b': None, 'label': 35}]"
            ]
          },
          "metadata": {},
          "execution_count": 54
        }
      ]
    },
    {
      "cell_type": "code",
      "execution_count": 39,
      "id": "43cb30bb",
      "metadata": {
        "colab": {
          "base_uri": "https://localhost:8080/"
        },
        "id": "43cb30bb",
        "outputId": "50cbbdea-4c8d-47b5-f425-a01f0e9224bf"
      },
      "outputs": [
        {
          "output_type": "stream",
          "name": "stdout",
          "text": [
            "[[ 42   0   0 ...   0   0   0]\n",
            " [  0   4   0 ...   0   0   0]\n",
            " [  0   0 177 ...   0   0   0]\n",
            " ...\n",
            " [  0   0   0 ...  69   0   0]\n",
            " [  0   0   1 ...   0   0   0]\n",
            " [  0   0   0 ...   0   0  12]]\n",
            "                       precision    recall  f1-score   support\n",
            "\n",
            "           bookflight       0.95      1.00      0.98        42\n",
            "          changeorder       1.00      0.80      0.89         5\n",
            " changeseatassignment       0.90      0.92      0.91       192\n",
            "         checkbalance       0.92      0.98      0.95        50\n",
            "     checkclaimstatus       0.97      1.00      0.98        90\n",
            "checkoffereligibility       1.00      1.00      1.00         6\n",
            "    checkserverstatus       1.00      0.93      0.97        30\n",
            "         closeaccount       1.00      0.85      0.92        20\n",
            "        disputecharge       0.90      0.86      0.88        42\n",
            "        expensereport       0.96      0.97      0.97        77\n",
            "      getboardingpass       1.00      1.00      1.00       114\n",
            " getinformationintent       0.80      0.75      0.77        32\n",
            "        getpromotions       1.00      0.33      0.50         3\n",
            "  getproofofinsurance       1.00      0.99      0.99       192\n",
            "     getroutingnumber       1.00      0.93      0.96        14\n",
            "          getseatinfo       0.68      0.62      0.65        48\n",
            " orderbreakfastintent       0.00      0.00      0.00         7\n",
            "    orderburgerintent       0.98      0.80      0.88        59\n",
            "          orderchecks       1.00      0.75      0.86         8\n",
            "   orderdessertintent       0.93      0.83      0.88        60\n",
            "     orderdrinkintent       0.87      0.94      0.90       151\n",
            "     orderpizzaintent       0.92      0.97      0.94       203\n",
            "     ordersaladintent       0.87      1.00      0.93        52\n",
            "      ordersideintent       0.78      0.61      0.68        23\n",
            "       providereceipt       1.00      1.00      1.00         1\n",
            "          replacecard       0.92      0.80      0.86        15\n",
            "    reportbrokenphone       1.00      1.00      1.00        69\n",
            " reportbrokensoftware       0.97      1.00      0.99        69\n",
            "       reportlostcard       0.94      1.00      0.97        73\n",
            "       softwareupdate       0.96      0.95      0.95        55\n",
            "           startorder       0.96      0.80      0.87        56\n",
            "   startserviceintent       0.95      1.00      0.97       330\n",
            "            stoporder       1.00      0.33      0.50         3\n",
            "        transfermoney       0.95      0.95      0.95        43\n",
            "        updateaddress       1.00      1.00      1.00        69\n",
            " upgradeserviceintent       0.00      0.00      0.00         5\n",
            "      viewbillsintent       0.71      0.71      0.71        17\n",
            "\n",
            "             accuracy                           0.94      2325\n",
            "            macro avg       0.89      0.82      0.84      2325\n",
            "         weighted avg       0.93      0.94      0.93      2325\n",
            "\n",
            "ARI: 0.9074089090327235\n",
            "AMI: 0.9142167725702267\n"
          ]
        },
        {
          "output_type": "stream",
          "name": "stderr",
          "text": [
            "/usr/local/lib/python3.7/dist-packages/sklearn/metrics/_classification.py:1318: UndefinedMetricWarning: Precision and F-score are ill-defined and being set to 0.0 in labels with no predicted samples. Use `zero_division` parameter to control this behavior.\n",
            "  _warn_prf(average, modifier, msg_start, len(result))\n",
            "/usr/local/lib/python3.7/dist-packages/sklearn/metrics/_classification.py:1318: UndefinedMetricWarning: Precision and F-score are ill-defined and being set to 0.0 in labels with no predicted samples. Use `zero_division` parameter to control this behavior.\n",
            "  _warn_prf(average, modifier, msg_start, len(result))\n",
            "/usr/local/lib/python3.7/dist-packages/sklearn/metrics/_classification.py:1318: UndefinedMetricWarning: Precision and F-score are ill-defined and being set to 0.0 in labels with no predicted samples. Use `zero_division` parameter to control this behavior.\n",
            "  _warn_prf(average, modifier, msg_start, len(result))\n"
          ]
        }
      ],
      "source": [
        "from sklearn.metrics import confusion_matrix, classification_report\n",
        "\n",
        "pred_val = gridsearch.predict(X_val)\n",
        "print(confusion_matrix(y_val, pred_val))\n",
        "print(classification_report(y_val, pred_val))\n",
        "\n",
        "\n",
        "from sklearn.metrics.cluster import adjusted_rand_score, adjusted_mutual_info_score\n",
        "\n",
        "ari = adjusted_rand_score(y_val, pred_val)\n",
        "ami = adjusted_mutual_info_score(y_val, pred_val, average_method='arithmetic')\n",
        "\n",
        "print(\"ARI: {}\".format(ari))\n",
        "print(\"AMI: {}\".format(ami))"
      ]
    },
    {
      "cell_type": "code",
      "source": [
        "my_submission"
      ],
      "metadata": {
        "colab": {
          "base_uri": "https://localhost:8080/",
          "height": 423
        },
        "id": "Te8nPWvbeMnh",
        "outputId": "7397e711-0460-4904-9bfa-d1359009e9eb"
      },
      "id": "Te8nPWvbeMnh",
      "execution_count": 52,
      "outputs": [
        {
          "output_type": "execute_result",
          "data": {
            "text/plain": [
              "         id             predicted\n",
              "0     12123  reportbrokensoftware\n",
              "1       244      orderpizzaintent\n",
              "2      8221           replacecard\n",
              "3     12856    startserviceintent\n",
              "4     12108         expensereport\n",
              "...     ...                   ...\n",
              "2901   7124      checkclaimstatus\n",
              "2902  13534  getinformationintent\n",
              "2903   1678     orderburgerintent\n",
              "2904   6154   getproofofinsurance\n",
              "2905    615      ordersaladintent\n",
              "\n",
              "[2906 rows x 2 columns]"
            ],
            "text/html": [
              "\n",
              "  <div id=\"df-cabe505b-61c3-4bd0-913d-0768acd766eb\">\n",
              "    <div class=\"colab-df-container\">\n",
              "      <div>\n",
              "<style scoped>\n",
              "    .dataframe tbody tr th:only-of-type {\n",
              "        vertical-align: middle;\n",
              "    }\n",
              "\n",
              "    .dataframe tbody tr th {\n",
              "        vertical-align: top;\n",
              "    }\n",
              "\n",
              "    .dataframe thead th {\n",
              "        text-align: right;\n",
              "    }\n",
              "</style>\n",
              "<table border=\"1\" class=\"dataframe\">\n",
              "  <thead>\n",
              "    <tr style=\"text-align: right;\">\n",
              "      <th></th>\n",
              "      <th>id</th>\n",
              "      <th>predicted</th>\n",
              "    </tr>\n",
              "  </thead>\n",
              "  <tbody>\n",
              "    <tr>\n",
              "      <th>0</th>\n",
              "      <td>12123</td>\n",
              "      <td>reportbrokensoftware</td>\n",
              "    </tr>\n",
              "    <tr>\n",
              "      <th>1</th>\n",
              "      <td>244</td>\n",
              "      <td>orderpizzaintent</td>\n",
              "    </tr>\n",
              "    <tr>\n",
              "      <th>2</th>\n",
              "      <td>8221</td>\n",
              "      <td>replacecard</td>\n",
              "    </tr>\n",
              "    <tr>\n",
              "      <th>3</th>\n",
              "      <td>12856</td>\n",
              "      <td>startserviceintent</td>\n",
              "    </tr>\n",
              "    <tr>\n",
              "      <th>4</th>\n",
              "      <td>12108</td>\n",
              "      <td>expensereport</td>\n",
              "    </tr>\n",
              "    <tr>\n",
              "      <th>...</th>\n",
              "      <td>...</td>\n",
              "      <td>...</td>\n",
              "    </tr>\n",
              "    <tr>\n",
              "      <th>2901</th>\n",
              "      <td>7124</td>\n",
              "      <td>checkclaimstatus</td>\n",
              "    </tr>\n",
              "    <tr>\n",
              "      <th>2902</th>\n",
              "      <td>13534</td>\n",
              "      <td>getinformationintent</td>\n",
              "    </tr>\n",
              "    <tr>\n",
              "      <th>2903</th>\n",
              "      <td>1678</td>\n",
              "      <td>orderburgerintent</td>\n",
              "    </tr>\n",
              "    <tr>\n",
              "      <th>2904</th>\n",
              "      <td>6154</td>\n",
              "      <td>getproofofinsurance</td>\n",
              "    </tr>\n",
              "    <tr>\n",
              "      <th>2905</th>\n",
              "      <td>615</td>\n",
              "      <td>ordersaladintent</td>\n",
              "    </tr>\n",
              "  </tbody>\n",
              "</table>\n",
              "<p>2906 rows × 2 columns</p>\n",
              "</div>\n",
              "      <button class=\"colab-df-convert\" onclick=\"convertToInteractive('df-cabe505b-61c3-4bd0-913d-0768acd766eb')\"\n",
              "              title=\"Convert this dataframe to an interactive table.\"\n",
              "              style=\"display:none;\">\n",
              "        \n",
              "  <svg xmlns=\"http://www.w3.org/2000/svg\" height=\"24px\"viewBox=\"0 0 24 24\"\n",
              "       width=\"24px\">\n",
              "    <path d=\"M0 0h24v24H0V0z\" fill=\"none\"/>\n",
              "    <path d=\"M18.56 5.44l.94 2.06.94-2.06 2.06-.94-2.06-.94-.94-2.06-.94 2.06-2.06.94zm-11 1L8.5 8.5l.94-2.06 2.06-.94-2.06-.94L8.5 2.5l-.94 2.06-2.06.94zm10 10l.94 2.06.94-2.06 2.06-.94-2.06-.94-.94-2.06-.94 2.06-2.06.94z\"/><path d=\"M17.41 7.96l-1.37-1.37c-.4-.4-.92-.59-1.43-.59-.52 0-1.04.2-1.43.59L10.3 9.45l-7.72 7.72c-.78.78-.78 2.05 0 2.83L4 21.41c.39.39.9.59 1.41.59.51 0 1.02-.2 1.41-.59l7.78-7.78 2.81-2.81c.8-.78.8-2.07 0-2.86zM5.41 20L4 18.59l7.72-7.72 1.47 1.35L5.41 20z\"/>\n",
              "  </svg>\n",
              "      </button>\n",
              "      \n",
              "  <style>\n",
              "    .colab-df-container {\n",
              "      display:flex;\n",
              "      flex-wrap:wrap;\n",
              "      gap: 12px;\n",
              "    }\n",
              "\n",
              "    .colab-df-convert {\n",
              "      background-color: #E8F0FE;\n",
              "      border: none;\n",
              "      border-radius: 50%;\n",
              "      cursor: pointer;\n",
              "      display: none;\n",
              "      fill: #1967D2;\n",
              "      height: 32px;\n",
              "      padding: 0 0 0 0;\n",
              "      width: 32px;\n",
              "    }\n",
              "\n",
              "    .colab-df-convert:hover {\n",
              "      background-color: #E2EBFA;\n",
              "      box-shadow: 0px 1px 2px rgba(60, 64, 67, 0.3), 0px 1px 3px 1px rgba(60, 64, 67, 0.15);\n",
              "      fill: #174EA6;\n",
              "    }\n",
              "\n",
              "    [theme=dark] .colab-df-convert {\n",
              "      background-color: #3B4455;\n",
              "      fill: #D2E3FC;\n",
              "    }\n",
              "\n",
              "    [theme=dark] .colab-df-convert:hover {\n",
              "      background-color: #434B5C;\n",
              "      box-shadow: 0px 1px 3px 1px rgba(0, 0, 0, 0.15);\n",
              "      filter: drop-shadow(0px 1px 2px rgba(0, 0, 0, 0.3));\n",
              "      fill: #FFFFFF;\n",
              "    }\n",
              "  </style>\n",
              "\n",
              "      <script>\n",
              "        const buttonEl =\n",
              "          document.querySelector('#df-cabe505b-61c3-4bd0-913d-0768acd766eb button.colab-df-convert');\n",
              "        buttonEl.style.display =\n",
              "          google.colab.kernel.accessAllowed ? 'block' : 'none';\n",
              "\n",
              "        async function convertToInteractive(key) {\n",
              "          const element = document.querySelector('#df-cabe505b-61c3-4bd0-913d-0768acd766eb');\n",
              "          const dataTable =\n",
              "            await google.colab.kernel.invokeFunction('convertToInteractive',\n",
              "                                                     [key], {});\n",
              "          if (!dataTable) return;\n",
              "\n",
              "          const docLinkHtml = 'Like what you see? Visit the ' +\n",
              "            '<a target=\"_blank\" href=https://colab.research.google.com/notebooks/data_table.ipynb>data table notebook</a>'\n",
              "            + ' to learn more about interactive tables.';\n",
              "          element.innerHTML = '';\n",
              "          dataTable['output_type'] = 'display_data';\n",
              "          await google.colab.output.renderOutput(dataTable, element);\n",
              "          const docLink = document.createElement('div');\n",
              "          docLink.innerHTML = docLinkHtml;\n",
              "          element.appendChild(docLink);\n",
              "        }\n",
              "      </script>\n",
              "    </div>\n",
              "  </div>\n",
              "  "
            ]
          },
          "metadata": {},
          "execution_count": 52
        }
      ]
    },
    {
      "cell_type": "code",
      "source": [
        "# NOTE: after saving the CSV file, be sure to zip the file before submitting to the competition website!\n",
        "my_submission.to_csv('Tran_Lemma_BertBase_2.csv', index=False)"
      ],
      "metadata": {
        "id": "GzQg2URheIMV"
      },
      "id": "GzQg2URheIMV",
      "execution_count": null,
      "outputs": []
    },
    {
      "cell_type": "code",
      "source": [
        "import torch\n",
        "from transformers import AutoTokenizer,AutoModelForSequenceClassification,pipeline\n",
        "tokenizer = AutoTokenizer.from_pretrained(\"roberta-base\")\n",
        "model = AutoModelForSequenceClassification.from_pretrained(\"bert-base-cased\")\n",
        "feature_extractor = pipeline('feature-extraction', model=model, tokenizer= tokenizer)\n",
        "\n",
        "text = \"This is a sample text a feature should be extracted from\"\n",
        "\n",
        "feature_extractor(text) "
      ],
      "metadata": {
        "id": "m7wCRpJiY4CJ"
      },
      "id": "m7wCRpJiY4CJ",
      "execution_count": null,
      "outputs": []
    },
    {
      "cell_type": "markdown",
      "source": [
        ""
      ],
      "metadata": {
        "id": "8Xa8IIANdlvU"
      },
      "id": "8Xa8IIANdlvU"
    },
    {
      "cell_type": "code",
      "source": [
        "#pred_test = h.inverse_transform(pred_test)\n",
        "\n",
        "my_submission = pd.DataFrame({'Id': df_test['id'], 'label': pred_test})\n",
        "print(my_submission.head())\n",
        "\n",
        "# NOTE: after saving the CSV file, be sure to zip the file before submitting to the competition website!\n",
        "my_submission.to_csv('answers.csv', index=False)"
      ],
      "metadata": {
        "id": "hwCr6jpsdK1Z"
      },
      "execution_count": null,
      "outputs": [],
      "id": "hwCr6jpsdK1Z"
    },
    {
      "cell_type": "code",
      "execution_count": null,
      "metadata": {
        "id": "bnCSyWMCdK1a"
      },
      "outputs": [],
      "source": [
        "pred_test"
      ],
      "id": "bnCSyWMCdK1a"
    },
    {
      "cell_type": "code",
      "source": [
        ""
      ],
      "metadata": {
        "id": "k2Fbwz_ddKAN"
      },
      "id": "k2Fbwz_ddKAN",
      "execution_count": null,
      "outputs": []
    },
    {
      "cell_type": "code",
      "source": [
        ""
      ],
      "metadata": {
        "id": "nvAAdL22dKCm"
      },
      "id": "nvAAdL22dKCm",
      "execution_count": null,
      "outputs": []
    },
    {
      "cell_type": "code",
      "source": [
        ""
      ],
      "metadata": {
        "id": "uQgFP8-EdKEr"
      },
      "id": "uQgFP8-EdKEr",
      "execution_count": null,
      "outputs": []
    },
    {
      "cell_type": "code",
      "source": [
        ""
      ],
      "metadata": {
        "id": "JTERU48FdKG-"
      },
      "id": "JTERU48FdKG-",
      "execution_count": null,
      "outputs": []
    },
    {
      "cell_type": "code",
      "source": [
        ""
      ],
      "metadata": {
        "id": "k2gWDeEmdKJZ"
      },
      "id": "k2gWDeEmdKJZ",
      "execution_count": null,
      "outputs": []
    },
    {
      "cell_type": "code",
      "source": [
        ""
      ],
      "metadata": {
        "id": "KLasChHUdKLP"
      },
      "id": "KLasChHUdKLP",
      "execution_count": null,
      "outputs": []
    },
    {
      "cell_type": "code",
      "execution_count": null,
      "id": "7b11c371",
      "metadata": {
        "id": "7b11c371"
      },
      "outputs": [],
      "source": [
        "!python3 -m spacy download en_core_web_sm"
      ]
    },
    {
      "cell_type": "code",
      "execution_count": null,
      "id": "11a1a95f",
      "metadata": {
        "id": "11a1a95f"
      },
      "outputs": [],
      "source": [
        "import spacy\n",
        "import re\n",
        "import unidecode\n",
        "import string\n",
        "\n",
        "# import spaCy tokenizer (downloaded using $ python -m spacy download en_core_web_sm)\n",
        "nlp = spacy.load('en_core_web_sm')\n",
        "# nlp = spacy.load('en_core_web_lg')\n",
        "punctuation = string.punctuation\n",
        "custom_punctuation = ['', '..', '...', '....', '.....', '......']\n",
        "custom_stop_words = ['be', 'to', 'I', 'the', 'a', 'i', 'my', 'and', 'you', 'have', 'it', 'in',\n",
        "                     'for', 'go', 'of', 'so', 'get', 'me', 'that', 'on', 'do', 'day', 'just',\n",
        "                     'but', 'with', 'at', 'all', 'this', 'now', 'work', 'i`m', 'see', 'too',\n",
        "                     'I`m', 'it`s', 'today']\n",
        "\n",
        "\n",
        "def spacy_tokenizer_string(sentence):\n",
        "    \"\"\"\n",
        "    Tokenizer and pre-processing using spaCy\n",
        "    :param sentence: input sentence\n",
        "    :type sentence: string\n",
        "    :return: string of joined tokens\n",
        "    \"\"\"\n",
        "\n",
        "    # Remove digits\n",
        "    sentence = re.sub(r'\\d+', '', sentence)\n",
        "\n",
        "    # Remove unicode characters\n",
        "    sentence = unidecode.unidecode(sentence)\n",
        "\n",
        "    # Tokenize sentence using spaCy\n",
        "    tokens = nlp(sentence)\n",
        "\n",
        "    # Remove punctuation\n",
        "    tokens = [word for word in tokens if word.text not in punctuation and word.text not in custom_punctuation]\n",
        "\n",
        "    # Remove stop words, DON'T USE, not beneficial in this use case\n",
        "    # tokens = [word for word in tokens if word.text not in STOP_WORDS]\n",
        "\n",
        "    # Lemmatize tokens\n",
        "    tokens = [word.lemma_.strip() if word.lemma_ != '-PRON-' else word.text for word in tokens]\n",
        "\n",
        "    return ' '.join(tokens)"
      ]
    },
    {
      "cell_type": "code",
      "execution_count": null,
      "id": "53a7e551",
      "metadata": {
        "id": "53a7e551"
      },
      "outputs": [],
      "source": [
        ""
      ]
    },
    {
      "cell_type": "code",
      "execution_count": null,
      "id": "db6549bc",
      "metadata": {
        "id": "db6549bc"
      },
      "outputs": [],
      "source": [
        "#Set and create the classification model we want to use\n",
        "model = ClassificationModel('bert','bert-base-cased', use_cuda=False, args={'reprocess_input_data': True, 'overwrite_output_dir': True})"
      ]
    },
    {
      "cell_type": "code",
      "execution_count": null,
      "id": "a528bf46",
      "metadata": {
        "id": "a528bf46"
      },
      "outputs": [],
      "source": [
        "train_df = pd.read_csv(\"public_data.csv\")\n",
        "test_df = pd.read_csv(\"input_data.csv\")"
      ]
    },
    {
      "cell_type": "code",
      "execution_count": null,
      "id": "60e59fcf",
      "metadata": {
        "id": "60e59fcf"
      },
      "outputs": [],
      "source": [
        "#Set text field as string\n",
        "train_df['message'] = train_df['message'].astype('str')\n",
        "train_df"
      ]
    },
    {
      "cell_type": "code",
      "execution_count": null,
      "id": "a16dd1b0",
      "metadata": {
        "id": "a16dd1b0"
      },
      "outputs": [],
      "source": [
        "#Rename data field for model\n",
        "## Reference: https://simpletransformers.ai/docs/classification-data-formats/\n",
        "train_df = train_df.rename(columns={\"message\": \"text\", \"label\": \"labels\"})"
      ]
    },
    {
      "cell_type": "code",
      "execution_count": null,
      "id": "1d048930",
      "metadata": {
        "id": "1d048930"
      },
      "outputs": [],
      "source": [
        "#Rename data field for model\n",
        "## Reference: https://simpletransformers.ai/docs/classification-data-formats/\n",
        "test_df = test_df.rename(columns={\"message\": \"text\"})"
      ]
    },
    {
      "cell_type": "code",
      "execution_count": null,
      "id": "b5d113d0",
      "metadata": {
        "id": "b5d113d0"
      },
      "outputs": [],
      "source": [
        "#Check dataframe type\n",
        "train_df.info()"
      ]
    },
    {
      "cell_type": "code",
      "execution_count": null,
      "id": "69c49e05",
      "metadata": {
        "id": "69c49e05"
      },
      "outputs": [],
      "source": [
        "from ast import literal_eval\n",
        "train_df['labels'] = train_df['labels'].apply(literal_eval)"
      ]
    },
    {
      "cell_type": "code",
      "execution_count": null,
      "id": "10bf77f2",
      "metadata": {
        "id": "10bf77f2"
      },
      "outputs": [],
      "source": [
        "train_df"
      ]
    },
    {
      "cell_type": "code",
      "execution_count": null,
      "id": "6b2ba21a",
      "metadata": {
        "id": "6b2ba21a"
      },
      "outputs": [],
      "source": [
        "#Drop ID columns\n",
        "train_df =train_df.drop(columns = 'id')\n",
        "test_df= test_df.drop(columns = 'id')"
      ]
    },
    {
      "cell_type": "code",
      "execution_count": null,
      "id": "e5396512",
      "metadata": {
        "id": "e5396512"
      },
      "outputs": [],
      "source": [
        "#Check dataframe\n",
        "train_df.head()"
      ]
    },
    {
      "cell_type": "code",
      "execution_count": null,
      "id": "8f31e83c",
      "metadata": {
        "id": "8f31e83c"
      },
      "outputs": [],
      "source": [
        "#Train the classification model using training data\n",
        "model.train_model(train_df)"
      ]
    },
    {
      "cell_type": "code",
      "execution_count": null,
      "id": "f990182f",
      "metadata": {
        "id": "f990182f"
      },
      "outputs": [],
      "source": [
        "#Evaluate the model\n",
        "result, model_outputs, wrong_predictions = model.eval_model(train_df, acc=sklearn.metrics.accuracy_score)"
      ]
    },
    {
      "cell_type": "code",
      "execution_count": null,
      "id": "e6781b2d",
      "metadata": {
        "id": "e6781b2d"
      },
      "outputs": [],
      "source": [
        "train_df"
      ]
    },
    {
      "cell_type": "code",
      "execution_count": null,
      "id": "6c6e595f",
      "metadata": {
        "id": "6c6e595f"
      },
      "outputs": [],
      "source": [
        "train_df = pd.read_csv(\"public_data.csv\")\n",
        "test_df = pd.read_csv(\"input_data.csv\")"
      ]
    },
    {
      "cell_type": "code",
      "execution_count": null,
      "id": "b7c719f6",
      "metadata": {
        "id": "b7c719f6"
      },
      "outputs": [],
      "source": [
        "import pandas as pd\n",
        "from simpletransformers.classification import ClassificationModel\n",
        "from sys import argv\n",
        "\n",
        "train_df = pd.read_csv(\"public_data.csv\", header=None)\n",
        "train_df[\"text\"] = train_df.iloc[:, 1] + \" \" + train_df.iloc[:, 2]\n",
        "train_df = train_df.drop(train_df.columns[[1, 2]], axis=1)\n",
        "train_df.columns = [\"labels\", \"text\"]\n",
        "\n",
        "train_df[\"text\"] = train_df[\"text\"].apply(lambda x: x.replace(\"\\\\\", \" \"))\n",
        "train_df[\"labels\"] = train_df[\"labels\"].apply(lambda x: x - 1)\n",
        "\n",
        "eval_df = pd.read_csv(\"input_data.csv\", header=None)\n",
        "eval_df[\"text\"] = eval_df.iloc[:, 1] + \" \" + eval_df.iloc[:, 2]\n",
        "eval_df = eval_df.drop(eval_df.columns[[1, 2]], axis=1)\n",
        "eval_df.columns = [\"labels\", \"text\"]\n",
        "\n",
        "eval_df[\"text\"] = eval_df[\"text\"].apply(lambda x: x.replace(\"\\\\\", \" \"))\n",
        "eval_df[\"labels\"] = eval_df[\"labels\"].apply(lambda x: x - 1)\n",
        "\n",
        "model_type = argv[1]\n",
        "model_name = argv[2]\n",
        "\n",
        "train_args = {\n",
        "    'output_dir': f'{model_type}-{model_name}-outputs',\n",
        "\n",
        "    'max_seq_length': 256,\n",
        "    'num_train_epochs': 5,\n",
        "    'train_batch_size': 16,\n",
        "    'eval_batch_size': 32,\n",
        "    'gradient_accumulation_steps': 1,\n",
        "    'learning_rate': 5e-5,\n",
        "    'save_steps': 50000,\n",
        "\n",
        "    'wandb_project': 'ag-news-transformers-comparison',\n",
        "    'wandb_kwargs': {'name': f'{model_type}-{model_name}'},\n",
        "    'evaluate_during_training': True,\n",
        "    'evaluate_during_training_steps': 1000,\n",
        "    'reprocess_input_data': True,\n",
        "    \"save_model_every_epoch\": False,\n",
        "    'overwrite_output_dir': True,\n",
        "    'no_cache': True,\n",
        "\n",
        "    'use_early_stopping': True,\n",
        "    'early_stopping_patience': 3,\n",
        "    'manual_seed': 4,\n",
        "}\n",
        "\n",
        "print(model_type)\n",
        "print(model_name)\n",
        "\n",
        "model = ClassificationModel(model_type, model_name, num_labels=4, args=train_args)\n",
        "model.train_model(train_df, eval_df=eval_df)"
      ]
    },
    {
      "cell_type": "code",
      "execution_count": null,
      "id": "469beb8b",
      "metadata": {
        "id": "469beb8b"
      },
      "outputs": [],
      "source": [
        "train_data = ["
      ]
    },
    {
      "cell_type": "code",
      "execution_count": null,
      "id": "3cb9f27c",
      "metadata": {
        "id": "3cb9f27c"
      },
      "outputs": [],
      "source": [
        "train_data = [\n",
        "    ['bookflight',0],\n",
        "    ['changeorder',1],\n",
        "    ['changeseatassignment',2],\n",
        "    ['checkbalance',3],\n",
        "    ['checkclaimstatus',4],\n",
        "    ['checkoffereligibility',5],\n",
        "    ['checkserverstatus',6],\n",
        "    ['closeaccount',7],\n",
        "    ['disputecharge',8],\n",
        "    ['expensereport',9],\n",
        "    ['getboardingpass',10],\n",
        "    ['getinformationintent',11],\n",
        "    ['getpromotions',12],\n",
        "    ['getproofofinsurance',13],\n",
        "    ['getroutingnumber',14],\n",
        "    ['getseatinfo',15],\n",
        "    ['orderbreakfastintent',16],\n",
        "    ['orderburgerintent',17],\n",
        "    ['orderchecks',18],\n",
        "    ['orderdessertintent',19],\n",
        "    ['orderdrinkintent',20],\n",
        "    ['orderpizzaintent',21],\n",
        "    ['ordersaladintent',22],\n",
        "    ['ordersideintent',23],\n",
        "    ['providereceipt',24],\n",
        "    ['replacecard',25],\n",
        "    ['reportbrokenphone',26],\n",
        "    ['reportbrokensoftware',27],\n",
        "    ['reportlostcard',28],\n",
        "    ['softwareupdate',29],\n",
        "    ['startorder',30],\n",
        "    ['startserviceintent',31],\n",
        "    ['stoporder',32],\n",
        "    ['transfermoney',33],\n",
        "    ['updateaddress',34],\n",
        "    ['upgradeserviceintent',35],\n",
        "    ['viewbillsintent',36],\n",
        "\n",
        "]"
      ]
    },
    {
      "cell_type": "code",
      "execution_count": null,
      "id": "976ecf41",
      "metadata": {
        "id": "976ecf41"
      },
      "outputs": [],
      "source": [
        ""
      ]
    }
  ],
  "metadata": {
    "kernelspec": {
      "display_name": "Python 3 (ipykernel)",
      "language": "python",
      "name": "python3"
    },
    "language_info": {
      "codemirror_mode": {
        "name": "ipython",
        "version": 3
      },
      "file_extension": ".py",
      "mimetype": "text/x-python",
      "name": "python",
      "nbconvert_exporter": "python",
      "pygments_lexer": "ipython3",
      "version": "3.9.7"
    },
    "colab": {
      "name": "NLP Test_Lemm_Stop_Transformer_Bert.ipynb",
      "provenance": [],
      "machine_shape": "hm"
    },
    "accelerator": "GPU",
    "widgets": {
      "application/vnd.jupyter.widget-state+json": {
        "af4332df46e04d37b035b2d4f1d4e60b": {
          "model_module": "@jupyter-widgets/controls",
          "model_name": "HBoxModel",
          "model_module_version": "1.5.0",
          "state": {
            "_dom_classes": [],
            "_model_module": "@jupyter-widgets/controls",
            "_model_module_version": "1.5.0",
            "_model_name": "HBoxModel",
            "_view_count": null,
            "_view_module": "@jupyter-widgets/controls",
            "_view_module_version": "1.5.0",
            "_view_name": "HBoxView",
            "box_style": "",
            "children": [
              "IPY_MODEL_cc2611e1b87a47eab32fdf7d50dd2fe9",
              "IPY_MODEL_447f681b4ecc47c9af80e7e1e107e59e",
              "IPY_MODEL_3c25ffdb8482455ab7203ee7f1c0ab55"
            ],
            "layout": "IPY_MODEL_e154d6a4d3234686a3194fe40a306b03"
          }
        },
        "cc2611e1b87a47eab32fdf7d50dd2fe9": {
          "model_module": "@jupyter-widgets/controls",
          "model_name": "HTMLModel",
          "model_module_version": "1.5.0",
          "state": {
            "_dom_classes": [],
            "_model_module": "@jupyter-widgets/controls",
            "_model_module_version": "1.5.0",
            "_model_name": "HTMLModel",
            "_view_count": null,
            "_view_module": "@jupyter-widgets/controls",
            "_view_module_version": "1.5.0",
            "_view_name": "HTMLView",
            "description": "",
            "description_tooltip": null,
            "layout": "IPY_MODEL_35a976b37f47462e88dbd370b50122f2",
            "placeholder": "​",
            "style": "IPY_MODEL_771d303a198a417dbed4362471d37f14",
            "value": "  0%"
          }
        },
        "447f681b4ecc47c9af80e7e1e107e59e": {
          "model_module": "@jupyter-widgets/controls",
          "model_name": "FloatProgressModel",
          "model_module_version": "1.5.0",
          "state": {
            "_dom_classes": [],
            "_model_module": "@jupyter-widgets/controls",
            "_model_module_version": "1.5.0",
            "_model_name": "FloatProgressModel",
            "_view_count": null,
            "_view_module": "@jupyter-widgets/controls",
            "_view_module_version": "1.5.0",
            "_view_name": "ProgressView",
            "bar_style": "danger",
            "description": "",
            "description_tooltip": null,
            "layout": "IPY_MODEL_0db13f9c80ef4ff88a0da306b5b2229e",
            "max": 11623,
            "min": 0,
            "orientation": "horizontal",
            "style": "IPY_MODEL_36c992acbcf7490998feff79693446ca",
            "value": 24
          }
        },
        "3c25ffdb8482455ab7203ee7f1c0ab55": {
          "model_module": "@jupyter-widgets/controls",
          "model_name": "HTMLModel",
          "model_module_version": "1.5.0",
          "state": {
            "_dom_classes": [],
            "_model_module": "@jupyter-widgets/controls",
            "_model_module_version": "1.5.0",
            "_model_name": "HTMLModel",
            "_view_count": null,
            "_view_module": "@jupyter-widgets/controls",
            "_view_module_version": "1.5.0",
            "_view_name": "HTMLView",
            "description": "",
            "description_tooltip": null,
            "layout": "IPY_MODEL_3a8a7b7d4c3b4be99a4ac229052c8c61",
            "placeholder": "​",
            "style": "IPY_MODEL_4dada8858b17482983c930637d996762",
            "value": " 24/11623 [00:01&lt;07:50, 24.64it/s]"
          }
        },
        "e154d6a4d3234686a3194fe40a306b03": {
          "model_module": "@jupyter-widgets/base",
          "model_name": "LayoutModel",
          "model_module_version": "1.2.0",
          "state": {
            "_model_module": "@jupyter-widgets/base",
            "_model_module_version": "1.2.0",
            "_model_name": "LayoutModel",
            "_view_count": null,
            "_view_module": "@jupyter-widgets/base",
            "_view_module_version": "1.2.0",
            "_view_name": "LayoutView",
            "align_content": null,
            "align_items": null,
            "align_self": null,
            "border": null,
            "bottom": null,
            "display": null,
            "flex": null,
            "flex_flow": null,
            "grid_area": null,
            "grid_auto_columns": null,
            "grid_auto_flow": null,
            "grid_auto_rows": null,
            "grid_column": null,
            "grid_gap": null,
            "grid_row": null,
            "grid_template_areas": null,
            "grid_template_columns": null,
            "grid_template_rows": null,
            "height": null,
            "justify_content": null,
            "justify_items": null,
            "left": null,
            "margin": null,
            "max_height": null,
            "max_width": null,
            "min_height": null,
            "min_width": null,
            "object_fit": null,
            "object_position": null,
            "order": null,
            "overflow": null,
            "overflow_x": null,
            "overflow_y": null,
            "padding": null,
            "right": null,
            "top": null,
            "visibility": null,
            "width": null
          }
        },
        "35a976b37f47462e88dbd370b50122f2": {
          "model_module": "@jupyter-widgets/base",
          "model_name": "LayoutModel",
          "model_module_version": "1.2.0",
          "state": {
            "_model_module": "@jupyter-widgets/base",
            "_model_module_version": "1.2.0",
            "_model_name": "LayoutModel",
            "_view_count": null,
            "_view_module": "@jupyter-widgets/base",
            "_view_module_version": "1.2.0",
            "_view_name": "LayoutView",
            "align_content": null,
            "align_items": null,
            "align_self": null,
            "border": null,
            "bottom": null,
            "display": null,
            "flex": null,
            "flex_flow": null,
            "grid_area": null,
            "grid_auto_columns": null,
            "grid_auto_flow": null,
            "grid_auto_rows": null,
            "grid_column": null,
            "grid_gap": null,
            "grid_row": null,
            "grid_template_areas": null,
            "grid_template_columns": null,
            "grid_template_rows": null,
            "height": null,
            "justify_content": null,
            "justify_items": null,
            "left": null,
            "margin": null,
            "max_height": null,
            "max_width": null,
            "min_height": null,
            "min_width": null,
            "object_fit": null,
            "object_position": null,
            "order": null,
            "overflow": null,
            "overflow_x": null,
            "overflow_y": null,
            "padding": null,
            "right": null,
            "top": null,
            "visibility": null,
            "width": null
          }
        },
        "771d303a198a417dbed4362471d37f14": {
          "model_module": "@jupyter-widgets/controls",
          "model_name": "DescriptionStyleModel",
          "model_module_version": "1.5.0",
          "state": {
            "_model_module": "@jupyter-widgets/controls",
            "_model_module_version": "1.5.0",
            "_model_name": "DescriptionStyleModel",
            "_view_count": null,
            "_view_module": "@jupyter-widgets/base",
            "_view_module_version": "1.2.0",
            "_view_name": "StyleView",
            "description_width": ""
          }
        },
        "0db13f9c80ef4ff88a0da306b5b2229e": {
          "model_module": "@jupyter-widgets/base",
          "model_name": "LayoutModel",
          "model_module_version": "1.2.0",
          "state": {
            "_model_module": "@jupyter-widgets/base",
            "_model_module_version": "1.2.0",
            "_model_name": "LayoutModel",
            "_view_count": null,
            "_view_module": "@jupyter-widgets/base",
            "_view_module_version": "1.2.0",
            "_view_name": "LayoutView",
            "align_content": null,
            "align_items": null,
            "align_self": null,
            "border": null,
            "bottom": null,
            "display": null,
            "flex": null,
            "flex_flow": null,
            "grid_area": null,
            "grid_auto_columns": null,
            "grid_auto_flow": null,
            "grid_auto_rows": null,
            "grid_column": null,
            "grid_gap": null,
            "grid_row": null,
            "grid_template_areas": null,
            "grid_template_columns": null,
            "grid_template_rows": null,
            "height": null,
            "justify_content": null,
            "justify_items": null,
            "left": null,
            "margin": null,
            "max_height": null,
            "max_width": null,
            "min_height": null,
            "min_width": null,
            "object_fit": null,
            "object_position": null,
            "order": null,
            "overflow": null,
            "overflow_x": null,
            "overflow_y": null,
            "padding": null,
            "right": null,
            "top": null,
            "visibility": null,
            "width": null
          }
        },
        "36c992acbcf7490998feff79693446ca": {
          "model_module": "@jupyter-widgets/controls",
          "model_name": "ProgressStyleModel",
          "model_module_version": "1.5.0",
          "state": {
            "_model_module": "@jupyter-widgets/controls",
            "_model_module_version": "1.5.0",
            "_model_name": "ProgressStyleModel",
            "_view_count": null,
            "_view_module": "@jupyter-widgets/base",
            "_view_module_version": "1.2.0",
            "_view_name": "StyleView",
            "bar_color": null,
            "description_width": ""
          }
        },
        "3a8a7b7d4c3b4be99a4ac229052c8c61": {
          "model_module": "@jupyter-widgets/base",
          "model_name": "LayoutModel",
          "model_module_version": "1.2.0",
          "state": {
            "_model_module": "@jupyter-widgets/base",
            "_model_module_version": "1.2.0",
            "_model_name": "LayoutModel",
            "_view_count": null,
            "_view_module": "@jupyter-widgets/base",
            "_view_module_version": "1.2.0",
            "_view_name": "LayoutView",
            "align_content": null,
            "align_items": null,
            "align_self": null,
            "border": null,
            "bottom": null,
            "display": null,
            "flex": null,
            "flex_flow": null,
            "grid_area": null,
            "grid_auto_columns": null,
            "grid_auto_flow": null,
            "grid_auto_rows": null,
            "grid_column": null,
            "grid_gap": null,
            "grid_row": null,
            "grid_template_areas": null,
            "grid_template_columns": null,
            "grid_template_rows": null,
            "height": null,
            "justify_content": null,
            "justify_items": null,
            "left": null,
            "margin": null,
            "max_height": null,
            "max_width": null,
            "min_height": null,
            "min_width": null,
            "object_fit": null,
            "object_position": null,
            "order": null,
            "overflow": null,
            "overflow_x": null,
            "overflow_y": null,
            "padding": null,
            "right": null,
            "top": null,
            "visibility": null,
            "width": null
          }
        },
        "4dada8858b17482983c930637d996762": {
          "model_module": "@jupyter-widgets/controls",
          "model_name": "DescriptionStyleModel",
          "model_module_version": "1.5.0",
          "state": {
            "_model_module": "@jupyter-widgets/controls",
            "_model_module_version": "1.5.0",
            "_model_name": "DescriptionStyleModel",
            "_view_count": null,
            "_view_module": "@jupyter-widgets/base",
            "_view_module_version": "1.2.0",
            "_view_name": "StyleView",
            "description_width": ""
          }
        },
        "e026d06b034041bbb848c039e93f03d4": {
          "model_module": "@jupyter-widgets/controls",
          "model_name": "HBoxModel",
          "model_module_version": "1.5.0",
          "state": {
            "_dom_classes": [],
            "_model_module": "@jupyter-widgets/controls",
            "_model_module_version": "1.5.0",
            "_model_name": "HBoxModel",
            "_view_count": null,
            "_view_module": "@jupyter-widgets/controls",
            "_view_module_version": "1.5.0",
            "_view_name": "HBoxView",
            "box_style": "",
            "children": [
              "IPY_MODEL_e9cbbbade54f4796b76a18592b00069a",
              "IPY_MODEL_a7f37a934b094a448c24205c4e4b93ae",
              "IPY_MODEL_52b06c23b40c466fa90a14f9c7c6ec84"
            ],
            "layout": "IPY_MODEL_1632b70201ca43bcb463dbd1f1e7db69"
          }
        },
        "e9cbbbade54f4796b76a18592b00069a": {
          "model_module": "@jupyter-widgets/controls",
          "model_name": "HTMLModel",
          "model_module_version": "1.5.0",
          "state": {
            "_dom_classes": [],
            "_model_module": "@jupyter-widgets/controls",
            "_model_module_version": "1.5.0",
            "_model_name": "HTMLModel",
            "_view_count": null,
            "_view_module": "@jupyter-widgets/controls",
            "_view_module_version": "1.5.0",
            "_view_name": "HTMLView",
            "description": "",
            "description_tooltip": null,
            "layout": "IPY_MODEL_4ae0d25dbb334e009175ab0fe1f91da5",
            "placeholder": "​",
            "style": "IPY_MODEL_e86da64473514828ad0bc684ecbc3777",
            "value": "Epoch 1 of 2:   0%"
          }
        },
        "a7f37a934b094a448c24205c4e4b93ae": {
          "model_module": "@jupyter-widgets/controls",
          "model_name": "FloatProgressModel",
          "model_module_version": "1.5.0",
          "state": {
            "_dom_classes": [],
            "_model_module": "@jupyter-widgets/controls",
            "_model_module_version": "1.5.0",
            "_model_name": "FloatProgressModel",
            "_view_count": null,
            "_view_module": "@jupyter-widgets/controls",
            "_view_module_version": "1.5.0",
            "_view_name": "ProgressView",
            "bar_style": "",
            "description": "",
            "description_tooltip": null,
            "layout": "IPY_MODEL_6352692c7d3442b4bec29e55263adcda",
            "max": 2,
            "min": 0,
            "orientation": "horizontal",
            "style": "IPY_MODEL_26e0e5f2436d4a0cbdf3b624b0250ac9",
            "value": 0
          }
        },
        "52b06c23b40c466fa90a14f9c7c6ec84": {
          "model_module": "@jupyter-widgets/controls",
          "model_name": "HTMLModel",
          "model_module_version": "1.5.0",
          "state": {
            "_dom_classes": [],
            "_model_module": "@jupyter-widgets/controls",
            "_model_module_version": "1.5.0",
            "_model_name": "HTMLModel",
            "_view_count": null,
            "_view_module": "@jupyter-widgets/controls",
            "_view_module_version": "1.5.0",
            "_view_name": "HTMLView",
            "description": "",
            "description_tooltip": null,
            "layout": "IPY_MODEL_00ea9d258b084ce6aaab4e55a2f48037",
            "placeholder": "​",
            "style": "IPY_MODEL_8585f582d2414ea9bfe9467709c56262",
            "value": " 0/2 [00:00&lt;?, ?it/s]"
          }
        },
        "1632b70201ca43bcb463dbd1f1e7db69": {
          "model_module": "@jupyter-widgets/base",
          "model_name": "LayoutModel",
          "model_module_version": "1.2.0",
          "state": {
            "_model_module": "@jupyter-widgets/base",
            "_model_module_version": "1.2.0",
            "_model_name": "LayoutModel",
            "_view_count": null,
            "_view_module": "@jupyter-widgets/base",
            "_view_module_version": "1.2.0",
            "_view_name": "LayoutView",
            "align_content": null,
            "align_items": null,
            "align_self": null,
            "border": null,
            "bottom": null,
            "display": null,
            "flex": null,
            "flex_flow": null,
            "grid_area": null,
            "grid_auto_columns": null,
            "grid_auto_flow": null,
            "grid_auto_rows": null,
            "grid_column": null,
            "grid_gap": null,
            "grid_row": null,
            "grid_template_areas": null,
            "grid_template_columns": null,
            "grid_template_rows": null,
            "height": null,
            "justify_content": null,
            "justify_items": null,
            "left": null,
            "margin": null,
            "max_height": null,
            "max_width": null,
            "min_height": null,
            "min_width": null,
            "object_fit": null,
            "object_position": null,
            "order": null,
            "overflow": null,
            "overflow_x": null,
            "overflow_y": null,
            "padding": null,
            "right": null,
            "top": null,
            "visibility": null,
            "width": null
          }
        },
        "4ae0d25dbb334e009175ab0fe1f91da5": {
          "model_module": "@jupyter-widgets/base",
          "model_name": "LayoutModel",
          "model_module_version": "1.2.0",
          "state": {
            "_model_module": "@jupyter-widgets/base",
            "_model_module_version": "1.2.0",
            "_model_name": "LayoutModel",
            "_view_count": null,
            "_view_module": "@jupyter-widgets/base",
            "_view_module_version": "1.2.0",
            "_view_name": "LayoutView",
            "align_content": null,
            "align_items": null,
            "align_self": null,
            "border": null,
            "bottom": null,
            "display": null,
            "flex": null,
            "flex_flow": null,
            "grid_area": null,
            "grid_auto_columns": null,
            "grid_auto_flow": null,
            "grid_auto_rows": null,
            "grid_column": null,
            "grid_gap": null,
            "grid_row": null,
            "grid_template_areas": null,
            "grid_template_columns": null,
            "grid_template_rows": null,
            "height": null,
            "justify_content": null,
            "justify_items": null,
            "left": null,
            "margin": null,
            "max_height": null,
            "max_width": null,
            "min_height": null,
            "min_width": null,
            "object_fit": null,
            "object_position": null,
            "order": null,
            "overflow": null,
            "overflow_x": null,
            "overflow_y": null,
            "padding": null,
            "right": null,
            "top": null,
            "visibility": null,
            "width": null
          }
        },
        "e86da64473514828ad0bc684ecbc3777": {
          "model_module": "@jupyter-widgets/controls",
          "model_name": "DescriptionStyleModel",
          "model_module_version": "1.5.0",
          "state": {
            "_model_module": "@jupyter-widgets/controls",
            "_model_module_version": "1.5.0",
            "_model_name": "DescriptionStyleModel",
            "_view_count": null,
            "_view_module": "@jupyter-widgets/base",
            "_view_module_version": "1.2.0",
            "_view_name": "StyleView",
            "description_width": ""
          }
        },
        "6352692c7d3442b4bec29e55263adcda": {
          "model_module": "@jupyter-widgets/base",
          "model_name": "LayoutModel",
          "model_module_version": "1.2.0",
          "state": {
            "_model_module": "@jupyter-widgets/base",
            "_model_module_version": "1.2.0",
            "_model_name": "LayoutModel",
            "_view_count": null,
            "_view_module": "@jupyter-widgets/base",
            "_view_module_version": "1.2.0",
            "_view_name": "LayoutView",
            "align_content": null,
            "align_items": null,
            "align_self": null,
            "border": null,
            "bottom": null,
            "display": null,
            "flex": null,
            "flex_flow": null,
            "grid_area": null,
            "grid_auto_columns": null,
            "grid_auto_flow": null,
            "grid_auto_rows": null,
            "grid_column": null,
            "grid_gap": null,
            "grid_row": null,
            "grid_template_areas": null,
            "grid_template_columns": null,
            "grid_template_rows": null,
            "height": null,
            "justify_content": null,
            "justify_items": null,
            "left": null,
            "margin": null,
            "max_height": null,
            "max_width": null,
            "min_height": null,
            "min_width": null,
            "object_fit": null,
            "object_position": null,
            "order": null,
            "overflow": null,
            "overflow_x": null,
            "overflow_y": null,
            "padding": null,
            "right": null,
            "top": null,
            "visibility": null,
            "width": null
          }
        },
        "26e0e5f2436d4a0cbdf3b624b0250ac9": {
          "model_module": "@jupyter-widgets/controls",
          "model_name": "ProgressStyleModel",
          "model_module_version": "1.5.0",
          "state": {
            "_model_module": "@jupyter-widgets/controls",
            "_model_module_version": "1.5.0",
            "_model_name": "ProgressStyleModel",
            "_view_count": null,
            "_view_module": "@jupyter-widgets/base",
            "_view_module_version": "1.2.0",
            "_view_name": "StyleView",
            "bar_color": null,
            "description_width": ""
          }
        },
        "00ea9d258b084ce6aaab4e55a2f48037": {
          "model_module": "@jupyter-widgets/base",
          "model_name": "LayoutModel",
          "model_module_version": "1.2.0",
          "state": {
            "_model_module": "@jupyter-widgets/base",
            "_model_module_version": "1.2.0",
            "_model_name": "LayoutModel",
            "_view_count": null,
            "_view_module": "@jupyter-widgets/base",
            "_view_module_version": "1.2.0",
            "_view_name": "LayoutView",
            "align_content": null,
            "align_items": null,
            "align_self": null,
            "border": null,
            "bottom": null,
            "display": null,
            "flex": null,
            "flex_flow": null,
            "grid_area": null,
            "grid_auto_columns": null,
            "grid_auto_flow": null,
            "grid_auto_rows": null,
            "grid_column": null,
            "grid_gap": null,
            "grid_row": null,
            "grid_template_areas": null,
            "grid_template_columns": null,
            "grid_template_rows": null,
            "height": null,
            "justify_content": null,
            "justify_items": null,
            "left": null,
            "margin": null,
            "max_height": null,
            "max_width": null,
            "min_height": null,
            "min_width": null,
            "object_fit": null,
            "object_position": null,
            "order": null,
            "overflow": null,
            "overflow_x": null,
            "overflow_y": null,
            "padding": null,
            "right": null,
            "top": null,
            "visibility": null,
            "width": null
          }
        },
        "8585f582d2414ea9bfe9467709c56262": {
          "model_module": "@jupyter-widgets/controls",
          "model_name": "DescriptionStyleModel",
          "model_module_version": "1.5.0",
          "state": {
            "_model_module": "@jupyter-widgets/controls",
            "_model_module_version": "1.5.0",
            "_model_name": "DescriptionStyleModel",
            "_view_count": null,
            "_view_module": "@jupyter-widgets/base",
            "_view_module_version": "1.2.0",
            "_view_name": "StyleView",
            "description_width": ""
          }
        },
        "a1331b6e563f420cb697c119162a9007": {
          "model_module": "@jupyter-widgets/controls",
          "model_name": "HBoxModel",
          "model_module_version": "1.5.0",
          "state": {
            "_dom_classes": [],
            "_model_module": "@jupyter-widgets/controls",
            "_model_module_version": "1.5.0",
            "_model_name": "HBoxModel",
            "_view_count": null,
            "_view_module": "@jupyter-widgets/controls",
            "_view_module_version": "1.5.0",
            "_view_name": "HBoxView",
            "box_style": "",
            "children": [
              "IPY_MODEL_9f9e9efc638e40b5bd9e84d6faa78487",
              "IPY_MODEL_5af3de7bdd564fcd8a0725903c1ce067",
              "IPY_MODEL_9bcca8bab69b4c6b8579b3943bad7f2d"
            ],
            "layout": "IPY_MODEL_ec2c21b25cd9444fb4861ea6aa70d612"
          }
        },
        "9f9e9efc638e40b5bd9e84d6faa78487": {
          "model_module": "@jupyter-widgets/controls",
          "model_name": "HTMLModel",
          "model_module_version": "1.5.0",
          "state": {
            "_dom_classes": [],
            "_model_module": "@jupyter-widgets/controls",
            "_model_module_version": "1.5.0",
            "_model_name": "HTMLModel",
            "_view_count": null,
            "_view_module": "@jupyter-widgets/controls",
            "_view_module_version": "1.5.0",
            "_view_name": "HTMLView",
            "description": "",
            "description_tooltip": null,
            "layout": "IPY_MODEL_c7427e1455334f7d8d46ecc4be11b224",
            "placeholder": "​",
            "style": "IPY_MODEL_9c20d892cf7941c4a2a54b6789a7efc0",
            "value": "Epochs 0/2. Running Loss:    0.6258:  45%"
          }
        },
        "5af3de7bdd564fcd8a0725903c1ce067": {
          "model_module": "@jupyter-widgets/controls",
          "model_name": "FloatProgressModel",
          "model_module_version": "1.5.0",
          "state": {
            "_dom_classes": [],
            "_model_module": "@jupyter-widgets/controls",
            "_model_module_version": "1.5.0",
            "_model_name": "FloatProgressModel",
            "_view_count": null,
            "_view_module": "@jupyter-widgets/controls",
            "_view_module_version": "1.5.0",
            "_view_name": "ProgressView",
            "bar_style": "",
            "description": "",
            "description_tooltip": null,
            "layout": "IPY_MODEL_17d07d1d4d264271b6f14be1212e5f34",
            "max": 1453,
            "min": 0,
            "orientation": "horizontal",
            "style": "IPY_MODEL_cba01f19ba1843c691f2bcdb7ab2c1f8",
            "value": 660
          }
        },
        "9bcca8bab69b4c6b8579b3943bad7f2d": {
          "model_module": "@jupyter-widgets/controls",
          "model_name": "HTMLModel",
          "model_module_version": "1.5.0",
          "state": {
            "_dom_classes": [],
            "_model_module": "@jupyter-widgets/controls",
            "_model_module_version": "1.5.0",
            "_model_name": "HTMLModel",
            "_view_count": null,
            "_view_module": "@jupyter-widgets/controls",
            "_view_module_version": "1.5.0",
            "_view_name": "HTMLView",
            "description": "",
            "description_tooltip": null,
            "layout": "IPY_MODEL_a9d48637837b416c823c404624142188",
            "placeholder": "​",
            "style": "IPY_MODEL_dd7721a935bc4cab93ccde65d2734efe",
            "value": " 660/1453 [01:35&lt;01:52,  7.06it/s]"
          }
        },
        "ec2c21b25cd9444fb4861ea6aa70d612": {
          "model_module": "@jupyter-widgets/base",
          "model_name": "LayoutModel",
          "model_module_version": "1.2.0",
          "state": {
            "_model_module": "@jupyter-widgets/base",
            "_model_module_version": "1.2.0",
            "_model_name": "LayoutModel",
            "_view_count": null,
            "_view_module": "@jupyter-widgets/base",
            "_view_module_version": "1.2.0",
            "_view_name": "LayoutView",
            "align_content": null,
            "align_items": null,
            "align_self": null,
            "border": null,
            "bottom": null,
            "display": null,
            "flex": null,
            "flex_flow": null,
            "grid_area": null,
            "grid_auto_columns": null,
            "grid_auto_flow": null,
            "grid_auto_rows": null,
            "grid_column": null,
            "grid_gap": null,
            "grid_row": null,
            "grid_template_areas": null,
            "grid_template_columns": null,
            "grid_template_rows": null,
            "height": null,
            "justify_content": null,
            "justify_items": null,
            "left": null,
            "margin": null,
            "max_height": null,
            "max_width": null,
            "min_height": null,
            "min_width": null,
            "object_fit": null,
            "object_position": null,
            "order": null,
            "overflow": null,
            "overflow_x": null,
            "overflow_y": null,
            "padding": null,
            "right": null,
            "top": null,
            "visibility": null,
            "width": null
          }
        },
        "c7427e1455334f7d8d46ecc4be11b224": {
          "model_module": "@jupyter-widgets/base",
          "model_name": "LayoutModel",
          "model_module_version": "1.2.0",
          "state": {
            "_model_module": "@jupyter-widgets/base",
            "_model_module_version": "1.2.0",
            "_model_name": "LayoutModel",
            "_view_count": null,
            "_view_module": "@jupyter-widgets/base",
            "_view_module_version": "1.2.0",
            "_view_name": "LayoutView",
            "align_content": null,
            "align_items": null,
            "align_self": null,
            "border": null,
            "bottom": null,
            "display": null,
            "flex": null,
            "flex_flow": null,
            "grid_area": null,
            "grid_auto_columns": null,
            "grid_auto_flow": null,
            "grid_auto_rows": null,
            "grid_column": null,
            "grid_gap": null,
            "grid_row": null,
            "grid_template_areas": null,
            "grid_template_columns": null,
            "grid_template_rows": null,
            "height": null,
            "justify_content": null,
            "justify_items": null,
            "left": null,
            "margin": null,
            "max_height": null,
            "max_width": null,
            "min_height": null,
            "min_width": null,
            "object_fit": null,
            "object_position": null,
            "order": null,
            "overflow": null,
            "overflow_x": null,
            "overflow_y": null,
            "padding": null,
            "right": null,
            "top": null,
            "visibility": null,
            "width": null
          }
        },
        "9c20d892cf7941c4a2a54b6789a7efc0": {
          "model_module": "@jupyter-widgets/controls",
          "model_name": "DescriptionStyleModel",
          "model_module_version": "1.5.0",
          "state": {
            "_model_module": "@jupyter-widgets/controls",
            "_model_module_version": "1.5.0",
            "_model_name": "DescriptionStyleModel",
            "_view_count": null,
            "_view_module": "@jupyter-widgets/base",
            "_view_module_version": "1.2.0",
            "_view_name": "StyleView",
            "description_width": ""
          }
        },
        "17d07d1d4d264271b6f14be1212e5f34": {
          "model_module": "@jupyter-widgets/base",
          "model_name": "LayoutModel",
          "model_module_version": "1.2.0",
          "state": {
            "_model_module": "@jupyter-widgets/base",
            "_model_module_version": "1.2.0",
            "_model_name": "LayoutModel",
            "_view_count": null,
            "_view_module": "@jupyter-widgets/base",
            "_view_module_version": "1.2.0",
            "_view_name": "LayoutView",
            "align_content": null,
            "align_items": null,
            "align_self": null,
            "border": null,
            "bottom": null,
            "display": null,
            "flex": null,
            "flex_flow": null,
            "grid_area": null,
            "grid_auto_columns": null,
            "grid_auto_flow": null,
            "grid_auto_rows": null,
            "grid_column": null,
            "grid_gap": null,
            "grid_row": null,
            "grid_template_areas": null,
            "grid_template_columns": null,
            "grid_template_rows": null,
            "height": null,
            "justify_content": null,
            "justify_items": null,
            "left": null,
            "margin": null,
            "max_height": null,
            "max_width": null,
            "min_height": null,
            "min_width": null,
            "object_fit": null,
            "object_position": null,
            "order": null,
            "overflow": null,
            "overflow_x": null,
            "overflow_y": null,
            "padding": null,
            "right": null,
            "top": null,
            "visibility": null,
            "width": null
          }
        },
        "cba01f19ba1843c691f2bcdb7ab2c1f8": {
          "model_module": "@jupyter-widgets/controls",
          "model_name": "ProgressStyleModel",
          "model_module_version": "1.5.0",
          "state": {
            "_model_module": "@jupyter-widgets/controls",
            "_model_module_version": "1.5.0",
            "_model_name": "ProgressStyleModel",
            "_view_count": null,
            "_view_module": "@jupyter-widgets/base",
            "_view_module_version": "1.2.0",
            "_view_name": "StyleView",
            "bar_color": null,
            "description_width": ""
          }
        },
        "a9d48637837b416c823c404624142188": {
          "model_module": "@jupyter-widgets/base",
          "model_name": "LayoutModel",
          "model_module_version": "1.2.0",
          "state": {
            "_model_module": "@jupyter-widgets/base",
            "_model_module_version": "1.2.0",
            "_model_name": "LayoutModel",
            "_view_count": null,
            "_view_module": "@jupyter-widgets/base",
            "_view_module_version": "1.2.0",
            "_view_name": "LayoutView",
            "align_content": null,
            "align_items": null,
            "align_self": null,
            "border": null,
            "bottom": null,
            "display": null,
            "flex": null,
            "flex_flow": null,
            "grid_area": null,
            "grid_auto_columns": null,
            "grid_auto_flow": null,
            "grid_auto_rows": null,
            "grid_column": null,
            "grid_gap": null,
            "grid_row": null,
            "grid_template_areas": null,
            "grid_template_columns": null,
            "grid_template_rows": null,
            "height": null,
            "justify_content": null,
            "justify_items": null,
            "left": null,
            "margin": null,
            "max_height": null,
            "max_width": null,
            "min_height": null,
            "min_width": null,
            "object_fit": null,
            "object_position": null,
            "order": null,
            "overflow": null,
            "overflow_x": null,
            "overflow_y": null,
            "padding": null,
            "right": null,
            "top": null,
            "visibility": null,
            "width": null
          }
        },
        "dd7721a935bc4cab93ccde65d2734efe": {
          "model_module": "@jupyter-widgets/controls",
          "model_name": "DescriptionStyleModel",
          "model_module_version": "1.5.0",
          "state": {
            "_model_module": "@jupyter-widgets/controls",
            "_model_module_version": "1.5.0",
            "_model_name": "DescriptionStyleModel",
            "_view_count": null,
            "_view_module": "@jupyter-widgets/base",
            "_view_module_version": "1.2.0",
            "_view_name": "StyleView",
            "description_width": ""
          }
        }
      }
    }
  },
  "nbformat": 4,
  "nbformat_minor": 5
}