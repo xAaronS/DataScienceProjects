{
  "nbformat": 4,
  "nbformat_minor": 0,
  "metadata": {
    "colab": {
      "name": "OversamplingText.ipynb",
      "provenance": []
    },
    "kernelspec": {
      "name": "python3",
      "display_name": "Python 3"
    },
    "language_info": {
      "name": "python"
    }
  },
  "cells": [
    {
      "cell_type": "code",
      "source": [
        "import pandas as pd\n",
        "import numpy as np"
      ],
      "metadata": {
        "id": "Ng1MP9mCgVLp"
      },
      "execution_count": null,
      "outputs": []
    },
    {
      "cell_type": "code",
      "execution_count": null,
      "metadata": {
        "colab": {
          "base_uri": "https://localhost:8080/"
        },
        "id": "Lel_V36SgHa-",
        "outputId": "32de60f0-7bea-487d-faf3-363186b9e56e"
      },
      "outputs": [
        {
          "output_type": "stream",
          "name": "stdout",
          "text": [
            "Mounted at /content/drive\n"
          ]
        }
      ],
      "source": [
        "#mount google drive\n",
        "from google.colab import drive\n",
        "drive.mount('/content/drive')"
      ]
    },
    {
      "cell_type": "code",
      "source": [
        "project_path = '/content/drive/MyDrive/NLP/'\n",
        " "
      ],
      "metadata": {
        "id": "BL3ByR3RgNZw"
      },
      "execution_count": null,
      "outputs": []
    },
    {
      "cell_type": "code",
      "source": [
        "df = pd.read_csv(project_path + 'public_data.csv')\n",
        "df_test = pd.read_csv(project_path + 'input_data.csv') \n",
        "########## For people running locally#####\n",
        "#emails_df2 = pd.read_csv('enron_classification_df.csv') "
      ],
      "metadata": {
        "id": "XoKD6uAKgQ2L"
      },
      "execution_count": null,
      "outputs": []
    },
    {
      "cell_type": "code",
      "source": [
        "## Function for augmenting data using langauge translation\n",
        "## Could not found free service for langauge translation, Use paid service like Azure, Google translator etc\n",
        "\n",
        "from textblob import TextBlob\n",
        "from textblob.translate import NotTranslated\n",
        "import random\n",
        "sr = random.SystemRandom()\n",
        "\n",
        "language = [\"es\", \"de\", \"fr\", \"ar\", \"te\", \"hi\", \"ja\", \"fa\", \"sq\", \"bg\", \"nl\", \"gu\", \"ig\", \"kk\", \"mt\", \"ps\"]\n",
        "\n",
        "def data_augmentation(message, language, aug_range=1):\n",
        "    augmented_messages = []\n",
        "    if hasattr(message, \"decode\"):\n",
        "        message = message.decode(\"utf-8\")\n",
        "\n",
        "    for j in range(0,aug_range) :\n",
        "        new_message = \"\"\n",
        "        text = TextBlob(message)\n",
        "        try:\n",
        "            text = text.translate(to=sr.choice(language))   ## Converting to random langauge for meaningful variation\n",
        "            text = text.translate(to=\"en\")\n",
        "        except NotTranslated:\n",
        "            pass\n",
        "        augmented_messages.append(str(text))\n",
        "\n",
        "    return augmented_messages"
      ],
      "metadata": {
        "id": "p7jW4Xxfgczb"
      },
      "execution_count": null,
      "outputs": []
    },
    {
      "cell_type": "code",
      "source": [
        "## Dictionary for intent count\n",
        "## Intent is column name\n",
        "intent_count = df.label.value_counts().to_dict()"
      ],
      "metadata": {
        "id": "VdYIIpWJgfPo"
      },
      "execution_count": null,
      "outputs": []
    },
    {
      "cell_type": "code",
      "source": [
        "intent_count"
      ],
      "metadata": {
        "colab": {
          "base_uri": "https://localhost:8080/"
        },
        "id": "dztHBe3ugtnj",
        "outputId": "9b0318af-e8c1-4e5c-fc9c-28755e8019f9"
      },
      "execution_count": null,
      "outputs": [
        {
          "output_type": "execute_result",
          "data": {
            "text/plain": [
              "{'bookflight': 260,\n",
              " 'changeorder': 26,\n",
              " 'changeseatassignment': 935,\n",
              " 'checkbalance': 334,\n",
              " 'checkclaimstatus': 448,\n",
              " 'checkoffereligibility': 52,\n",
              " 'checkserverstatus': 129,\n",
              " 'closeaccount': 71,\n",
              " 'disputecharge': 215,\n",
              " 'expensereport': 358,\n",
              " 'getboardingpass': 655,\n",
              " 'getinformationintent': 194,\n",
              " 'getpromotions': 10,\n",
              " 'getproofofinsurance': 952,\n",
              " 'getroutingnumber': 52,\n",
              " 'getseatinfo': 221,\n",
              " 'orderbreakfastintent': 28,\n",
              " 'orderburgerintent': 285,\n",
              " 'orderchecks': 40,\n",
              " 'orderdessertintent': 291,\n",
              " 'orderdrinkintent': 746,\n",
              " 'orderpizzaintent': 978,\n",
              " 'ordersaladintent': 298,\n",
              " 'ordersideintent': 105,\n",
              " 'providereceipt': 13,\n",
              " 'replacecard': 72,\n",
              " 'reportbrokenphone': 280,\n",
              " 'reportbrokensoftware': 325,\n",
              " 'reportlostcard': 426,\n",
              " 'softwareupdate': 288,\n",
              " 'startorder': 264,\n",
              " 'startserviceintent': 1552,\n",
              " 'stoporder': 10,\n",
              " 'transfermoney': 231,\n",
              " 'updateaddress': 370,\n",
              " 'upgradeserviceintent': 12,\n",
              " 'viewbillsintent': 84}"
            ]
          },
          "metadata": {},
          "execution_count": 11
        }
      ]
    },
    {
      "cell_type": "code",
      "source": [
        "## Get max intent count to match other minority classes through data augmentation\n",
        "import operator\n",
        "max_intent_count = max(intent_count.items(), key=operator.itemgetter(1))[1]"
      ],
      "metadata": {
        "id": "0o44EPeygzKf"
      },
      "execution_count": null,
      "outputs": []
    },
    {
      "cell_type": "code",
      "source": [
        "## Loop to interate all messages\n",
        "import numpy as np\n",
        "import math\n",
        "import tqdm\n",
        "newdf = pd.DataFrame()\n",
        "for intent, count in intent_count.items() :\n",
        "    count_diff = max_intent_count - count    ## Difference to fill\n",
        "    multiplication_count = math.ceil((count_diff)/count)  ## Multiplying a minority classes for multiplication_count times\n",
        "    if (multiplication_count) :\n",
        "        old_message_df = pd.DataFrame()\n",
        "        new_message_df = pd.DataFrame()\n",
        "        for message in tqdm.tqdm(df[df[\"label\"] == intent][\"message\"]) :\n",
        "            ## Extracting existing minority class batch\n",
        "            dummy1 = pd.DataFrame([message], columns=['message'])\n",
        "            dummy1[\"label\"] = intent\n",
        "            old_message_df = old_message_df.append(dummy1)\n",
        "            \n",
        "            ## Creating new augmented batch from existing minority class\n",
        "            new_messages = data_augmentation(message, language, multiplication_count)\n",
        "            dummy2 = pd.DataFrame(new_messages, columns=['message'])\n",
        "            dummy2[\"label\"] = intent\n",
        "            new_message_df = new_message_df.append(dummy2)\n",
        "        \n",
        "        ## Select random data points from augmented data\n",
        "        new_message_df=new_message_df.take(np.random.permutation(len(new_message_df))[:count_diff])\n",
        "        \n",
        "        ## Merge existing and augmented data points\n",
        "        newdf = newdf.append([old_message_df,new_message_df])\n",
        "    else :\n",
        "        newdf = newdf.append(df[df[\"label\"] == intent])"
      ],
      "metadata": {
        "colab": {
          "base_uri": "https://localhost:8080/"
        },
        "id": "pdy0aA-Qgz_3",
        "outputId": "09426eb7-0a12-4699-9b70-e9075859aef1"
      },
      "execution_count": null,
      "outputs": [
        {
          "output_type": "stream",
          "name": "stderr",
          "text": [
            "100%|██████████| 978/978 [28:29<00:00,  1.75s/it]\n",
            "100%|██████████| 952/952 [21:42<00:00,  1.37s/it]\n",
            "100%|██████████| 935/935 [20:39<00:00,  1.33s/it]\n",
            "100%|██████████| 746/746 [42:21<00:00,  3.41s/it]\n",
            "100%|██████████| 655/655 [23:08<00:00,  2.12s/it]\n",
            "100%|██████████| 448/448 [25:45<00:00,  3.45s/it]\n",
            "100%|██████████| 426/426 [25:43<00:00,  3.62s/it]\n",
            "100%|██████████| 370/370 [33:57<00:00,  5.51s/it]\n",
            "100%|██████████| 358/358 [30:32<00:00,  5.12s/it]\n",
            "100%|██████████| 334/334 [29:33<00:00,  5.31s/it]\n",
            "100%|██████████| 325/325 [34:15<00:00,  6.32s/it]\n",
            "100%|██████████| 298/298 [35:39<00:00,  7.18s/it]\n",
            "100%|██████████| 291/291 [31:43<00:00,  6.54s/it]\n",
            "100%|██████████| 288/288 [29:08<00:00,  6.07s/it]\n",
            "100%|██████████| 285/285 [35:53<00:00,  7.55s/it]\n",
            "100%|██████████| 280/280 [30:26<00:00,  6.52s/it]\n",
            "100%|██████████| 264/264 [29:55<00:00,  6.80s/it]\n",
            "100%|██████████| 260/260 [24:38<00:00,  5.69s/it]\n",
            "100%|██████████| 231/231 [34:44<00:00,  9.02s/it]\n",
            "100%|██████████| 221/221 [18:58<00:00,  5.15s/it]\n",
            "100%|██████████| 215/215 [34:01<00:00,  9.50s/it]\n",
            "100%|██████████| 194/194 [32:57<00:00, 10.19s/it]\n",
            "100%|██████████| 129/129 [19:10<00:00,  8.92s/it]\n",
            "100%|██████████| 105/105 [28:34<00:00, 16.33s/it]\n",
            "100%|██████████| 84/84 [20:33<00:00, 14.69s/it]\n",
            "100%|██████████| 72/72 [26:46<00:00, 22.31s/it]\n",
            "100%|██████████| 71/71 [22:50<00:00, 19.31s/it]\n",
            "100%|██████████| 52/52 [19:47<00:00, 22.83s/it]\n",
            "100%|██████████| 52/52 [19:14<00:00, 22.19s/it]\n",
            "100%|██████████| 40/40 [16:14<00:00, 24.35s/it]\n",
            "100%|██████████| 28/28 [15:08<00:00, 32.46s/it]\n",
            "100%|██████████| 26/26 [11:10<00:00, 25.81s/it]\n",
            "100%|██████████| 13/13 [07:29<00:00, 34.60s/it]\n",
            "100%|██████████| 12/12 [07:32<00:00, 37.73s/it]\n",
            "100%|██████████| 10/10 [05:57<00:00, 35.72s/it]\n",
            "100%|██████████| 10/10 [06:36<00:00, 39.65s/it]\n"
          ]
        }
      ]
    },
    {
      "cell_type": "code",
      "source": [
        "## Print count of all new data points\n",
        "newdf.label.value_counts()"
      ],
      "metadata": {
        "colab": {
          "base_uri": "https://localhost:8080/"
        },
        "id": "GkyDijTghAM7",
        "outputId": "a5bab440-856c-41c7-ab6a-148a06da3377"
      },
      "execution_count": null,
      "outputs": [
        {
          "output_type": "execute_result",
          "data": {
            "text/plain": [
              "startserviceintent       1552\n",
              "transfermoney            1552\n",
              "disputecharge            1552\n",
              "getinformationintent     1552\n",
              "checkserverstatus        1552\n",
              "ordersideintent          1552\n",
              "viewbillsintent          1552\n",
              "replacecard              1552\n",
              "closeaccount             1552\n",
              "checkoffereligibility    1552\n",
              "getroutingnumber         1552\n",
              "orderchecks              1552\n",
              "orderbreakfastintent     1552\n",
              "changeorder              1552\n",
              "providereceipt           1552\n",
              "upgradeserviceintent     1552\n",
              "stoporder                1552\n",
              "getseatinfo              1552\n",
              "bookflight               1552\n",
              "orderpizzaintent         1552\n",
              "startorder               1552\n",
              "getproofofinsurance      1552\n",
              "changeseatassignment     1552\n",
              "orderdrinkintent         1552\n",
              "getboardingpass          1552\n",
              "checkclaimstatus         1552\n",
              "reportlostcard           1552\n",
              "updateaddress            1552\n",
              "expensereport            1552\n",
              "checkbalance             1552\n",
              "reportbrokensoftware     1552\n",
              "ordersaladintent         1552\n",
              "orderdessertintent       1552\n",
              "softwareupdate           1552\n",
              "orderburgerintent        1552\n",
              "reportbrokenphone        1552\n",
              "getpromotions            1552\n",
              "Name: label, dtype: int64"
            ]
          },
          "metadata": {},
          "execution_count": 17
        }
      ]
    },
    {
      "cell_type": "code",
      "source": [
        "newdf.to_csv('newdf_full.csv', index=False)"
      ],
      "metadata": {
        "id": "U9FaXojnq-sQ"
      },
      "execution_count": null,
      "outputs": []
    }
  ]
}